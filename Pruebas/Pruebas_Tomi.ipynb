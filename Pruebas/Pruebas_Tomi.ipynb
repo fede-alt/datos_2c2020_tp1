{
 "cells": [
  {
   "cell_type": "code",
   "execution_count": null,
   "metadata": {
    "pycharm": {
     "name": "#%%\n"
    }
   },
   "outputs": [],
   "source": []
  },
  {
   "cell_type": "code",
   "execution_count": 4,
   "metadata": {},
   "outputs": [],
   "source": [
    "\n",
    "import pandas as pd\n",
    "import numpy as np\n",
    "import matplotlib.pyplot as plt\n",
    "import seaborn as sns"
   ]
  },
  {
   "cell_type": "markdown",
   "metadata": {
    "pycharm": {
     "name": "#%% md\n"
    }
   },
   "source": [
    "Levantamos el *dataset*"
   ]
  },
  {
   "cell_type": "code",
   "execution_count": 5,
   "metadata": {
    "collapsed": false,
    "jupyter": {
     "outputs_hidden": false
    },
    "pycharm": {
     "name": "#%%\n"
    }
   },
   "outputs": [],
   "source": [
    "df = pd.read_csv('train.csv')"
   ]
  },
  {
   "cell_type": "code",
   "execution_count": 6,
   "metadata": {
    "collapsed": false,
    "jupyter": {
     "outputs_hidden": false
    },
    "pycharm": {
     "name": "#%%\n"
    }
   },
   "outputs": [
    {
     "data": {
      "text/html": [
       "<div>\n",
       "<style scoped>\n",
       "    .dataframe tbody tr th:only-of-type {\n",
       "        vertical-align: middle;\n",
       "    }\n",
       "\n",
       "    .dataframe tbody tr th {\n",
       "        vertical-align: top;\n",
       "    }\n",
       "\n",
       "    .dataframe thead th {\n",
       "        text-align: right;\n",
       "    }\n",
       "</style>\n",
       "<table border=\"1\" class=\"dataframe\">\n",
       "  <thead>\n",
       "    <tr style=\"text-align: right;\">\n",
       "      <th></th>\n",
       "      <th>ID</th>\n",
       "      <th>Region</th>\n",
       "      <th>Territory</th>\n",
       "      <th>Pricing, Delivery_Terms_Quote_Appr</th>\n",
       "      <th>Pricing, Delivery_Terms_Approved</th>\n",
       "      <th>Bureaucratic_Code_0_Approval</th>\n",
       "      <th>Bureaucratic_Code_0_Approved</th>\n",
       "      <th>Submitted_for_Approval</th>\n",
       "      <th>Bureaucratic_Code</th>\n",
       "      <th>Account_Created_Date</th>\n",
       "      <th>...</th>\n",
       "      <th>Delivery_Quarter</th>\n",
       "      <th>Delivery_Year</th>\n",
       "      <th>Actual_Delivery_Date</th>\n",
       "      <th>TRF</th>\n",
       "      <th>Total_Amount_Currency</th>\n",
       "      <th>Total_Amount</th>\n",
       "      <th>Total_Taxable_Amount_Currency</th>\n",
       "      <th>Total_Taxable_Amount</th>\n",
       "      <th>Stage</th>\n",
       "      <th>Prod_Category_A</th>\n",
       "    </tr>\n",
       "  </thead>\n",
       "  <tbody>\n",
       "    <tr>\n",
       "      <th>0</th>\n",
       "      <td>27761</td>\n",
       "      <td>EMEA</td>\n",
       "      <td>None</td>\n",
       "      <td>1</td>\n",
       "      <td>1</td>\n",
       "      <td>1</td>\n",
       "      <td>1</td>\n",
       "      <td>0</td>\n",
       "      <td>Bureaucratic_Code_4</td>\n",
       "      <td>6/16/2015</td>\n",
       "      <td>...</td>\n",
       "      <td>Q2</td>\n",
       "      <td>2016</td>\n",
       "      <td>NaT</td>\n",
       "      <td>10</td>\n",
       "      <td>EUR</td>\n",
       "      <td>5272800.0</td>\n",
       "      <td>EUR</td>\n",
       "      <td>5272800.0</td>\n",
       "      <td>Closed Lost</td>\n",
       "      <td>Prod_Category_A_None</td>\n",
       "    </tr>\n",
       "    <tr>\n",
       "      <th>1</th>\n",
       "      <td>27760</td>\n",
       "      <td>EMEA</td>\n",
       "      <td>None</td>\n",
       "      <td>0</td>\n",
       "      <td>0</td>\n",
       "      <td>0</td>\n",
       "      <td>0</td>\n",
       "      <td>0</td>\n",
       "      <td>Bureaucratic_Code_4</td>\n",
       "      <td>6/16/2015</td>\n",
       "      <td>...</td>\n",
       "      <td>Q1</td>\n",
       "      <td>2016</td>\n",
       "      <td>NaT</td>\n",
       "      <td>0</td>\n",
       "      <td>EUR</td>\n",
       "      <td>48230.0</td>\n",
       "      <td>EUR</td>\n",
       "      <td>48230.0</td>\n",
       "      <td>Closed Won</td>\n",
       "      <td>Prod_Category_A_None</td>\n",
       "    </tr>\n",
       "    <tr>\n",
       "      <th>2</th>\n",
       "      <td>27446</td>\n",
       "      <td>Americas</td>\n",
       "      <td>NW America</td>\n",
       "      <td>0</td>\n",
       "      <td>0</td>\n",
       "      <td>0</td>\n",
       "      <td>0</td>\n",
       "      <td>0</td>\n",
       "      <td>Bureaucratic_Code_4</td>\n",
       "      <td>4/21/2015</td>\n",
       "      <td>...</td>\n",
       "      <td>Q1</td>\n",
       "      <td>2016</td>\n",
       "      <td>NaT</td>\n",
       "      <td>0</td>\n",
       "      <td>USD</td>\n",
       "      <td>83865.6</td>\n",
       "      <td>USD</td>\n",
       "      <td>83865.6</td>\n",
       "      <td>Closed Won</td>\n",
       "      <td>Prod_Category_A_None</td>\n",
       "    </tr>\n",
       "    <tr>\n",
       "      <th>3</th>\n",
       "      <td>16808</td>\n",
       "      <td>Americas</td>\n",
       "      <td>NW America</td>\n",
       "      <td>1</td>\n",
       "      <td>0</td>\n",
       "      <td>1</td>\n",
       "      <td>0</td>\n",
       "      <td>0</td>\n",
       "      <td>Bureaucratic_Code_5</td>\n",
       "      <td>7/27/2013</td>\n",
       "      <td>...</td>\n",
       "      <td>Q1</td>\n",
       "      <td>2018</td>\n",
       "      <td>NaT</td>\n",
       "      <td>14</td>\n",
       "      <td>USD</td>\n",
       "      <td>7421881.5</td>\n",
       "      <td>USD</td>\n",
       "      <td>7421881.5</td>\n",
       "      <td>Closed Lost</td>\n",
       "      <td>Prod_Category_A_None</td>\n",
       "    </tr>\n",
       "    <tr>\n",
       "      <th>4</th>\n",
       "      <td>16805</td>\n",
       "      <td>Americas</td>\n",
       "      <td>NW America</td>\n",
       "      <td>1</td>\n",
       "      <td>0</td>\n",
       "      <td>1</td>\n",
       "      <td>0</td>\n",
       "      <td>0</td>\n",
       "      <td>Bureaucratic_Code_5</td>\n",
       "      <td>7/27/2013</td>\n",
       "      <td>...</td>\n",
       "      <td>Q1</td>\n",
       "      <td>2018</td>\n",
       "      <td>NaT</td>\n",
       "      <td>25</td>\n",
       "      <td>USD</td>\n",
       "      <td>13357192.5</td>\n",
       "      <td>USD</td>\n",
       "      <td>13357192.5</td>\n",
       "      <td>Closed Lost</td>\n",
       "      <td>Prod_Category_A_None</td>\n",
       "    </tr>\n",
       "  </tbody>\n",
       "</table>\n",
       "<p>5 rows × 52 columns</p>\n",
       "</div>"
      ],
      "text/plain": [
       "      ID    Region   Territory  Pricing, Delivery_Terms_Quote_Appr  \\\n",
       "0  27761      EMEA        None                                   1   \n",
       "1  27760      EMEA        None                                   0   \n",
       "2  27446  Americas  NW America                                   0   \n",
       "3  16808  Americas  NW America                                   1   \n",
       "4  16805  Americas  NW America                                   1   \n",
       "\n",
       "   Pricing, Delivery_Terms_Approved  Bureaucratic_Code_0_Approval  \\\n",
       "0                                 1                             1   \n",
       "1                                 0                             0   \n",
       "2                                 0                             0   \n",
       "3                                 0                             1   \n",
       "4                                 0                             1   \n",
       "\n",
       "   Bureaucratic_Code_0_Approved  Submitted_for_Approval    Bureaucratic_Code  \\\n",
       "0                             1                       0  Bureaucratic_Code_4   \n",
       "1                             0                       0  Bureaucratic_Code_4   \n",
       "2                             0                       0  Bureaucratic_Code_4   \n",
       "3                             0                       0  Bureaucratic_Code_5   \n",
       "4                             0                       0  Bureaucratic_Code_5   \n",
       "\n",
       "  Account_Created_Date  ... Delivery_Quarter Delivery_Year  \\\n",
       "0            6/16/2015  ...               Q2          2016   \n",
       "1            6/16/2015  ...               Q1          2016   \n",
       "2            4/21/2015  ...               Q1          2016   \n",
       "3            7/27/2013  ...               Q1          2018   \n",
       "4            7/27/2013  ...               Q1          2018   \n",
       "\n",
       "  Actual_Delivery_Date TRF  Total_Amount_Currency Total_Amount  \\\n",
       "0                  NaT  10                    EUR    5272800.0   \n",
       "1                  NaT   0                    EUR      48230.0   \n",
       "2                  NaT   0                    USD      83865.6   \n",
       "3                  NaT  14                    USD    7421881.5   \n",
       "4                  NaT  25                    USD   13357192.5   \n",
       "\n",
       "  Total_Taxable_Amount_Currency Total_Taxable_Amount        Stage  \\\n",
       "0                           EUR            5272800.0  Closed Lost   \n",
       "1                           EUR              48230.0   Closed Won   \n",
       "2                           USD              83865.6   Closed Won   \n",
       "3                           USD            7421881.5  Closed Lost   \n",
       "4                           USD           13357192.5  Closed Lost   \n",
       "\n",
       "        Prod_Category_A  \n",
       "0  Prod_Category_A_None  \n",
       "1  Prod_Category_A_None  \n",
       "2  Prod_Category_A_None  \n",
       "3  Prod_Category_A_None  \n",
       "4  Prod_Category_A_None  \n",
       "\n",
       "[5 rows x 52 columns]"
      ]
     },
     "execution_count": 6,
     "metadata": {},
     "output_type": "execute_result"
    }
   ],
   "source": [
    "df.head()"
   ]
  },
  {
   "cell_type": "markdown",
   "metadata": {
    "pycharm": {
     "name": "#%% md\n"
    }
   },
   "source": [
    "Vemos el tipo de cada columna"
   ]
  },
  {
   "cell_type": "code",
   "execution_count": 7,
   "metadata": {
    "collapsed": false,
    "jupyter": {
     "outputs_hidden": false
    },
    "pycharm": {
     "name": "#%%\n"
    }
   },
   "outputs": [
    {
     "name": "stdout",
     "output_type": "stream",
     "text": [
      "<class 'pandas.core.frame.DataFrame'>\n",
      "RangeIndex: 16947 entries, 0 to 16946\n",
      "Data columns (total 52 columns):\n",
      " #   Column                              Non-Null Count  Dtype  \n",
      "---  ------                              --------------  -----  \n",
      " 0   ID                                  16947 non-null  int64  \n",
      " 1   Region                              16947 non-null  object \n",
      " 2   Territory                           16947 non-null  object \n",
      " 3   Pricing, Delivery_Terms_Quote_Appr  16947 non-null  int64  \n",
      " 4   Pricing, Delivery_Terms_Approved    16947 non-null  int64  \n",
      " 5   Bureaucratic_Code_0_Approval        16947 non-null  int64  \n",
      " 6   Bureaucratic_Code_0_Approved        16947 non-null  int64  \n",
      " 7   Submitted_for_Approval              16947 non-null  int64  \n",
      " 8   Bureaucratic_Code                   16947 non-null  object \n",
      " 9   Account_Created_Date                16947 non-null  object \n",
      " 10  Source                              16947 non-null  object \n",
      " 11  Billing_Country                     16947 non-null  object \n",
      " 12  Account_Name                        16947 non-null  object \n",
      " 13  Opportunity_Name                    16947 non-null  object \n",
      " 14  Opportunity_ID                      16947 non-null  int64  \n",
      " 15  Sales_Contract_No                   16947 non-null  object \n",
      " 16  Account_Owner                       16947 non-null  object \n",
      " 17  Opportunity_Owner                   16947 non-null  object \n",
      " 18  Account_Type                        16947 non-null  object \n",
      " 19  Opportunity_Type                    16947 non-null  object \n",
      " 20  Quote_Type                          16947 non-null  object \n",
      " 21  Delivery_Terms                      16947 non-null  object \n",
      " 22  Opportunity_Created_Date            16947 non-null  object \n",
      " 23  Brand                               16947 non-null  object \n",
      " 24  Product_Type                        16947 non-null  object \n",
      " 25  Size                                16947 non-null  object \n",
      " 26  Product_Category_B                  16947 non-null  object \n",
      " 27  Price                               16947 non-null  object \n",
      " 28  Currency                            16947 non-null  object \n",
      " 29  Last_Activity                       16947 non-null  object \n",
      " 30  Quote_Expiry_Date                   16947 non-null  object \n",
      " 31  Last_Modified_Date                  16947 non-null  object \n",
      " 32  Last_Modified_By                    16947 non-null  object \n",
      " 33  Product_Family                      16947 non-null  object \n",
      " 34  Product_Name                        16947 non-null  object \n",
      " 35  ASP_Currency                        16947 non-null  object \n",
      " 36  ASP                                 13738 non-null  float64\n",
      " 37  ASP_(converted)_Currency            16947 non-null  object \n",
      " 38  ASP_(converted)                     13738 non-null  float64\n",
      " 39  Planned_Delivery_Start_Date         16947 non-null  object \n",
      " 40  Planned_Delivery_End_Date           16947 non-null  object \n",
      " 41  Month                               16947 non-null  object \n",
      " 42  Delivery_Quarter                    16947 non-null  object \n",
      " 43  Delivery_Year                       16947 non-null  int64  \n",
      " 44  Actual_Delivery_Date                16947 non-null  object \n",
      " 45  TRF                                 16947 non-null  int64  \n",
      " 46  Total_Amount_Currency               16947 non-null  object \n",
      " 47  Total_Amount                        16888 non-null  float64\n",
      " 48  Total_Taxable_Amount_Currency       16947 non-null  object \n",
      " 49  Total_Taxable_Amount                16947 non-null  float64\n",
      " 50  Stage                               16947 non-null  object \n",
      " 51  Prod_Category_A                     16947 non-null  object \n",
      "dtypes: float64(4), int64(9), object(39)\n",
      "memory usage: 6.7+ MB\n"
     ]
    }
   ],
   "source": [
    "df.info()"
   ]
  },
  {
   "cell_type": "markdown",
   "metadata": {
    "pycharm": {
     "name": "#%% md\n"
    }
   },
   "source": [
    "Veamos si los ID son únicos, así los podemos usar como clave"
   ]
  },
  {
   "cell_type": "code",
   "execution_count": 8,
   "metadata": {
    "collapsed": false,
    "jupyter": {
     "outputs_hidden": false
    },
    "pycharm": {
     "name": "#%%\n"
    }
   },
   "outputs": [
    {
     "data": {
      "text/plain": [
       "6141     1\n",
       "27384    1\n",
       "21263    1\n",
       "19212    1\n",
       "25353    1\n",
       "Name: ID, dtype: int64"
      ]
     },
     "execution_count": 8,
     "metadata": {},
     "output_type": "execute_result"
    }
   ],
   "source": [
    "df['ID'].value_counts().head()"
   ]
  },
  {
   "cell_type": "markdown",
   "metadata": {
    "pycharm": {
     "name": "#%% md\n"
    }
   },
   "source": [
    "Son únicos porque el mayor es 1. Así que van como clave:"
   ]
  },
  {
   "cell_type": "code",
   "execution_count": 9,
   "metadata": {
    "collapsed": false,
    "jupyter": {
     "outputs_hidden": false
    },
    "pycharm": {
     "name": "#%%\n"
    }
   },
   "outputs": [
    {
     "data": {
      "text/html": [
       "<div>\n",
       "<style scoped>\n",
       "    .dataframe tbody tr th:only-of-type {\n",
       "        vertical-align: middle;\n",
       "    }\n",
       "\n",
       "    .dataframe tbody tr th {\n",
       "        vertical-align: top;\n",
       "    }\n",
       "\n",
       "    .dataframe thead th {\n",
       "        text-align: right;\n",
       "    }\n",
       "</style>\n",
       "<table border=\"1\" class=\"dataframe\">\n",
       "  <thead>\n",
       "    <tr style=\"text-align: right;\">\n",
       "      <th></th>\n",
       "      <th>Region</th>\n",
       "      <th>Territory</th>\n",
       "      <th>Pricing, Delivery_Terms_Quote_Appr</th>\n",
       "      <th>Pricing, Delivery_Terms_Approved</th>\n",
       "      <th>Bureaucratic_Code_0_Approval</th>\n",
       "      <th>Bureaucratic_Code_0_Approved</th>\n",
       "      <th>Submitted_for_Approval</th>\n",
       "      <th>Bureaucratic_Code</th>\n",
       "      <th>Account_Created_Date</th>\n",
       "      <th>Source</th>\n",
       "      <th>...</th>\n",
       "      <th>Delivery_Quarter</th>\n",
       "      <th>Delivery_Year</th>\n",
       "      <th>Actual_Delivery_Date</th>\n",
       "      <th>TRF</th>\n",
       "      <th>Total_Amount_Currency</th>\n",
       "      <th>Total_Amount</th>\n",
       "      <th>Total_Taxable_Amount_Currency</th>\n",
       "      <th>Total_Taxable_Amount</th>\n",
       "      <th>Stage</th>\n",
       "      <th>Prod_Category_A</th>\n",
       "    </tr>\n",
       "    <tr>\n",
       "      <th>ID</th>\n",
       "      <th></th>\n",
       "      <th></th>\n",
       "      <th></th>\n",
       "      <th></th>\n",
       "      <th></th>\n",
       "      <th></th>\n",
       "      <th></th>\n",
       "      <th></th>\n",
       "      <th></th>\n",
       "      <th></th>\n",
       "      <th></th>\n",
       "      <th></th>\n",
       "      <th></th>\n",
       "      <th></th>\n",
       "      <th></th>\n",
       "      <th></th>\n",
       "      <th></th>\n",
       "      <th></th>\n",
       "      <th></th>\n",
       "      <th></th>\n",
       "      <th></th>\n",
       "    </tr>\n",
       "  </thead>\n",
       "  <tbody>\n",
       "    <tr>\n",
       "      <th>27761</th>\n",
       "      <td>EMEA</td>\n",
       "      <td>None</td>\n",
       "      <td>1</td>\n",
       "      <td>1</td>\n",
       "      <td>1</td>\n",
       "      <td>1</td>\n",
       "      <td>0</td>\n",
       "      <td>Bureaucratic_Code_4</td>\n",
       "      <td>6/16/2015</td>\n",
       "      <td>None</td>\n",
       "      <td>...</td>\n",
       "      <td>Q2</td>\n",
       "      <td>2016</td>\n",
       "      <td>NaT</td>\n",
       "      <td>10</td>\n",
       "      <td>EUR</td>\n",
       "      <td>5272800.0</td>\n",
       "      <td>EUR</td>\n",
       "      <td>5272800.0</td>\n",
       "      <td>Closed Lost</td>\n",
       "      <td>Prod_Category_A_None</td>\n",
       "    </tr>\n",
       "    <tr>\n",
       "      <th>27760</th>\n",
       "      <td>EMEA</td>\n",
       "      <td>None</td>\n",
       "      <td>0</td>\n",
       "      <td>0</td>\n",
       "      <td>0</td>\n",
       "      <td>0</td>\n",
       "      <td>0</td>\n",
       "      <td>Bureaucratic_Code_4</td>\n",
       "      <td>6/16/2015</td>\n",
       "      <td>None</td>\n",
       "      <td>...</td>\n",
       "      <td>Q1</td>\n",
       "      <td>2016</td>\n",
       "      <td>NaT</td>\n",
       "      <td>0</td>\n",
       "      <td>EUR</td>\n",
       "      <td>48230.0</td>\n",
       "      <td>EUR</td>\n",
       "      <td>48230.0</td>\n",
       "      <td>Closed Won</td>\n",
       "      <td>Prod_Category_A_None</td>\n",
       "    </tr>\n",
       "    <tr>\n",
       "      <th>27446</th>\n",
       "      <td>Americas</td>\n",
       "      <td>NW America</td>\n",
       "      <td>0</td>\n",
       "      <td>0</td>\n",
       "      <td>0</td>\n",
       "      <td>0</td>\n",
       "      <td>0</td>\n",
       "      <td>Bureaucratic_Code_4</td>\n",
       "      <td>4/21/2015</td>\n",
       "      <td>Source_7</td>\n",
       "      <td>...</td>\n",
       "      <td>Q1</td>\n",
       "      <td>2016</td>\n",
       "      <td>NaT</td>\n",
       "      <td>0</td>\n",
       "      <td>USD</td>\n",
       "      <td>83865.6</td>\n",
       "      <td>USD</td>\n",
       "      <td>83865.6</td>\n",
       "      <td>Closed Won</td>\n",
       "      <td>Prod_Category_A_None</td>\n",
       "    </tr>\n",
       "    <tr>\n",
       "      <th>16808</th>\n",
       "      <td>Americas</td>\n",
       "      <td>NW America</td>\n",
       "      <td>1</td>\n",
       "      <td>0</td>\n",
       "      <td>1</td>\n",
       "      <td>0</td>\n",
       "      <td>0</td>\n",
       "      <td>Bureaucratic_Code_5</td>\n",
       "      <td>7/27/2013</td>\n",
       "      <td>Source_11</td>\n",
       "      <td>...</td>\n",
       "      <td>Q1</td>\n",
       "      <td>2018</td>\n",
       "      <td>NaT</td>\n",
       "      <td>14</td>\n",
       "      <td>USD</td>\n",
       "      <td>7421881.5</td>\n",
       "      <td>USD</td>\n",
       "      <td>7421881.5</td>\n",
       "      <td>Closed Lost</td>\n",
       "      <td>Prod_Category_A_None</td>\n",
       "    </tr>\n",
       "    <tr>\n",
       "      <th>16805</th>\n",
       "      <td>Americas</td>\n",
       "      <td>NW America</td>\n",
       "      <td>1</td>\n",
       "      <td>0</td>\n",
       "      <td>1</td>\n",
       "      <td>0</td>\n",
       "      <td>0</td>\n",
       "      <td>Bureaucratic_Code_5</td>\n",
       "      <td>7/27/2013</td>\n",
       "      <td>Source_11</td>\n",
       "      <td>...</td>\n",
       "      <td>Q1</td>\n",
       "      <td>2018</td>\n",
       "      <td>NaT</td>\n",
       "      <td>25</td>\n",
       "      <td>USD</td>\n",
       "      <td>13357192.5</td>\n",
       "      <td>USD</td>\n",
       "      <td>13357192.5</td>\n",
       "      <td>Closed Lost</td>\n",
       "      <td>Prod_Category_A_None</td>\n",
       "    </tr>\n",
       "  </tbody>\n",
       "</table>\n",
       "<p>5 rows × 51 columns</p>\n",
       "</div>"
      ],
      "text/plain": [
       "         Region   Territory  Pricing, Delivery_Terms_Quote_Appr  \\\n",
       "ID                                                                \n",
       "27761      EMEA        None                                   1   \n",
       "27760      EMEA        None                                   0   \n",
       "27446  Americas  NW America                                   0   \n",
       "16808  Americas  NW America                                   1   \n",
       "16805  Americas  NW America                                   1   \n",
       "\n",
       "       Pricing, Delivery_Terms_Approved  Bureaucratic_Code_0_Approval  \\\n",
       "ID                                                                      \n",
       "27761                                 1                             1   \n",
       "27760                                 0                             0   \n",
       "27446                                 0                             0   \n",
       "16808                                 0                             1   \n",
       "16805                                 0                             1   \n",
       "\n",
       "       Bureaucratic_Code_0_Approved  Submitted_for_Approval  \\\n",
       "ID                                                            \n",
       "27761                             1                       0   \n",
       "27760                             0                       0   \n",
       "27446                             0                       0   \n",
       "16808                             0                       0   \n",
       "16805                             0                       0   \n",
       "\n",
       "         Bureaucratic_Code Account_Created_Date    Source   ...  \\\n",
       "ID                                                          ...   \n",
       "27761  Bureaucratic_Code_4            6/16/2015       None  ...   \n",
       "27760  Bureaucratic_Code_4            6/16/2015       None  ...   \n",
       "27446  Bureaucratic_Code_4            4/21/2015   Source_7  ...   \n",
       "16808  Bureaucratic_Code_5            7/27/2013  Source_11  ...   \n",
       "16805  Bureaucratic_Code_5            7/27/2013  Source_11  ...   \n",
       "\n",
       "      Delivery_Quarter Delivery_Year Actual_Delivery_Date  TRF  \\\n",
       "ID                                                               \n",
       "27761               Q2          2016                  NaT   10   \n",
       "27760               Q1          2016                  NaT    0   \n",
       "27446               Q1          2016                  NaT    0   \n",
       "16808               Q1          2018                  NaT   14   \n",
       "16805               Q1          2018                  NaT   25   \n",
       "\n",
       "      Total_Amount_Currency Total_Amount Total_Taxable_Amount_Currency  \\\n",
       "ID                                                                       \n",
       "27761                   EUR    5272800.0                           EUR   \n",
       "27760                   EUR      48230.0                           EUR   \n",
       "27446                   USD      83865.6                           USD   \n",
       "16808                   USD    7421881.5                           USD   \n",
       "16805                   USD   13357192.5                           USD   \n",
       "\n",
       "      Total_Taxable_Amount        Stage       Prod_Category_A  \n",
       "ID                                                             \n",
       "27761            5272800.0  Closed Lost  Prod_Category_A_None  \n",
       "27760              48230.0   Closed Won  Prod_Category_A_None  \n",
       "27446              83865.6   Closed Won  Prod_Category_A_None  \n",
       "16808            7421881.5  Closed Lost  Prod_Category_A_None  \n",
       "16805           13357192.5  Closed Lost  Prod_Category_A_None  \n",
       "\n",
       "[5 rows x 51 columns]"
      ]
     },
     "execution_count": 9,
     "metadata": {},
     "output_type": "execute_result"
    }
   ],
   "source": [
    "df = df.set_index('ID')\n",
    "df.head()"
   ]
  },
  {
   "cell_type": "markdown",
   "metadata": {
    "pycharm": {
     "name": "#%% md\n"
    }
   },
   "source": [
    "---\n",
    "## Limpieza del *dataset*\n",
    "\n",
    "Por enunciado:\n",
    "\n",
    "* Hay columnas levantadas como `object` que deberían ser `date`.\n",
    "* Otras como `int64` que deberían ser `bool`.\n",
    "* Y otras como `object` que deberían ser `categorical`."
   ]
  },
  {
   "cell_type": "code",
   "execution_count": 10,
   "metadata": {
    "collapsed": false,
    "jupyter": {
     "outputs_hidden": false
    },
    "pycharm": {
     "name": "#%%\n"
    }
   },
   "outputs": [],
   "source": [
    "# Las date van directo como lista como parámetro para parse_dates\n",
    "date_columns = [\n",
    "                'Account_Created_Date',\n",
    "                'Opportunity_Created_Date',\n",
    "                'Quote_Expiry_Date',\n",
    "                'Last_Modified_Date',\n",
    "                'Planned_Delivery_Start_Date',\n",
    "                'Planned_Delivery_End_Date',\n",
    "]"
   ]
  },
  {
   "cell_type": "code",
   "execution_count": 11,
   "metadata": {
    "collapsed": false,
    "jupyter": {
     "outputs_hidden": false
    },
    "pycharm": {
     "name": "#%%\n"
    }
   },
   "outputs": [],
   "source": [
    "# El resto va como dict. Las vamos sumando de a uno al dict 'column_types'\n",
    "bool_columns = [\n",
    "                'Pricing, Delivery_Terms_Quote_Appr',\n",
    "                'Pricing, Delivery_Terms_Approved',\n",
    "                'Bureaucratic_Code_0_Approval',\n",
    "                'Bureaucratic_Code_0_Approved',\n",
    "                'Submitted_for_Approval'\n",
    "]\n",
    "column_types = {col:'bool' for col in bool_columns}\n",
    "\n",
    "categorical_columns = [\n",
    "    'Region',\n",
    "    'Territory',\n",
    "    'Bureaucratic_Code',\n",
    "    'Source ',\n",
    "    'Billing_Country',\n",
    "    'Account_Name',\n",
    "    'Opportunity_Name',\n",
    "    'Account_Owner',\n",
    "    'Opportunity_Owner',\n",
    "    'Account_Type',\n",
    "    'Opportunity_Type',\n",
    "    'Quote_Type',\n",
    "    'Delivery_Terms',\n",
    "    'Brand',\n",
    "    'Product_Type',\n",
    "    'Size',\n",
    "    'Product_Category_B',\n",
    "    'Currency',\n",
    "    'Last_Modified_By',\n",
    "    'Product_Family',\n",
    "    'Product_Name',\n",
    "    'ASP_Currency',\n",
    "    'ASP_(converted)_Currency',\n",
    "    'Delivery_Quarter',\n",
    "    'Total_Amount_Currency',\n",
    "    'Total_Taxable_Amount_Currency',\n",
    "    'Stage',\n",
    "    'Prod_Category_A'\n",
    "]\n",
    "column_types.update({col:'category' for col in categorical_columns})"
   ]
  },
  {
   "cell_type": "code",
   "execution_count": 12,
   "metadata": {
    "collapsed": false,
    "jupyter": {
     "outputs_hidden": false
    },
    "pycharm": {
     "name": "#%%\n"
    }
   },
   "outputs": [],
   "source": [
    "# Excluidos porque son todos None\n",
    "empty = ['Actual_Delivery_Date', 'Last_Activity']"
   ]
  },
  {
   "cell_type": "markdown",
   "metadata": {
    "pycharm": {
     "name": "#%% md\n"
    }
   },
   "source": [
    "## Carga y limpieza definitiva del csv\n",
    "### Columnas a las que les cambiamos el tipo:\n",
    "* Todas las fechas a `datetime`\n",
    "* Varios `object` a `categorical`\n",
    "\n",
    "### Columnas que no levantamos directo:\n",
    "* `'Actual_Delivery_Date'` como datetime64 (todos nan) -->  `use_cols`\n",
    "* `'Last_Activity'` como datetime64 (todos nan) --> `use_cols`\n",
    "* `'Sales_Contract_No'` como int64 (tiene 'None's) --> `fillna(0).astype()`\n",
    "* `'Price'` como float64 (tiene 'None's) --> `na_values`"
   ]
  },
  {
   "cell_type": "code",
   "execution_count": 13,
   "metadata": {
    "collapsed": false,
    "jupyter": {
     "outputs_hidden": false
    },
    "pycharm": {
     "name": "#%%\n"
    }
   },
   "outputs": [
    {
     "data": {
      "text/html": [
       "<div>\n",
       "<style scoped>\n",
       "    .dataframe tbody tr th:only-of-type {\n",
       "        vertical-align: middle;\n",
       "    }\n",
       "\n",
       "    .dataframe tbody tr th {\n",
       "        vertical-align: top;\n",
       "    }\n",
       "\n",
       "    .dataframe thead th {\n",
       "        text-align: right;\n",
       "    }\n",
       "</style>\n",
       "<table border=\"1\" class=\"dataframe\">\n",
       "  <thead>\n",
       "    <tr style=\"text-align: right;\">\n",
       "      <th></th>\n",
       "      <th>Region</th>\n",
       "      <th>Territory</th>\n",
       "      <th>Pricing, Delivery_Terms_Quote_Appr</th>\n",
       "      <th>Pricing, Delivery_Terms_Approved</th>\n",
       "      <th>Bureaucratic_Code_0_Approval</th>\n",
       "      <th>Bureaucratic_Code_0_Approved</th>\n",
       "      <th>Submitted_for_Approval</th>\n",
       "      <th>Bureaucratic_Code</th>\n",
       "      <th>Account_Created_Date</th>\n",
       "      <th>Source</th>\n",
       "      <th>...</th>\n",
       "      <th>Month</th>\n",
       "      <th>Delivery_Quarter</th>\n",
       "      <th>Delivery_Year</th>\n",
       "      <th>TRF</th>\n",
       "      <th>Total_Amount_Currency</th>\n",
       "      <th>Total_Amount</th>\n",
       "      <th>Total_Taxable_Amount_Currency</th>\n",
       "      <th>Total_Taxable_Amount</th>\n",
       "      <th>Stage</th>\n",
       "      <th>Prod_Category_A</th>\n",
       "    </tr>\n",
       "    <tr>\n",
       "      <th>ID</th>\n",
       "      <th></th>\n",
       "      <th></th>\n",
       "      <th></th>\n",
       "      <th></th>\n",
       "      <th></th>\n",
       "      <th></th>\n",
       "      <th></th>\n",
       "      <th></th>\n",
       "      <th></th>\n",
       "      <th></th>\n",
       "      <th></th>\n",
       "      <th></th>\n",
       "      <th></th>\n",
       "      <th></th>\n",
       "      <th></th>\n",
       "      <th></th>\n",
       "      <th></th>\n",
       "      <th></th>\n",
       "      <th></th>\n",
       "      <th></th>\n",
       "      <th></th>\n",
       "    </tr>\n",
       "  </thead>\n",
       "  <tbody>\n",
       "    <tr>\n",
       "      <th>27761</th>\n",
       "      <td>EMEA</td>\n",
       "      <td>NaN</td>\n",
       "      <td>True</td>\n",
       "      <td>True</td>\n",
       "      <td>True</td>\n",
       "      <td>True</td>\n",
       "      <td>False</td>\n",
       "      <td>Bureaucratic_Code_4</td>\n",
       "      <td>2015-06-16</td>\n",
       "      <td>NaN</td>\n",
       "      <td>...</td>\n",
       "      <td>2016-05-01</td>\n",
       "      <td>Q2</td>\n",
       "      <td>2016</td>\n",
       "      <td>10</td>\n",
       "      <td>EUR</td>\n",
       "      <td>5272800.0</td>\n",
       "      <td>EUR</td>\n",
       "      <td>5272800.0</td>\n",
       "      <td>Closed Lost</td>\n",
       "      <td>Prod_Category_A_None</td>\n",
       "    </tr>\n",
       "    <tr>\n",
       "      <th>27760</th>\n",
       "      <td>EMEA</td>\n",
       "      <td>NaN</td>\n",
       "      <td>False</td>\n",
       "      <td>False</td>\n",
       "      <td>False</td>\n",
       "      <td>False</td>\n",
       "      <td>False</td>\n",
       "      <td>Bureaucratic_Code_4</td>\n",
       "      <td>2015-06-16</td>\n",
       "      <td>NaN</td>\n",
       "      <td>...</td>\n",
       "      <td>2016-01-01</td>\n",
       "      <td>Q1</td>\n",
       "      <td>2016</td>\n",
       "      <td>0</td>\n",
       "      <td>EUR</td>\n",
       "      <td>48230.0</td>\n",
       "      <td>EUR</td>\n",
       "      <td>48230.0</td>\n",
       "      <td>Closed Won</td>\n",
       "      <td>Prod_Category_A_None</td>\n",
       "    </tr>\n",
       "    <tr>\n",
       "      <th>27446</th>\n",
       "      <td>Americas</td>\n",
       "      <td>NW America</td>\n",
       "      <td>False</td>\n",
       "      <td>False</td>\n",
       "      <td>False</td>\n",
       "      <td>False</td>\n",
       "      <td>False</td>\n",
       "      <td>Bureaucratic_Code_4</td>\n",
       "      <td>2015-04-21</td>\n",
       "      <td>Source_7</td>\n",
       "      <td>...</td>\n",
       "      <td>2016-01-01</td>\n",
       "      <td>Q1</td>\n",
       "      <td>2016</td>\n",
       "      <td>0</td>\n",
       "      <td>USD</td>\n",
       "      <td>83865.6</td>\n",
       "      <td>USD</td>\n",
       "      <td>83865.6</td>\n",
       "      <td>Closed Won</td>\n",
       "      <td>Prod_Category_A_None</td>\n",
       "    </tr>\n",
       "    <tr>\n",
       "      <th>16808</th>\n",
       "      <td>Americas</td>\n",
       "      <td>NW America</td>\n",
       "      <td>True</td>\n",
       "      <td>False</td>\n",
       "      <td>True</td>\n",
       "      <td>False</td>\n",
       "      <td>False</td>\n",
       "      <td>Bureaucratic_Code_5</td>\n",
       "      <td>2013-07-27</td>\n",
       "      <td>Source_11</td>\n",
       "      <td>...</td>\n",
       "      <td>2018-02-01</td>\n",
       "      <td>Q1</td>\n",
       "      <td>2018</td>\n",
       "      <td>14</td>\n",
       "      <td>USD</td>\n",
       "      <td>7421881.5</td>\n",
       "      <td>USD</td>\n",
       "      <td>7421881.5</td>\n",
       "      <td>Closed Lost</td>\n",
       "      <td>Prod_Category_A_None</td>\n",
       "    </tr>\n",
       "    <tr>\n",
       "      <th>16805</th>\n",
       "      <td>Americas</td>\n",
       "      <td>NW America</td>\n",
       "      <td>True</td>\n",
       "      <td>False</td>\n",
       "      <td>True</td>\n",
       "      <td>False</td>\n",
       "      <td>False</td>\n",
       "      <td>Bureaucratic_Code_5</td>\n",
       "      <td>2013-07-27</td>\n",
       "      <td>Source_11</td>\n",
       "      <td>...</td>\n",
       "      <td>2018-02-01</td>\n",
       "      <td>Q1</td>\n",
       "      <td>2018</td>\n",
       "      <td>25</td>\n",
       "      <td>USD</td>\n",
       "      <td>13357192.5</td>\n",
       "      <td>USD</td>\n",
       "      <td>13357192.5</td>\n",
       "      <td>Closed Lost</td>\n",
       "      <td>Prod_Category_A_None</td>\n",
       "    </tr>\n",
       "  </tbody>\n",
       "</table>\n",
       "<p>5 rows × 49 columns</p>\n",
       "</div>"
      ],
      "text/plain": [
       "         Region   Territory  Pricing, Delivery_Terms_Quote_Appr  \\\n",
       "ID                                                                \n",
       "27761      EMEA         NaN                                True   \n",
       "27760      EMEA         NaN                               False   \n",
       "27446  Americas  NW America                               False   \n",
       "16808  Americas  NW America                                True   \n",
       "16805  Americas  NW America                                True   \n",
       "\n",
       "       Pricing, Delivery_Terms_Approved  Bureaucratic_Code_0_Approval  \\\n",
       "ID                                                                      \n",
       "27761                              True                          True   \n",
       "27760                             False                         False   \n",
       "27446                             False                         False   \n",
       "16808                             False                          True   \n",
       "16805                             False                          True   \n",
       "\n",
       "       Bureaucratic_Code_0_Approved  Submitted_for_Approval  \\\n",
       "ID                                                            \n",
       "27761                          True                   False   \n",
       "27760                         False                   False   \n",
       "27446                         False                   False   \n",
       "16808                         False                   False   \n",
       "16805                         False                   False   \n",
       "\n",
       "         Bureaucratic_Code Account_Created_Date    Source   ...      Month  \\\n",
       "ID                                                          ...              \n",
       "27761  Bureaucratic_Code_4           2015-06-16        NaN  ... 2016-05-01   \n",
       "27760  Bureaucratic_Code_4           2015-06-16        NaN  ... 2016-01-01   \n",
       "27446  Bureaucratic_Code_4           2015-04-21   Source_7  ... 2016-01-01   \n",
       "16808  Bureaucratic_Code_5           2013-07-27  Source_11  ... 2018-02-01   \n",
       "16805  Bureaucratic_Code_5           2013-07-27  Source_11  ... 2018-02-01   \n",
       "\n",
       "      Delivery_Quarter Delivery_Year  TRF  Total_Amount_Currency Total_Amount  \\\n",
       "ID                                                                              \n",
       "27761               Q2          2016   10                    EUR    5272800.0   \n",
       "27760               Q1          2016    0                    EUR      48230.0   \n",
       "27446               Q1          2016    0                    USD      83865.6   \n",
       "16808               Q1          2018   14                    USD    7421881.5   \n",
       "16805               Q1          2018   25                    USD   13357192.5   \n",
       "\n",
       "      Total_Taxable_Amount_Currency Total_Taxable_Amount        Stage  \\\n",
       "ID                                                                      \n",
       "27761                           EUR            5272800.0  Closed Lost   \n",
       "27760                           EUR              48230.0   Closed Won   \n",
       "27446                           USD              83865.6   Closed Won   \n",
       "16808                           USD            7421881.5  Closed Lost   \n",
       "16805                           USD           13357192.5  Closed Lost   \n",
       "\n",
       "            Prod_Category_A  \n",
       "ID                           \n",
       "27761  Prod_Category_A_None  \n",
       "27760  Prod_Category_A_None  \n",
       "27446  Prod_Category_A_None  \n",
       "16808  Prod_Category_A_None  \n",
       "16805  Prod_Category_A_None  \n",
       "\n",
       "[5 rows x 49 columns]"
      ]
     },
     "execution_count": 13,
     "metadata": {},
     "output_type": "execute_result"
    }
   ],
   "source": [
    "df = pd.read_csv('train.csv', parse_dates=date_columns, dtype=column_types,\n",
    "                 index_col='ID', na_values=['Other', 'NaT', 'None'],\n",
    "                 usecols=lambda x: x not in empty)\n",
    "\n",
    "df['Sales_Contract_No'] = df['Sales_Contract_No'].fillna(0).astype(np.int64)\n",
    "df['Month'] = pd.to_datetime(df['Month'], format='%Y - %m')\n",
    "df.head()"
   ]
  },
  {
   "cell_type": "markdown",
   "metadata": {
    "pycharm": {
     "name": "#%% md\n"
    }
   },
   "source": [
    "##### Vemos cómo quedan las columnas:"
   ]
  },
  {
   "cell_type": "code",
   "execution_count": 14,
   "metadata": {
    "collapsed": false,
    "jupyter": {
     "outputs_hidden": false
    },
    "pycharm": {
     "name": "#%%\n"
    }
   },
   "outputs": [
    {
     "name": "stdout",
     "output_type": "stream",
     "text": [
      "<class 'pandas.core.frame.DataFrame'>\n",
      "Int64Index: 16947 entries, 27761 to 28318\n",
      "Data columns (total 49 columns):\n",
      " #   Column                              Non-Null Count  Dtype         \n",
      "---  ------                              --------------  -----         \n",
      " 0   Region                              16947 non-null  category      \n",
      " 1   Territory                           11948 non-null  category      \n",
      " 2   Pricing, Delivery_Terms_Quote_Appr  16947 non-null  bool          \n",
      " 3   Pricing, Delivery_Terms_Approved    16947 non-null  bool          \n",
      " 4   Bureaucratic_Code_0_Approval        16947 non-null  bool          \n",
      " 5   Bureaucratic_Code_0_Approved        16947 non-null  bool          \n",
      " 6   Submitted_for_Approval              16947 non-null  bool          \n",
      " 7   Bureaucratic_Code                   16947 non-null  category      \n",
      " 8   Account_Created_Date                16947 non-null  datetime64[ns]\n",
      " 9   Source                              7450 non-null   category      \n",
      " 10  Billing_Country                     16920 non-null  category      \n",
      " 11  Account_Name                        16947 non-null  category      \n",
      " 12  Opportunity_Name                    16947 non-null  category      \n",
      " 13  Opportunity_ID                      16947 non-null  int64         \n",
      " 14  Sales_Contract_No                   16947 non-null  int64         \n",
      " 15  Account_Owner                       16947 non-null  category      \n",
      " 16  Opportunity_Owner                   16947 non-null  category      \n",
      " 17  Account_Type                        16835 non-null  category      \n",
      " 18  Opportunity_Type                    16947 non-null  category      \n",
      " 19  Quote_Type                          16947 non-null  category      \n",
      " 20  Delivery_Terms                      16947 non-null  category      \n",
      " 21  Opportunity_Created_Date            16947 non-null  datetime64[ns]\n",
      " 22  Brand                               429 non-null    category      \n",
      " 23  Product_Type                        497 non-null    category      \n",
      " 24  Size                                586 non-null    category      \n",
      " 25  Product_Category_B                  496 non-null    category      \n",
      " 26  Price                               356 non-null    float64       \n",
      " 27  Currency                            895 non-null    category      \n",
      " 28  Quote_Expiry_Date                   12322 non-null  datetime64[ns]\n",
      " 29  Last_Modified_Date                  16947 non-null  datetime64[ns]\n",
      " 30  Last_Modified_By                    16947 non-null  category      \n",
      " 31  Product_Family                      16947 non-null  category      \n",
      " 32  Product_Name                        16947 non-null  category      \n",
      " 33  ASP_Currency                        16947 non-null  category      \n",
      " 34  ASP                                 13738 non-null  float64       \n",
      " 35  ASP_(converted)_Currency            16947 non-null  category      \n",
      " 36  ASP_(converted)                     13738 non-null  float64       \n",
      " 37  Planned_Delivery_Start_Date         16947 non-null  datetime64[ns]\n",
      " 38  Planned_Delivery_End_Date           16872 non-null  datetime64[ns]\n",
      " 39  Month                               16947 non-null  datetime64[ns]\n",
      " 40  Delivery_Quarter                    16947 non-null  category      \n",
      " 41  Delivery_Year                       16947 non-null  int64         \n",
      " 42  TRF                                 16947 non-null  int64         \n",
      " 43  Total_Amount_Currency               16947 non-null  category      \n",
      " 44  Total_Amount                        16888 non-null  float64       \n",
      " 45  Total_Taxable_Amount_Currency       16947 non-null  category      \n",
      " 46  Total_Taxable_Amount                16947 non-null  float64       \n",
      " 47  Stage                               16947 non-null  category      \n",
      " 48  Prod_Category_A                     16947 non-null  category      \n",
      "dtypes: bool(5), category(28), datetime64[ns](7), float64(5), int64(4)\n",
      "memory usage: 3.3 MB\n"
     ]
    }
   ],
   "source": [
    "df.info()"
   ]
  },
  {
   "cell_type": "markdown",
   "metadata": {
    "pycharm": {
     "name": "#%% md\n"
    }
   },
   "source": [
    "---\n",
    "\n",
    "## Análisis Exploratorio"
   ]
  },
  {
   "cell_type": "code",
   "execution_count": 15,
   "metadata": {},
   "outputs": [
    {
     "data": {
      "text/html": [
       "<div>\n",
       "<style scoped>\n",
       "    .dataframe tbody tr th:only-of-type {\n",
       "        vertical-align: middle;\n",
       "    }\n",
       "\n",
       "    .dataframe tbody tr th {\n",
       "        vertical-align: top;\n",
       "    }\n",
       "\n",
       "    .dataframe thead th {\n",
       "        text-align: right;\n",
       "    }\n",
       "</style>\n",
       "<table border=\"1\" class=\"dataframe\">\n",
       "  <thead>\n",
       "    <tr style=\"text-align: right;\">\n",
       "      <th></th>\n",
       "      <th>Quote_Expiry_Date</th>\n",
       "      <th>Last_Modified_Date</th>\n",
       "      <th>Product_Family</th>\n",
       "      <th>Product_Name</th>\n",
       "      <th>ASP_Currency</th>\n",
       "      <th>ASP</th>\n",
       "      <th>ASP_(converted)_Currency</th>\n",
       "      <th>ASP_(converted)</th>\n",
       "      <th>Planned_Delivery_Start_Date</th>\n",
       "      <th>Planned_Delivery_End_Date</th>\n",
       "      <th>Month</th>\n",
       "      <th>Delivery_Year</th>\n",
       "      <th>Stage</th>\n",
       "    </tr>\n",
       "    <tr>\n",
       "      <th>ID</th>\n",
       "      <th></th>\n",
       "      <th></th>\n",
       "      <th></th>\n",
       "      <th></th>\n",
       "      <th></th>\n",
       "      <th></th>\n",
       "      <th></th>\n",
       "      <th></th>\n",
       "      <th></th>\n",
       "      <th></th>\n",
       "      <th></th>\n",
       "      <th></th>\n",
       "      <th></th>\n",
       "    </tr>\n",
       "  </thead>\n",
       "  <tbody>\n",
       "    <tr>\n",
       "      <th>27761</th>\n",
       "      <td>2016-01-30</td>\n",
       "      <td>2016-06-13</td>\n",
       "      <td>Product_Family_77</td>\n",
       "      <td>Product_Name_99</td>\n",
       "      <td>EUR</td>\n",
       "      <td>0.5200</td>\n",
       "      <td>USD</td>\n",
       "      <td>0.58817</td>\n",
       "      <td>2016-05-01</td>\n",
       "      <td>2016-06-30</td>\n",
       "      <td>2016-05-01</td>\n",
       "      <td>2016</td>\n",
       "      <td>Closed Lost</td>\n",
       "    </tr>\n",
       "    <tr>\n",
       "      <th>27760</th>\n",
       "      <td>2016-01-20</td>\n",
       "      <td>2016-01-15</td>\n",
       "      <td>Product_Family_77</td>\n",
       "      <td>Product_Name_100</td>\n",
       "      <td>EUR</td>\n",
       "      <td>0.5300</td>\n",
       "      <td>USD</td>\n",
       "      <td>0.59948</td>\n",
       "      <td>2016-01-18</td>\n",
       "      <td>2016-01-20</td>\n",
       "      <td>2016-01-01</td>\n",
       "      <td>2016</td>\n",
       "      <td>Closed Won</td>\n",
       "    </tr>\n",
       "    <tr>\n",
       "      <th>27446</th>\n",
       "      <td>2016-09-30</td>\n",
       "      <td>2016-09-29</td>\n",
       "      <td>Product_Family_81</td>\n",
       "      <td>Product_Name_91</td>\n",
       "      <td>USD</td>\n",
       "      <td>0.4800</td>\n",
       "      <td>USD</td>\n",
       "      <td>0.48000</td>\n",
       "      <td>2016-01-25</td>\n",
       "      <td>2016-01-25</td>\n",
       "      <td>2016-01-01</td>\n",
       "      <td>2016</td>\n",
       "      <td>Closed Won</td>\n",
       "    </tr>\n",
       "    <tr>\n",
       "      <th>16808</th>\n",
       "      <td>NaT</td>\n",
       "      <td>2018-03-27</td>\n",
       "      <td>Product_Family_209</td>\n",
       "      <td>Product_Name_432</td>\n",
       "      <td>USD</td>\n",
       "      <td>0.5300</td>\n",
       "      <td>USD</td>\n",
       "      <td>0.53000</td>\n",
       "      <td>2018-02-01</td>\n",
       "      <td>2018-03-31</td>\n",
       "      <td>2018-02-01</td>\n",
       "      <td>2018</td>\n",
       "      <td>Closed Lost</td>\n",
       "    </tr>\n",
       "    <tr>\n",
       "      <th>16805</th>\n",
       "      <td>2017-06-02</td>\n",
       "      <td>2018-03-27</td>\n",
       "      <td>Product_Family_209</td>\n",
       "      <td>Product_Name_432</td>\n",
       "      <td>USD</td>\n",
       "      <td>0.5300</td>\n",
       "      <td>USD</td>\n",
       "      <td>0.53000</td>\n",
       "      <td>2018-02-01</td>\n",
       "      <td>2018-02-28</td>\n",
       "      <td>2018-02-01</td>\n",
       "      <td>2018</td>\n",
       "      <td>Closed Lost</td>\n",
       "    </tr>\n",
       "    <tr>\n",
       "      <th>...</th>\n",
       "      <td>...</td>\n",
       "      <td>...</td>\n",
       "      <td>...</td>\n",
       "      <td>...</td>\n",
       "      <td>...</td>\n",
       "      <td>...</td>\n",
       "      <td>...</td>\n",
       "      <td>...</td>\n",
       "      <td>...</td>\n",
       "      <td>...</td>\n",
       "      <td>...</td>\n",
       "      <td>...</td>\n",
       "      <td>...</td>\n",
       "    </tr>\n",
       "    <tr>\n",
       "      <th>8781</th>\n",
       "      <td>NaT</td>\n",
       "      <td>2016-01-19</td>\n",
       "      <td>Product_Family_85</td>\n",
       "      <td>Product_Name_111</td>\n",
       "      <td>EUR</td>\n",
       "      <td>0.5200</td>\n",
       "      <td>USD</td>\n",
       "      <td>0.58817</td>\n",
       "      <td>2016-03-21</td>\n",
       "      <td>2016-03-25</td>\n",
       "      <td>2016-03-01</td>\n",
       "      <td>2016</td>\n",
       "      <td>Closed Won</td>\n",
       "    </tr>\n",
       "    <tr>\n",
       "      <th>8786</th>\n",
       "      <td>NaT</td>\n",
       "      <td>2016-01-19</td>\n",
       "      <td>Product_Family_85</td>\n",
       "      <td>Product_Name_111</td>\n",
       "      <td>EUR</td>\n",
       "      <td>0.5200</td>\n",
       "      <td>USD</td>\n",
       "      <td>0.58817</td>\n",
       "      <td>2016-04-04</td>\n",
       "      <td>2016-04-08</td>\n",
       "      <td>2016-04-01</td>\n",
       "      <td>2016</td>\n",
       "      <td>Closed Won</td>\n",
       "    </tr>\n",
       "    <tr>\n",
       "      <th>8792</th>\n",
       "      <td>NaT</td>\n",
       "      <td>2016-01-19</td>\n",
       "      <td>Product_Family_85</td>\n",
       "      <td>Product_Name_111</td>\n",
       "      <td>EUR</td>\n",
       "      <td>0.5200</td>\n",
       "      <td>USD</td>\n",
       "      <td>0.58817</td>\n",
       "      <td>2016-03-28</td>\n",
       "      <td>2016-03-31</td>\n",
       "      <td>2016-03-01</td>\n",
       "      <td>2016</td>\n",
       "      <td>Closed Won</td>\n",
       "    </tr>\n",
       "    <tr>\n",
       "      <th>28561</th>\n",
       "      <td>2016-02-29</td>\n",
       "      <td>2016-01-22</td>\n",
       "      <td>Product_Family_158</td>\n",
       "      <td>Product_Name_287</td>\n",
       "      <td>USD</td>\n",
       "      <td>0.6375</td>\n",
       "      <td>USD</td>\n",
       "      <td>0.63750</td>\n",
       "      <td>2016-04-25</td>\n",
       "      <td>2016-04-29</td>\n",
       "      <td>2016-04-01</td>\n",
       "      <td>2016</td>\n",
       "      <td>Closed Lost</td>\n",
       "    </tr>\n",
       "    <tr>\n",
       "      <th>28318</th>\n",
       "      <td>2016-01-06</td>\n",
       "      <td>2016-09-28</td>\n",
       "      <td>Product_Family_164</td>\n",
       "      <td>Product_Name_307</td>\n",
       "      <td>USD</td>\n",
       "      <td>0.6400</td>\n",
       "      <td>USD</td>\n",
       "      <td>0.64000</td>\n",
       "      <td>2016-07-01</td>\n",
       "      <td>2016-08-31</td>\n",
       "      <td>2016-07-01</td>\n",
       "      <td>2016</td>\n",
       "      <td>Closed Lost</td>\n",
       "    </tr>\n",
       "  </tbody>\n",
       "</table>\n",
       "<p>16947 rows × 13 columns</p>\n",
       "</div>"
      ],
      "text/plain": [
       "      Quote_Expiry_Date Last_Modified_Date      Product_Family  \\\n",
       "ID                                                               \n",
       "27761        2016-01-30         2016-06-13   Product_Family_77   \n",
       "27760        2016-01-20         2016-01-15   Product_Family_77   \n",
       "27446        2016-09-30         2016-09-29   Product_Family_81   \n",
       "16808               NaT         2018-03-27  Product_Family_209   \n",
       "16805        2017-06-02         2018-03-27  Product_Family_209   \n",
       "...                 ...                ...                 ...   \n",
       "8781                NaT         2016-01-19   Product_Family_85   \n",
       "8786                NaT         2016-01-19   Product_Family_85   \n",
       "8792                NaT         2016-01-19   Product_Family_85   \n",
       "28561        2016-02-29         2016-01-22  Product_Family_158   \n",
       "28318        2016-01-06         2016-09-28  Product_Family_164   \n",
       "\n",
       "           Product_Name ASP_Currency     ASP ASP_(converted)_Currency  \\\n",
       "ID                                                                      \n",
       "27761   Product_Name_99          EUR  0.5200                      USD   \n",
       "27760  Product_Name_100          EUR  0.5300                      USD   \n",
       "27446   Product_Name_91          USD  0.4800                      USD   \n",
       "16808  Product_Name_432          USD  0.5300                      USD   \n",
       "16805  Product_Name_432          USD  0.5300                      USD   \n",
       "...                 ...          ...     ...                      ...   \n",
       "8781   Product_Name_111          EUR  0.5200                      USD   \n",
       "8786   Product_Name_111          EUR  0.5200                      USD   \n",
       "8792   Product_Name_111          EUR  0.5200                      USD   \n",
       "28561  Product_Name_287          USD  0.6375                      USD   \n",
       "28318  Product_Name_307          USD  0.6400                      USD   \n",
       "\n",
       "       ASP_(converted) Planned_Delivery_Start_Date Planned_Delivery_End_Date  \\\n",
       "ID                                                                             \n",
       "27761          0.58817                  2016-05-01                2016-06-30   \n",
       "27760          0.59948                  2016-01-18                2016-01-20   \n",
       "27446          0.48000                  2016-01-25                2016-01-25   \n",
       "16808          0.53000                  2018-02-01                2018-03-31   \n",
       "16805          0.53000                  2018-02-01                2018-02-28   \n",
       "...                ...                         ...                       ...   \n",
       "8781           0.58817                  2016-03-21                2016-03-25   \n",
       "8786           0.58817                  2016-04-04                2016-04-08   \n",
       "8792           0.58817                  2016-03-28                2016-03-31   \n",
       "28561          0.63750                  2016-04-25                2016-04-29   \n",
       "28318          0.64000                  2016-07-01                2016-08-31   \n",
       "\n",
       "           Month  Delivery_Year        Stage  \n",
       "ID                                            \n",
       "27761 2016-05-01           2016  Closed Lost  \n",
       "27760 2016-01-01           2016   Closed Won  \n",
       "27446 2016-01-01           2016   Closed Won  \n",
       "16808 2018-02-01           2018  Closed Lost  \n",
       "16805 2018-02-01           2018  Closed Lost  \n",
       "...          ...            ...          ...  \n",
       "8781  2016-03-01           2016   Closed Won  \n",
       "8786  2016-04-01           2016   Closed Won  \n",
       "8792  2016-03-01           2016   Closed Won  \n",
       "28561 2016-04-01           2016  Closed Lost  \n",
       "28318 2016-07-01           2016  Closed Lost  \n",
       "\n",
       "[16947 rows x 13 columns]"
      ]
     },
     "execution_count": 15,
     "metadata": {},
     "output_type": "execute_result"
    }
   ],
   "source": [
    "tomi_subset = df.loc[:,[\"Quote_Expiry_Date\",\"Last_Modified_Date\",\"Product_Family\",\"Product_Name\",\"ASP_Currency\",\"ASP\",\"ASP_(converted)_Currency\",\"ASP_(converted)\",\"Planned_Delivery_Start_Date\",\"Planned_Delivery_End_Date\",\"Month\",\"Delivery_Year\",\"Stage\"]]\n",
    "tomi_subset"
   ]
  },
  {
   "cell_type": "code",
   "execution_count": null,
   "metadata": {},
   "outputs": [],
   "source": []
  },
  {
   "cell_type": "markdown",
   "metadata": {
    "pycharm": {
     "name": "#%% md\n"
    }
   },
   "source": [
    "### Distribución de fechas de entrega\n"
   ]
  },
  {
   "cell_type": "markdown",
   "metadata": {
    "jupyter": {
     "outputs_hidden": false
    },
    "pycharm": {
     "name": "#%%\n"
    }
   },
   "source": [
    "El rango en días en el que se cierra la oportunidad lo calculamos con la fecha de inicio y la fecha de fin planeadas "
   ]
  },
  {
   "cell_type": "code",
   "execution_count": 16,
   "metadata": {
    "collapsed": false,
    "jupyter": {
     "outputs_hidden": false
    },
    "pycharm": {
     "name": "#%%\n"
    }
   },
   "outputs": [
    {
     "data": {
      "text/plain": [
       "ID\n",
       "27761   60 days\n",
       "27760    2 days\n",
       "27446    0 days\n",
       "16808   58 days\n",
       "16805   27 days\n",
       "          ...  \n",
       "8781     4 days\n",
       "8786     4 days\n",
       "8792     3 days\n",
       "28561    4 days\n",
       "28318   61 days\n",
       "Name: Delivery_Range, Length: 16947, dtype: timedelta64[ns]"
      ]
     },
     "execution_count": 16,
     "metadata": {},
     "output_type": "execute_result"
    }
   ],
   "source": [
    "tomi_subset[\"Delivery_Range\"] = tomi_subset[\"Planned_Delivery_End_Date\"] - tomi_subset[\"Planned_Delivery_Start_Date\"]\n",
    "tomi_subset[\"Delivery_Range\"]"
   ]
  },
  {
   "cell_type": "markdown",
   "metadata": {},
   "source": [
    "A falta de los datos de la columna \"Actual_Delivery_Date\", estimamos una fecha de entrega como la fecha promedio del rango previamente definido."
   ]
  },
  {
   "cell_type": "code",
   "execution_count": 17,
   "metadata": {
    "collapsed": false,
    "jupyter": {
     "outputs_hidden": false
    },
    "pycharm": {
     "name": "#%%\n"
    }
   },
   "outputs": [
    {
     "data": {
      "text/html": [
       "<div>\n",
       "<style scoped>\n",
       "    .dataframe tbody tr th:only-of-type {\n",
       "        vertical-align: middle;\n",
       "    }\n",
       "\n",
       "    .dataframe tbody tr th {\n",
       "        vertical-align: top;\n",
       "    }\n",
       "\n",
       "    .dataframe thead th {\n",
       "        text-align: right;\n",
       "    }\n",
       "</style>\n",
       "<table border=\"1\" class=\"dataframe\">\n",
       "  <thead>\n",
       "    <tr style=\"text-align: right;\">\n",
       "      <th></th>\n",
       "      <th>Quote_Expiry_Date</th>\n",
       "      <th>Last_Modified_Date</th>\n",
       "      <th>Product_Family</th>\n",
       "      <th>Product_Name</th>\n",
       "      <th>ASP_Currency</th>\n",
       "      <th>ASP</th>\n",
       "      <th>ASP_(converted)_Currency</th>\n",
       "      <th>ASP_(converted)</th>\n",
       "      <th>Planned_Delivery_Start_Date</th>\n",
       "      <th>Planned_Delivery_End_Date</th>\n",
       "      <th>Month</th>\n",
       "      <th>Delivery_Year</th>\n",
       "      <th>Stage</th>\n",
       "      <th>Delivery_Range</th>\n",
       "      <th>Estimated_Delivery_Date</th>\n",
       "    </tr>\n",
       "    <tr>\n",
       "      <th>ID</th>\n",
       "      <th></th>\n",
       "      <th></th>\n",
       "      <th></th>\n",
       "      <th></th>\n",
       "      <th></th>\n",
       "      <th></th>\n",
       "      <th></th>\n",
       "      <th></th>\n",
       "      <th></th>\n",
       "      <th></th>\n",
       "      <th></th>\n",
       "      <th></th>\n",
       "      <th></th>\n",
       "      <th></th>\n",
       "      <th></th>\n",
       "    </tr>\n",
       "  </thead>\n",
       "  <tbody>\n",
       "    <tr>\n",
       "      <th>27761</th>\n",
       "      <td>2016-01-30</td>\n",
       "      <td>2016-06-13</td>\n",
       "      <td>Product_Family_77</td>\n",
       "      <td>Product_Name_99</td>\n",
       "      <td>EUR</td>\n",
       "      <td>0.5200</td>\n",
       "      <td>USD</td>\n",
       "      <td>0.58817</td>\n",
       "      <td>2016-05-01</td>\n",
       "      <td>2016-06-30</td>\n",
       "      <td>2016-05-01</td>\n",
       "      <td>2016</td>\n",
       "      <td>Closed Lost</td>\n",
       "      <td>60 days</td>\n",
       "      <td>2016-05-31 00:00:00</td>\n",
       "    </tr>\n",
       "    <tr>\n",
       "      <th>27760</th>\n",
       "      <td>2016-01-20</td>\n",
       "      <td>2016-01-15</td>\n",
       "      <td>Product_Family_77</td>\n",
       "      <td>Product_Name_100</td>\n",
       "      <td>EUR</td>\n",
       "      <td>0.5300</td>\n",
       "      <td>USD</td>\n",
       "      <td>0.59948</td>\n",
       "      <td>2016-01-18</td>\n",
       "      <td>2016-01-20</td>\n",
       "      <td>2016-01-01</td>\n",
       "      <td>2016</td>\n",
       "      <td>Closed Won</td>\n",
       "      <td>2 days</td>\n",
       "      <td>2016-01-19 00:00:00</td>\n",
       "    </tr>\n",
       "    <tr>\n",
       "      <th>27446</th>\n",
       "      <td>2016-09-30</td>\n",
       "      <td>2016-09-29</td>\n",
       "      <td>Product_Family_81</td>\n",
       "      <td>Product_Name_91</td>\n",
       "      <td>USD</td>\n",
       "      <td>0.4800</td>\n",
       "      <td>USD</td>\n",
       "      <td>0.48000</td>\n",
       "      <td>2016-01-25</td>\n",
       "      <td>2016-01-25</td>\n",
       "      <td>2016-01-01</td>\n",
       "      <td>2016</td>\n",
       "      <td>Closed Won</td>\n",
       "      <td>0 days</td>\n",
       "      <td>2016-01-25 00:00:00</td>\n",
       "    </tr>\n",
       "    <tr>\n",
       "      <th>16808</th>\n",
       "      <td>NaT</td>\n",
       "      <td>2018-03-27</td>\n",
       "      <td>Product_Family_209</td>\n",
       "      <td>Product_Name_432</td>\n",
       "      <td>USD</td>\n",
       "      <td>0.5300</td>\n",
       "      <td>USD</td>\n",
       "      <td>0.53000</td>\n",
       "      <td>2018-02-01</td>\n",
       "      <td>2018-03-31</td>\n",
       "      <td>2018-02-01</td>\n",
       "      <td>2018</td>\n",
       "      <td>Closed Lost</td>\n",
       "      <td>58 days</td>\n",
       "      <td>2018-03-02 00:00:00</td>\n",
       "    </tr>\n",
       "    <tr>\n",
       "      <th>16805</th>\n",
       "      <td>2017-06-02</td>\n",
       "      <td>2018-03-27</td>\n",
       "      <td>Product_Family_209</td>\n",
       "      <td>Product_Name_432</td>\n",
       "      <td>USD</td>\n",
       "      <td>0.5300</td>\n",
       "      <td>USD</td>\n",
       "      <td>0.53000</td>\n",
       "      <td>2018-02-01</td>\n",
       "      <td>2018-02-28</td>\n",
       "      <td>2018-02-01</td>\n",
       "      <td>2018</td>\n",
       "      <td>Closed Lost</td>\n",
       "      <td>27 days</td>\n",
       "      <td>2018-02-14 12:00:00</td>\n",
       "    </tr>\n",
       "    <tr>\n",
       "      <th>...</th>\n",
       "      <td>...</td>\n",
       "      <td>...</td>\n",
       "      <td>...</td>\n",
       "      <td>...</td>\n",
       "      <td>...</td>\n",
       "      <td>...</td>\n",
       "      <td>...</td>\n",
       "      <td>...</td>\n",
       "      <td>...</td>\n",
       "      <td>...</td>\n",
       "      <td>...</td>\n",
       "      <td>...</td>\n",
       "      <td>...</td>\n",
       "      <td>...</td>\n",
       "      <td>...</td>\n",
       "    </tr>\n",
       "    <tr>\n",
       "      <th>8781</th>\n",
       "      <td>NaT</td>\n",
       "      <td>2016-01-19</td>\n",
       "      <td>Product_Family_85</td>\n",
       "      <td>Product_Name_111</td>\n",
       "      <td>EUR</td>\n",
       "      <td>0.5200</td>\n",
       "      <td>USD</td>\n",
       "      <td>0.58817</td>\n",
       "      <td>2016-03-21</td>\n",
       "      <td>2016-03-25</td>\n",
       "      <td>2016-03-01</td>\n",
       "      <td>2016</td>\n",
       "      <td>Closed Won</td>\n",
       "      <td>4 days</td>\n",
       "      <td>2016-03-23 00:00:00</td>\n",
       "    </tr>\n",
       "    <tr>\n",
       "      <th>8786</th>\n",
       "      <td>NaT</td>\n",
       "      <td>2016-01-19</td>\n",
       "      <td>Product_Family_85</td>\n",
       "      <td>Product_Name_111</td>\n",
       "      <td>EUR</td>\n",
       "      <td>0.5200</td>\n",
       "      <td>USD</td>\n",
       "      <td>0.58817</td>\n",
       "      <td>2016-04-04</td>\n",
       "      <td>2016-04-08</td>\n",
       "      <td>2016-04-01</td>\n",
       "      <td>2016</td>\n",
       "      <td>Closed Won</td>\n",
       "      <td>4 days</td>\n",
       "      <td>2016-04-06 00:00:00</td>\n",
       "    </tr>\n",
       "    <tr>\n",
       "      <th>8792</th>\n",
       "      <td>NaT</td>\n",
       "      <td>2016-01-19</td>\n",
       "      <td>Product_Family_85</td>\n",
       "      <td>Product_Name_111</td>\n",
       "      <td>EUR</td>\n",
       "      <td>0.5200</td>\n",
       "      <td>USD</td>\n",
       "      <td>0.58817</td>\n",
       "      <td>2016-03-28</td>\n",
       "      <td>2016-03-31</td>\n",
       "      <td>2016-03-01</td>\n",
       "      <td>2016</td>\n",
       "      <td>Closed Won</td>\n",
       "      <td>3 days</td>\n",
       "      <td>2016-03-29 12:00:00</td>\n",
       "    </tr>\n",
       "    <tr>\n",
       "      <th>28561</th>\n",
       "      <td>2016-02-29</td>\n",
       "      <td>2016-01-22</td>\n",
       "      <td>Product_Family_158</td>\n",
       "      <td>Product_Name_287</td>\n",
       "      <td>USD</td>\n",
       "      <td>0.6375</td>\n",
       "      <td>USD</td>\n",
       "      <td>0.63750</td>\n",
       "      <td>2016-04-25</td>\n",
       "      <td>2016-04-29</td>\n",
       "      <td>2016-04-01</td>\n",
       "      <td>2016</td>\n",
       "      <td>Closed Lost</td>\n",
       "      <td>4 days</td>\n",
       "      <td>2016-04-27 00:00:00</td>\n",
       "    </tr>\n",
       "    <tr>\n",
       "      <th>28318</th>\n",
       "      <td>2016-01-06</td>\n",
       "      <td>2016-09-28</td>\n",
       "      <td>Product_Family_164</td>\n",
       "      <td>Product_Name_307</td>\n",
       "      <td>USD</td>\n",
       "      <td>0.6400</td>\n",
       "      <td>USD</td>\n",
       "      <td>0.64000</td>\n",
       "      <td>2016-07-01</td>\n",
       "      <td>2016-08-31</td>\n",
       "      <td>2016-07-01</td>\n",
       "      <td>2016</td>\n",
       "      <td>Closed Lost</td>\n",
       "      <td>61 days</td>\n",
       "      <td>2016-07-31 12:00:00</td>\n",
       "    </tr>\n",
       "  </tbody>\n",
       "</table>\n",
       "<p>16947 rows × 15 columns</p>\n",
       "</div>"
      ],
      "text/plain": [
       "      Quote_Expiry_Date Last_Modified_Date      Product_Family  \\\n",
       "ID                                                               \n",
       "27761        2016-01-30         2016-06-13   Product_Family_77   \n",
       "27760        2016-01-20         2016-01-15   Product_Family_77   \n",
       "27446        2016-09-30         2016-09-29   Product_Family_81   \n",
       "16808               NaT         2018-03-27  Product_Family_209   \n",
       "16805        2017-06-02         2018-03-27  Product_Family_209   \n",
       "...                 ...                ...                 ...   \n",
       "8781                NaT         2016-01-19   Product_Family_85   \n",
       "8786                NaT         2016-01-19   Product_Family_85   \n",
       "8792                NaT         2016-01-19   Product_Family_85   \n",
       "28561        2016-02-29         2016-01-22  Product_Family_158   \n",
       "28318        2016-01-06         2016-09-28  Product_Family_164   \n",
       "\n",
       "           Product_Name ASP_Currency     ASP ASP_(converted)_Currency  \\\n",
       "ID                                                                      \n",
       "27761   Product_Name_99          EUR  0.5200                      USD   \n",
       "27760  Product_Name_100          EUR  0.5300                      USD   \n",
       "27446   Product_Name_91          USD  0.4800                      USD   \n",
       "16808  Product_Name_432          USD  0.5300                      USD   \n",
       "16805  Product_Name_432          USD  0.5300                      USD   \n",
       "...                 ...          ...     ...                      ...   \n",
       "8781   Product_Name_111          EUR  0.5200                      USD   \n",
       "8786   Product_Name_111          EUR  0.5200                      USD   \n",
       "8792   Product_Name_111          EUR  0.5200                      USD   \n",
       "28561  Product_Name_287          USD  0.6375                      USD   \n",
       "28318  Product_Name_307          USD  0.6400                      USD   \n",
       "\n",
       "       ASP_(converted) Planned_Delivery_Start_Date Planned_Delivery_End_Date  \\\n",
       "ID                                                                             \n",
       "27761          0.58817                  2016-05-01                2016-06-30   \n",
       "27760          0.59948                  2016-01-18                2016-01-20   \n",
       "27446          0.48000                  2016-01-25                2016-01-25   \n",
       "16808          0.53000                  2018-02-01                2018-03-31   \n",
       "16805          0.53000                  2018-02-01                2018-02-28   \n",
       "...                ...                         ...                       ...   \n",
       "8781           0.58817                  2016-03-21                2016-03-25   \n",
       "8786           0.58817                  2016-04-04                2016-04-08   \n",
       "8792           0.58817                  2016-03-28                2016-03-31   \n",
       "28561          0.63750                  2016-04-25                2016-04-29   \n",
       "28318          0.64000                  2016-07-01                2016-08-31   \n",
       "\n",
       "           Month  Delivery_Year        Stage Delivery_Range  \\\n",
       "ID                                                            \n",
       "27761 2016-05-01           2016  Closed Lost        60 days   \n",
       "27760 2016-01-01           2016   Closed Won         2 days   \n",
       "27446 2016-01-01           2016   Closed Won         0 days   \n",
       "16808 2018-02-01           2018  Closed Lost        58 days   \n",
       "16805 2018-02-01           2018  Closed Lost        27 days   \n",
       "...          ...            ...          ...            ...   \n",
       "8781  2016-03-01           2016   Closed Won         4 days   \n",
       "8786  2016-04-01           2016   Closed Won         4 days   \n",
       "8792  2016-03-01           2016   Closed Won         3 days   \n",
       "28561 2016-04-01           2016  Closed Lost         4 days   \n",
       "28318 2016-07-01           2016  Closed Lost        61 days   \n",
       "\n",
       "      Estimated_Delivery_Date  \n",
       "ID                             \n",
       "27761     2016-05-31 00:00:00  \n",
       "27760     2016-01-19 00:00:00  \n",
       "27446     2016-01-25 00:00:00  \n",
       "16808     2018-03-02 00:00:00  \n",
       "16805     2018-02-14 12:00:00  \n",
       "...                       ...  \n",
       "8781      2016-03-23 00:00:00  \n",
       "8786      2016-04-06 00:00:00  \n",
       "8792      2016-03-29 12:00:00  \n",
       "28561     2016-04-27 00:00:00  \n",
       "28318     2016-07-31 12:00:00  \n",
       "\n",
       "[16947 rows x 15 columns]"
      ]
     },
     "execution_count": 17,
     "metadata": {},
     "output_type": "execute_result"
    }
   ],
   "source": [
    "tomi_subset[\"Estimated_Delivery_Date\"] = tomi_subset[\"Planned_Delivery_Start_Date\"] + (tomi_subset[\"Delivery_Range\"]/2)\n",
    "tomi_subset"
   ]
  },
  {
   "cell_type": "code",
   "execution_count": null,
   "metadata": {},
   "outputs": [],
   "source": []
  },
  {
   "cell_type": "code",
   "execution_count": 18,
   "metadata": {},
   "outputs": [
    {
     "data": {
      "text/html": [
       "<div>\n",
       "<style scoped>\n",
       "    .dataframe tbody tr th:only-of-type {\n",
       "        vertical-align: middle;\n",
       "    }\n",
       "\n",
       "    .dataframe tbody tr th {\n",
       "        vertical-align: top;\n",
       "    }\n",
       "\n",
       "    .dataframe thead th {\n",
       "        text-align: right;\n",
       "    }\n",
       "</style>\n",
       "<table border=\"1\" class=\"dataframe\">\n",
       "  <thead>\n",
       "    <tr style=\"text-align: right;\">\n",
       "      <th></th>\n",
       "      <th>Quote_Expiry_Date</th>\n",
       "      <th>Last_Modified_Date</th>\n",
       "      <th>Product_Family</th>\n",
       "      <th>Product_Name</th>\n",
       "      <th>ASP_Currency</th>\n",
       "      <th>ASP</th>\n",
       "      <th>ASP_(converted)_Currency</th>\n",
       "      <th>ASP_(converted)</th>\n",
       "      <th>Planned_Delivery_Start_Date</th>\n",
       "      <th>Planned_Delivery_End_Date</th>\n",
       "      <th>Month</th>\n",
       "      <th>Delivery_Year</th>\n",
       "      <th>Stage</th>\n",
       "      <th>Delivery_Range</th>\n",
       "      <th>Estimated_Delivery_Date</th>\n",
       "    </tr>\n",
       "    <tr>\n",
       "      <th>ID</th>\n",
       "      <th></th>\n",
       "      <th></th>\n",
       "      <th></th>\n",
       "      <th></th>\n",
       "      <th></th>\n",
       "      <th></th>\n",
       "      <th></th>\n",
       "      <th></th>\n",
       "      <th></th>\n",
       "      <th></th>\n",
       "      <th></th>\n",
       "      <th></th>\n",
       "      <th></th>\n",
       "      <th></th>\n",
       "      <th></th>\n",
       "    </tr>\n",
       "  </thead>\n",
       "  <tbody>\n",
       "    <tr>\n",
       "      <th>27761</th>\n",
       "      <td>2016-01-30</td>\n",
       "      <td>2016-06-13</td>\n",
       "      <td>Product_Family_77</td>\n",
       "      <td>Product_Name_99</td>\n",
       "      <td>EUR</td>\n",
       "      <td>0.5200</td>\n",
       "      <td>USD</td>\n",
       "      <td>0.58817</td>\n",
       "      <td>2016-05-01</td>\n",
       "      <td>2016-06-30</td>\n",
       "      <td>2016-05-01</td>\n",
       "      <td>2016</td>\n",
       "      <td>Closed Lost</td>\n",
       "      <td>60 days</td>\n",
       "      <td>2016-05-31 00:00:00</td>\n",
       "    </tr>\n",
       "    <tr>\n",
       "      <th>27760</th>\n",
       "      <td>2016-01-20</td>\n",
       "      <td>2016-01-15</td>\n",
       "      <td>Product_Family_77</td>\n",
       "      <td>Product_Name_100</td>\n",
       "      <td>EUR</td>\n",
       "      <td>0.5300</td>\n",
       "      <td>USD</td>\n",
       "      <td>0.59948</td>\n",
       "      <td>2016-01-18</td>\n",
       "      <td>2016-01-20</td>\n",
       "      <td>2016-01-01</td>\n",
       "      <td>2016</td>\n",
       "      <td>Closed Won</td>\n",
       "      <td>2 days</td>\n",
       "      <td>2016-01-19 00:00:00</td>\n",
       "    </tr>\n",
       "    <tr>\n",
       "      <th>27446</th>\n",
       "      <td>2016-09-30</td>\n",
       "      <td>2016-09-29</td>\n",
       "      <td>Product_Family_81</td>\n",
       "      <td>Product_Name_91</td>\n",
       "      <td>USD</td>\n",
       "      <td>0.4800</td>\n",
       "      <td>USD</td>\n",
       "      <td>0.48000</td>\n",
       "      <td>2016-01-25</td>\n",
       "      <td>2016-01-25</td>\n",
       "      <td>2016-01-01</td>\n",
       "      <td>2016</td>\n",
       "      <td>Closed Won</td>\n",
       "      <td>0 days</td>\n",
       "      <td>2016-01-25 00:00:00</td>\n",
       "    </tr>\n",
       "    <tr>\n",
       "      <th>16808</th>\n",
       "      <td>NaT</td>\n",
       "      <td>2018-03-27</td>\n",
       "      <td>Product_Family_209</td>\n",
       "      <td>Product_Name_432</td>\n",
       "      <td>USD</td>\n",
       "      <td>0.5300</td>\n",
       "      <td>USD</td>\n",
       "      <td>0.53000</td>\n",
       "      <td>2018-02-01</td>\n",
       "      <td>2018-03-31</td>\n",
       "      <td>2018-02-01</td>\n",
       "      <td>2018</td>\n",
       "      <td>Closed Lost</td>\n",
       "      <td>58 days</td>\n",
       "      <td>2018-03-02 00:00:00</td>\n",
       "    </tr>\n",
       "    <tr>\n",
       "      <th>16805</th>\n",
       "      <td>2017-06-02</td>\n",
       "      <td>2018-03-27</td>\n",
       "      <td>Product_Family_209</td>\n",
       "      <td>Product_Name_432</td>\n",
       "      <td>USD</td>\n",
       "      <td>0.5300</td>\n",
       "      <td>USD</td>\n",
       "      <td>0.53000</td>\n",
       "      <td>2018-02-01</td>\n",
       "      <td>2018-02-28</td>\n",
       "      <td>2018-02-01</td>\n",
       "      <td>2018</td>\n",
       "      <td>Closed Lost</td>\n",
       "      <td>27 days</td>\n",
       "      <td>2018-02-14 12:00:00</td>\n",
       "    </tr>\n",
       "    <tr>\n",
       "      <th>...</th>\n",
       "      <td>...</td>\n",
       "      <td>...</td>\n",
       "      <td>...</td>\n",
       "      <td>...</td>\n",
       "      <td>...</td>\n",
       "      <td>...</td>\n",
       "      <td>...</td>\n",
       "      <td>...</td>\n",
       "      <td>...</td>\n",
       "      <td>...</td>\n",
       "      <td>...</td>\n",
       "      <td>...</td>\n",
       "      <td>...</td>\n",
       "      <td>...</td>\n",
       "      <td>...</td>\n",
       "    </tr>\n",
       "    <tr>\n",
       "      <th>8781</th>\n",
       "      <td>NaT</td>\n",
       "      <td>2016-01-19</td>\n",
       "      <td>Product_Family_85</td>\n",
       "      <td>Product_Name_111</td>\n",
       "      <td>EUR</td>\n",
       "      <td>0.5200</td>\n",
       "      <td>USD</td>\n",
       "      <td>0.58817</td>\n",
       "      <td>2016-03-21</td>\n",
       "      <td>2016-03-25</td>\n",
       "      <td>2016-03-01</td>\n",
       "      <td>2016</td>\n",
       "      <td>Closed Won</td>\n",
       "      <td>4 days</td>\n",
       "      <td>2016-03-23 00:00:00</td>\n",
       "    </tr>\n",
       "    <tr>\n",
       "      <th>8786</th>\n",
       "      <td>NaT</td>\n",
       "      <td>2016-01-19</td>\n",
       "      <td>Product_Family_85</td>\n",
       "      <td>Product_Name_111</td>\n",
       "      <td>EUR</td>\n",
       "      <td>0.5200</td>\n",
       "      <td>USD</td>\n",
       "      <td>0.58817</td>\n",
       "      <td>2016-04-04</td>\n",
       "      <td>2016-04-08</td>\n",
       "      <td>2016-04-01</td>\n",
       "      <td>2016</td>\n",
       "      <td>Closed Won</td>\n",
       "      <td>4 days</td>\n",
       "      <td>2016-04-06 00:00:00</td>\n",
       "    </tr>\n",
       "    <tr>\n",
       "      <th>8792</th>\n",
       "      <td>NaT</td>\n",
       "      <td>2016-01-19</td>\n",
       "      <td>Product_Family_85</td>\n",
       "      <td>Product_Name_111</td>\n",
       "      <td>EUR</td>\n",
       "      <td>0.5200</td>\n",
       "      <td>USD</td>\n",
       "      <td>0.58817</td>\n",
       "      <td>2016-03-28</td>\n",
       "      <td>2016-03-31</td>\n",
       "      <td>2016-03-01</td>\n",
       "      <td>2016</td>\n",
       "      <td>Closed Won</td>\n",
       "      <td>3 days</td>\n",
       "      <td>2016-03-29 12:00:00</td>\n",
       "    </tr>\n",
       "    <tr>\n",
       "      <th>28561</th>\n",
       "      <td>2016-02-29</td>\n",
       "      <td>2016-01-22</td>\n",
       "      <td>Product_Family_158</td>\n",
       "      <td>Product_Name_287</td>\n",
       "      <td>USD</td>\n",
       "      <td>0.6375</td>\n",
       "      <td>USD</td>\n",
       "      <td>0.63750</td>\n",
       "      <td>2016-04-25</td>\n",
       "      <td>2016-04-29</td>\n",
       "      <td>2016-04-01</td>\n",
       "      <td>2016</td>\n",
       "      <td>Closed Lost</td>\n",
       "      <td>4 days</td>\n",
       "      <td>2016-04-27 00:00:00</td>\n",
       "    </tr>\n",
       "    <tr>\n",
       "      <th>28318</th>\n",
       "      <td>2016-01-06</td>\n",
       "      <td>2016-09-28</td>\n",
       "      <td>Product_Family_164</td>\n",
       "      <td>Product_Name_307</td>\n",
       "      <td>USD</td>\n",
       "      <td>0.6400</td>\n",
       "      <td>USD</td>\n",
       "      <td>0.64000</td>\n",
       "      <td>2016-07-01</td>\n",
       "      <td>2016-08-31</td>\n",
       "      <td>2016-07-01</td>\n",
       "      <td>2016</td>\n",
       "      <td>Closed Lost</td>\n",
       "      <td>61 days</td>\n",
       "      <td>2016-07-31 12:00:00</td>\n",
       "    </tr>\n",
       "  </tbody>\n",
       "</table>\n",
       "<p>16871 rows × 15 columns</p>\n",
       "</div>"
      ],
      "text/plain": [
       "      Quote_Expiry_Date Last_Modified_Date      Product_Family  \\\n",
       "ID                                                               \n",
       "27761        2016-01-30         2016-06-13   Product_Family_77   \n",
       "27760        2016-01-20         2016-01-15   Product_Family_77   \n",
       "27446        2016-09-30         2016-09-29   Product_Family_81   \n",
       "16808               NaT         2018-03-27  Product_Family_209   \n",
       "16805        2017-06-02         2018-03-27  Product_Family_209   \n",
       "...                 ...                ...                 ...   \n",
       "8781                NaT         2016-01-19   Product_Family_85   \n",
       "8786                NaT         2016-01-19   Product_Family_85   \n",
       "8792                NaT         2016-01-19   Product_Family_85   \n",
       "28561        2016-02-29         2016-01-22  Product_Family_158   \n",
       "28318        2016-01-06         2016-09-28  Product_Family_164   \n",
       "\n",
       "           Product_Name ASP_Currency     ASP ASP_(converted)_Currency  \\\n",
       "ID                                                                      \n",
       "27761   Product_Name_99          EUR  0.5200                      USD   \n",
       "27760  Product_Name_100          EUR  0.5300                      USD   \n",
       "27446   Product_Name_91          USD  0.4800                      USD   \n",
       "16808  Product_Name_432          USD  0.5300                      USD   \n",
       "16805  Product_Name_432          USD  0.5300                      USD   \n",
       "...                 ...          ...     ...                      ...   \n",
       "8781   Product_Name_111          EUR  0.5200                      USD   \n",
       "8786   Product_Name_111          EUR  0.5200                      USD   \n",
       "8792   Product_Name_111          EUR  0.5200                      USD   \n",
       "28561  Product_Name_287          USD  0.6375                      USD   \n",
       "28318  Product_Name_307          USD  0.6400                      USD   \n",
       "\n",
       "       ASP_(converted) Planned_Delivery_Start_Date Planned_Delivery_End_Date  \\\n",
       "ID                                                                             \n",
       "27761          0.58817                  2016-05-01                2016-06-30   \n",
       "27760          0.59948                  2016-01-18                2016-01-20   \n",
       "27446          0.48000                  2016-01-25                2016-01-25   \n",
       "16808          0.53000                  2018-02-01                2018-03-31   \n",
       "16805          0.53000                  2018-02-01                2018-02-28   \n",
       "...                ...                         ...                       ...   \n",
       "8781           0.58817                  2016-03-21                2016-03-25   \n",
       "8786           0.58817                  2016-04-04                2016-04-08   \n",
       "8792           0.58817                  2016-03-28                2016-03-31   \n",
       "28561          0.63750                  2016-04-25                2016-04-29   \n",
       "28318          0.64000                  2016-07-01                2016-08-31   \n",
       "\n",
       "           Month  Delivery_Year        Stage Delivery_Range  \\\n",
       "ID                                                            \n",
       "27761 2016-05-01           2016  Closed Lost        60 days   \n",
       "27760 2016-01-01           2016   Closed Won         2 days   \n",
       "27446 2016-01-01           2016   Closed Won         0 days   \n",
       "16808 2018-02-01           2018  Closed Lost        58 days   \n",
       "16805 2018-02-01           2018  Closed Lost        27 days   \n",
       "...          ...            ...          ...            ...   \n",
       "8781  2016-03-01           2016   Closed Won         4 days   \n",
       "8786  2016-04-01           2016   Closed Won         4 days   \n",
       "8792  2016-03-01           2016   Closed Won         3 days   \n",
       "28561 2016-04-01           2016  Closed Lost         4 days   \n",
       "28318 2016-07-01           2016  Closed Lost        61 days   \n",
       "\n",
       "      Estimated_Delivery_Date  \n",
       "ID                             \n",
       "27761     2016-05-31 00:00:00  \n",
       "27760     2016-01-19 00:00:00  \n",
       "27446     2016-01-25 00:00:00  \n",
       "16808     2018-03-02 00:00:00  \n",
       "16805     2018-02-14 12:00:00  \n",
       "...                       ...  \n",
       "8781      2016-03-23 00:00:00  \n",
       "8786      2016-04-06 00:00:00  \n",
       "8792      2016-03-29 12:00:00  \n",
       "28561     2016-04-27 00:00:00  \n",
       "28318     2016-07-31 12:00:00  \n",
       "\n",
       "[16871 rows x 15 columns]"
      ]
     },
     "execution_count": 18,
     "metadata": {},
     "output_type": "execute_result"
    }
   ],
   "source": [
    "tomi_subset = tomi_subset[tomi_subset[\"Estimated_Delivery_Date\"].dt.year <= 2020]\n",
    "tomi_subset"
   ]
  },
  {
   "cell_type": "code",
   "execution_count": 19,
   "metadata": {
    "pycharm": {
     "name": "#%% md\n"
    }
   },
   "outputs": [
    {
     "data": {
      "text/html": [
       "<div>\n",
       "<style scoped>\n",
       "    .dataframe tbody tr th:only-of-type {\n",
       "        vertical-align: middle;\n",
       "    }\n",
       "\n",
       "    .dataframe tbody tr th {\n",
       "        vertical-align: top;\n",
       "    }\n",
       "\n",
       "    .dataframe thead th {\n",
       "        text-align: right;\n",
       "    }\n",
       "</style>\n",
       "<table border=\"1\" class=\"dataframe\">\n",
       "  <thead>\n",
       "    <tr style=\"text-align: right;\">\n",
       "      <th></th>\n",
       "      <th>Delivery_Range</th>\n",
       "      <th>Stage</th>\n",
       "    </tr>\n",
       "    <tr>\n",
       "      <th>ID</th>\n",
       "      <th></th>\n",
       "      <th></th>\n",
       "    </tr>\n",
       "  </thead>\n",
       "  <tbody>\n",
       "    <tr>\n",
       "      <th>27761</th>\n",
       "      <td>60 days</td>\n",
       "      <td>Closed Lost</td>\n",
       "    </tr>\n",
       "    <tr>\n",
       "      <th>27760</th>\n",
       "      <td>2 days</td>\n",
       "      <td>Closed Won</td>\n",
       "    </tr>\n",
       "    <tr>\n",
       "      <th>27446</th>\n",
       "      <td>0 days</td>\n",
       "      <td>Closed Won</td>\n",
       "    </tr>\n",
       "    <tr>\n",
       "      <th>16808</th>\n",
       "      <td>58 days</td>\n",
       "      <td>Closed Lost</td>\n",
       "    </tr>\n",
       "    <tr>\n",
       "      <th>16805</th>\n",
       "      <td>27 days</td>\n",
       "      <td>Closed Lost</td>\n",
       "    </tr>\n",
       "    <tr>\n",
       "      <th>...</th>\n",
       "      <td>...</td>\n",
       "      <td>...</td>\n",
       "    </tr>\n",
       "    <tr>\n",
       "      <th>8781</th>\n",
       "      <td>4 days</td>\n",
       "      <td>Closed Won</td>\n",
       "    </tr>\n",
       "    <tr>\n",
       "      <th>8786</th>\n",
       "      <td>4 days</td>\n",
       "      <td>Closed Won</td>\n",
       "    </tr>\n",
       "    <tr>\n",
       "      <th>8792</th>\n",
       "      <td>3 days</td>\n",
       "      <td>Closed Won</td>\n",
       "    </tr>\n",
       "    <tr>\n",
       "      <th>28561</th>\n",
       "      <td>4 days</td>\n",
       "      <td>Closed Lost</td>\n",
       "    </tr>\n",
       "    <tr>\n",
       "      <th>28318</th>\n",
       "      <td>61 days</td>\n",
       "      <td>Closed Lost</td>\n",
       "    </tr>\n",
       "  </tbody>\n",
       "</table>\n",
       "<p>16807 rows × 2 columns</p>\n",
       "</div>"
      ],
      "text/plain": [
       "      Delivery_Range        Stage\n",
       "ID                               \n",
       "27761        60 days  Closed Lost\n",
       "27760         2 days   Closed Won\n",
       "27446         0 days   Closed Won\n",
       "16808        58 days  Closed Lost\n",
       "16805        27 days  Closed Lost\n",
       "...              ...          ...\n",
       "8781          4 days   Closed Won\n",
       "8786          4 days   Closed Won\n",
       "8792          3 days   Closed Won\n",
       "28561         4 days  Closed Lost\n",
       "28318        61 days  Closed Lost\n",
       "\n",
       "[16807 rows x 2 columns]"
      ]
     },
     "metadata": {},
     "output_type": "display_data"
    }
   ],
   "source": [
    "# Distribución de los rangos en días por Stage\n",
    "\n",
    "to_plot = tomi_subset.loc[tomi_subset[\"Stage\"].isin([\"Closed Won\",\"Closed Lost\"]),[\"Delivery_Range\",\"Stage\"]]\n",
    "display(to_plot)\n",
    "\n",
    "won = tomi_subset.loc[tomi_subset[\"Stage\"]==\"Closed Won\",\"Delivery_Range\"].to_frame()\n",
    "won\n",
    "lost = tomi_subset.loc[tomi_subset[\"Stage\"]==\"Closed Lost\",\"Delivery_Range\"]\n",
    "\n",
    "#sns.kdeplot(pd.to_numeric(won.dt.days).dropna(), hue = 1)    \n",
    "#sns.kdeplot(pd.to_numeric(lost.dt.days).dropna(), hue = 2)\n",
    "\n",
    "\n",
    "    "
   ]
  },
  {
   "cell_type": "code",
   "execution_count": 20,
   "metadata": {
    "collapsed": false,
    "jupyter": {
     "outputs_hidden": false
    },
    "pycharm": {
     "name": "#%%\n"
    }
   },
   "outputs": [
    {
     "name": "stdout",
     "output_type": "stream",
     "text": [
      "Group:  Closed Lost  - Sample size:  7320\n",
      "Distribución de Closed Lost en el mes\n"
     ]
    },
    {
     "name": "stderr",
     "output_type": "stream",
     "text": [
      "/home/tomas/anaconda3/lib/python3.7/site-packages/seaborn/distributions.py:2551: FutureWarning: `distplot` is a deprecated function and will be removed in a future version. Please adapt your code to use either `displot` (a figure-level function with similar flexibility) or `histplot` (an axes-level function for histograms).\n",
      "  warnings.warn(msg, FutureWarning)\n"
     ]
    },
    {
     "data": {
      "image/png": "[encoded data removed]",
      "text/plain": [
       "<Figure size 432x288 with 1 Axes>"
      ]
     },
     "metadata": {
      "needs_background": "light"
     },
     "output_type": "display_data"
    },
    {
     "name": "stdout",
     "output_type": "stream",
     "text": [
      "Distribución de Closed Lost en el año por meses\n"
     ]
    },
    {
     "name": "stderr",
     "output_type": "stream",
     "text": [
      "/home/tomas/anaconda3/lib/python3.7/site-packages/seaborn/distributions.py:2551: FutureWarning: `distplot` is a deprecated function and will be removed in a future version. Please adapt your code to use either `displot` (a figure-level function with similar flexibility) or `histplot` (an axes-level function for histograms).\n",
      "  warnings.warn(msg, FutureWarning)\n"
     ]
    },
    {
     "data": {
      "image/png": "[encoded data removed]",
      "text/plain": [
       "<Figure size 432x288 with 1 Axes>"
      ]
     },
     "metadata": {
      "needs_background": "light"
     },
     "output_type": "display_data"
    },
    {
     "name": "stdout",
     "output_type": "stream",
     "text": [
      "Distribución de Closed Lost en el año por trimestres\n"
     ]
    },
    {
     "name": "stderr",
     "output_type": "stream",
     "text": [
      "/home/tomas/anaconda3/lib/python3.7/site-packages/seaborn/distributions.py:2551: FutureWarning: `distplot` is a deprecated function and will be removed in a future version. Please adapt your code to use either `displot` (a figure-level function with similar flexibility) or `histplot` (an axes-level function for histograms).\n",
      "  warnings.warn(msg, FutureWarning)\n"
     ]
    },
    {
     "data": {
      "image/png": "[encoded data removed]",
      "text/plain": [
       "<Figure size 432x288 with 1 Axes>"
      ]
     },
     "metadata": {
      "needs_background": "light"
     },
     "output_type": "display_data"
    },
    {
     "name": "stdout",
     "output_type": "stream",
     "text": [
      "Distribución de Closed Lost histórica\n"
     ]
    },
    {
     "name": "stderr",
     "output_type": "stream",
     "text": [
      "/home/tomas/anaconda3/lib/python3.7/site-packages/seaborn/distributions.py:2551: FutureWarning: `distplot` is a deprecated function and will be removed in a future version. Please adapt your code to use either `displot` (a figure-level function with similar flexibility) or `histplot` (an axes-level function for histograms).\n",
      "  warnings.warn(msg, FutureWarning)\n"
     ]
    },
    {
     "data": {
      "image/png": "[encoded data removed]",
      "text/plain": [
       "<Figure size 432x288 with 1 Axes>"
      ]
     },
     "metadata": {
      "needs_background": "light"
     },
     "output_type": "display_data"
    },
    {
     "name": "stdout",
     "output_type": "stream",
     "text": [
      "Group:  Closed Won  - Sample size:  9487\n",
      "Distribución de Closed Won en el mes\n"
     ]
    },
    {
     "name": "stderr",
     "output_type": "stream",
     "text": [
      "/home/tomas/anaconda3/lib/python3.7/site-packages/seaborn/distributions.py:2551: FutureWarning: `distplot` is a deprecated function and will be removed in a future version. Please adapt your code to use either `displot` (a figure-level function with similar flexibility) or `histplot` (an axes-level function for histograms).\n",
      "  warnings.warn(msg, FutureWarning)\n"
     ]
    },
    {
     "data": {
      "image/png": "[encoded data removed]",
      "text/plain": [
       "<Figure size 432x288 with 1 Axes>"
      ]
     },
     "metadata": {
      "needs_background": "light"
     },
     "output_type": "display_data"
    },
    {
     "name": "stdout",
     "output_type": "stream",
     "text": [
      "Distribución de Closed Won en el año por meses\n"
     ]
    },
    {
     "name": "stderr",
     "output_type": "stream",
     "text": [
      "/home/tomas/anaconda3/lib/python3.7/site-packages/seaborn/distributions.py:2551: FutureWarning: `distplot` is a deprecated function and will be removed in a future version. Please adapt your code to use either `displot` (a figure-level function with similar flexibility) or `histplot` (an axes-level function for histograms).\n",
      "  warnings.warn(msg, FutureWarning)\n"
     ]
    },
    {
     "data": {
      "image/png": "[encoded data removed]",
      "text/plain": [
       "<Figure size 432x288 with 1 Axes>"
      ]
     },
     "metadata": {
      "needs_background": "light"
     },
     "output_type": "display_data"
    },
    {
     "name": "stdout",
     "output_type": "stream",
     "text": [
      "Distribución de Closed Won en el año por trimestres\n"
     ]
    },
    {
     "name": "stderr",
     "output_type": "stream",
     "text": [
      "/home/tomas/anaconda3/lib/python3.7/site-packages/seaborn/distributions.py:2551: FutureWarning: `distplot` is a deprecated function and will be removed in a future version. Please adapt your code to use either `displot` (a figure-level function with similar flexibility) or `histplot` (an axes-level function for histograms).\n",
      "  warnings.warn(msg, FutureWarning)\n"
     ]
    },
    {
     "data": {
      "image/png": "[encoded data removed]",
      "text/plain": [
       "<Figure size 432x288 with 1 Axes>"
      ]
     },
     "metadata": {
      "needs_background": "light"
     },
     "output_type": "display_data"
    },
    {
     "name": "stdout",
     "output_type": "stream",
     "text": [
      "Distribución de Closed Won histórica\n"
     ]
    },
    {
     "name": "stderr",
     "output_type": "stream",
     "text": [
      "/home/tomas/anaconda3/lib/python3.7/site-packages/seaborn/distributions.py:2551: FutureWarning: `distplot` is a deprecated function and will be removed in a future version. Please adapt your code to use either `displot` (a figure-level function with similar flexibility) or `histplot` (an axes-level function for histograms).\n",
      "  warnings.warn(msg, FutureWarning)\n"
     ]
    },
    {
     "data": {
      "image/png": "[encoded data removed]",
      "text/plain": [
       "<Figure size 432x288 with 1 Axes>"
      ]
     },
     "metadata": {
      "needs_background": "light"
     },
     "output_type": "display_data"
    }
   ],
   "source": [
    "# Distribución de los días del mes en que se estima \"Delivery_Date\"\n",
    "\n",
    "selected = [\"Closed Lost\",\"Closed Won\"]\n",
    "\n",
    "for name,group in tomi_subset.groupby(\"Stage\")[\"Estimated_Delivery_Date\"]:\n",
    "    if name not in selected: continue\n",
    "    \n",
    "    print(\"Group: \",name, \" - Sample size: \",group.size)\n",
    "    \n",
    "    print(\"Distribución de\",name,\"en el mes\")\n",
    "    sns.distplot(pd.to_numeric(group.dt.day).dropna(), norm_hist= True)\n",
    "    plt.show()\n",
    "    \n",
    "    print(\"Distribución de\",name,\"en el año por meses\")\n",
    "    sns.distplot(pd.to_numeric(group.dt.month).dropna(), norm_hist= True)\n",
    "    plt.show()\n",
    "    \n",
    "    print(\"Distribución de\",name,\"en el año por trimestres\")\n",
    "    sns.distplot(pd.to_numeric(group.dt.quarter).dropna(), norm_hist= True)\n",
    "    plt.show()\n",
    "    \n",
    "    print(\"Distribución de\",name,\"histórica\")\n",
    "    sns.distplot(pd.to_numeric(group.dt.year).dropna(), norm_hist= True)\n",
    "    plt.show()\n",
    "    "
   ]
  },
  {
   "cell_type": "code",
   "execution_count": 21,
   "metadata": {
    "collapsed": false,
    "jupyter": {
     "outputs_hidden": false
    },
    "pycharm": {
     "name": "#%%\n"
    }
   },
   "outputs": [
    {
     "name": "stdout",
     "output_type": "stream",
     "text": [
      "Distribución de Estimated_Delivery_Date en el mes\n"
     ]
    },
    {
     "data": {
      "image/png": "[encoded data removed]",
      "text/plain": [
       "<Figure size 432x288 with 1 Axes>"
      ]
     },
     "metadata": {
      "needs_background": "light"
     },
     "output_type": "display_data"
    },
    {
     "name": "stdout",
     "output_type": "stream",
     "text": [
      "Distribución de Estimated_Delivery_Date en el año por meses\n"
     ]
    },
    {
     "data": {
      "image/png": "[encoded data removed]",
      "text/plain": [
       "<Figure size 432x288 with 1 Axes>"
      ]
     },
     "metadata": {
      "needs_background": "light"
     },
     "output_type": "display_data"
    },
    {
     "name": "stdout",
     "output_type": "stream",
     "text": [
      "Distribución de Estimated_Delivery_Date en el año por trimestres\n"
     ]
    },
    {
     "data": {
      "image/png": "[encoded data removed]",
      "text/plain": [
       "<Figure size 432x288 with 1 Axes>"
      ]
     },
     "metadata": {
      "needs_background": "light"
     },
     "output_type": "display_data"
    },
    {
     "name": "stdout",
     "output_type": "stream",
     "text": [
      "Distribución de Estimated_Delivery_Date histórica\n"
     ]
    },
    {
     "data": {
      "image/png": "[encoded data removed]",
      "text/plain": [
       "<Figure size 432x288 with 1 Axes>"
      ]
     },
     "metadata": {
      "needs_background": "light"
     },
     "output_type": "display_data"
    }
   ],
   "source": [
    "# Distribución de los días del mes en que se estima \"Delivery_Date\"\n",
    "\n",
    "won = tomi_subset.loc[tomi_subset[\"Stage\"]==\"Closed Won\",\"Estimated_Delivery_Date\"]\n",
    "lost = tomi_subset.loc[tomi_subset[\"Stage\"]==\"Closed Lost\",\"Estimated_Delivery_Date\"]\n",
    "\n",
    "print(\"Distribución de Estimated_Delivery_Date en el mes\")\n",
    "sns.kdeplot(pd.to_numeric(won.dt.day).dropna())\n",
    "sns.kdeplot(pd.to_numeric(lost.dt.day).dropna())\n",
    "plt.show()\n",
    "\n",
    "print(\"Distribución de Estimated_Delivery_Date en el año por meses\")\n",
    "data = ( pd.to_numeric(won.dt.month) + pd.to_numeric(won.dt.day)/30).dropna()\n",
    "sns.kdeplot(data)\n",
    "data = (pd.to_numeric(lost.dt.month) + pd.to_numeric(lost.dt.day)/30).dropna()\n",
    "sns.kdeplot(data)\n",
    "plt.show()\n",
    "\n",
    "print(\"Distribución de Estimated_Delivery_Date en el año por trimestres\")\n",
    "sns.kdeplot(pd.to_numeric(won.dt.quarter).dropna())\n",
    "sns.kdeplot(pd.to_numeric(lost.dt.quarter).dropna())\n",
    "\n",
    "plt.show()\n",
    "\n",
    "print(\"Distribución de Estimated_Delivery_Date histórica\")\n",
    "data = (pd.to_numeric(won.dt.year) + pd.to_numeric(won.dt.month)/12 + pd.to_numeric(won.dt.day)/365).dropna()\n",
    "sns.kdeplot(data)\n",
    "data = (pd.to_numeric(lost.dt.year) + pd.to_numeric(lost.dt.month)/12 + pd.to_numeric(lost.dt.day)/365).dropna()\n",
    "sns.kdeplot(data)\n",
    "plt.show()"
   ]
  },
  {
   "cell_type": "code",
   "execution_count": null,
   "metadata": {
    "collapsed": false,
    "jupyter": {
     "outputs_hidden": false
    },
    "pycharm": {
     "name": "#%%\n"
    }
   },
   "outputs": [],
   "source": []
  },
  {
   "cell_type": "markdown",
   "metadata": {
    "pycharm": {
     "name": "#%% md\n"
    }
   },
   "source": [
    "\n"
   ]
  },
  {
   "cell_type": "markdown",
   "metadata": {
    "jupyter": {
     "outputs_hidden": false
    },
    "pycharm": {
     "name": "#%%\n"
    }
   },
   "source": [
    "# Conociendo un poco más el set"
   ]
  },
  {
   "cell_type": "code",
   "execution_count": 22,
   "metadata": {
    "collapsed": false,
    "jupyter": {
     "outputs_hidden": false
    },
    "pycharm": {
     "name": "#%%\n"
    }
   },
   "outputs": [
    {
     "ename": "TypeError",
     "evalue": "cannot insert an item into a CategoricalIndex that is not already an existing category",
     "output_type": "error",
     "traceback": [
      "\u001b[0;31m---------------------------------------------------------------------------\u001b[0m",
      "\u001b[0;31mTypeError\u001b[0m                                 Traceback (most recent call last)",
      "\u001b[0;32m<ipython-input-22-82654767acd7>\u001b[0m in \u001b[0;36m<module>\u001b[0;34m\u001b[0m\n\u001b[1;32m      2\u001b[0m \u001b[0mgrouped\u001b[0m \u001b[0;34m=\u001b[0m \u001b[0mdf\u001b[0m\u001b[0;34m.\u001b[0m\u001b[0mgroupby\u001b[0m\u001b[0;34m(\u001b[0m\u001b[0;34m\"Pricing, Delivery_Terms_Approved\"\u001b[0m\u001b[0;34m)\u001b[0m\u001b[0;34m.\u001b[0m\u001b[0magg\u001b[0m\u001b[0;34m(\u001b[0m\u001b[0;34m{\u001b[0m\u001b[0;34m\"Stage\"\u001b[0m\u001b[0;34m:\u001b[0m\u001b[0;34m\"value_counts\"\u001b[0m\u001b[0;34m}\u001b[0m\u001b[0;34m)\u001b[0m\u001b[0;34m\u001b[0m\u001b[0;34m\u001b[0m\u001b[0m\n\u001b[1;32m      3\u001b[0m \u001b[0;34m\u001b[0m\u001b[0m\n\u001b[0;32m----> 4\u001b[0;31m \u001b[0mgrouped\u001b[0m \u001b[0;34m=\u001b[0m \u001b[0mgrouped\u001b[0m\u001b[0;34m.\u001b[0m\u001b[0mrename\u001b[0m\u001b[0;34m(\u001b[0m\u001b[0mcolumns\u001b[0m\u001b[0;34m=\u001b[0m \u001b[0;34m{\u001b[0m\u001b[0;34m\"Stage\"\u001b[0m\u001b[0;34m:\u001b[0m\u001b[0;34m\"count\"\u001b[0m\u001b[0;34m}\u001b[0m\u001b[0;34m)\u001b[0m\u001b[0;34m.\u001b[0m\u001b[0munstack\u001b[0m\u001b[0;34m(\u001b[0m\u001b[0;34m)\u001b[0m\u001b[0;34m.\u001b[0m\u001b[0mreset_index\u001b[0m\u001b[0;34m(\u001b[0m\u001b[0;34m)\u001b[0m\u001b[0;34m\u001b[0m\u001b[0;34m\u001b[0m\u001b[0m\n\u001b[0m\u001b[1;32m      5\u001b[0m \u001b[0mnew_columns\u001b[0m \u001b[0;34m=\u001b[0m \u001b[0;34m[\u001b[0m\u001b[0;34m\"Pricing\"\u001b[0m\u001b[0;34m,\u001b[0m\u001b[0;34m\"Closed Lost\"\u001b[0m\u001b[0;34m,\u001b[0m \u001b[0;34m\"Closed Won\"\u001b[0m\u001b[0;34m,\u001b[0m \u001b[0;34m\"Negotiation\"\u001b[0m\u001b[0;34m,\u001b[0m \u001b[0;34m\"Proposal\"\u001b[0m\u001b[0;34m,\u001b[0m \u001b[0;34m\"Qualification\"\u001b[0m\u001b[0;34m]\u001b[0m\u001b[0;34m\u001b[0m\u001b[0;34m\u001b[0m\u001b[0m\n\u001b[1;32m      6\u001b[0m \u001b[0;34m\u001b[0m\u001b[0m\n",
      "\u001b[0;32m~/anaconda3/lib/python3.7/site-packages/pandas/core/frame.py\u001b[0m in \u001b[0;36mreset_index\u001b[0;34m(self, level, drop, inplace, col_level, col_fill)\u001b[0m\n\u001b[1;32m   4853\u001b[0m                 \u001b[0;31m# to ndarray and maybe infer different dtype\u001b[0m\u001b[0;34m\u001b[0m\u001b[0;34m\u001b[0m\u001b[0;34m\u001b[0m\u001b[0m\n\u001b[1;32m   4854\u001b[0m                 \u001b[0mlevel_values\u001b[0m \u001b[0;34m=\u001b[0m \u001b[0m_maybe_casted_values\u001b[0m\u001b[0;34m(\u001b[0m\u001b[0mlev\u001b[0m\u001b[0;34m,\u001b[0m \u001b[0mlab\u001b[0m\u001b[0;34m)\u001b[0m\u001b[0;34m\u001b[0m\u001b[0;34m\u001b[0m\u001b[0m\n\u001b[0;32m-> 4855\u001b[0;31m                 \u001b[0mnew_obj\u001b[0m\u001b[0;34m.\u001b[0m\u001b[0minsert\u001b[0m\u001b[0;34m(\u001b[0m\u001b[0;36m0\u001b[0m\u001b[0;34m,\u001b[0m \u001b[0mname\u001b[0m\u001b[0;34m,\u001b[0m \u001b[0mlevel_values\u001b[0m\u001b[0;34m)\u001b[0m\u001b[0;34m\u001b[0m\u001b[0;34m\u001b[0m\u001b[0m\n\u001b[0m\u001b[1;32m   4856\u001b[0m \u001b[0;34m\u001b[0m\u001b[0m\n\u001b[1;32m   4857\u001b[0m         \u001b[0mnew_obj\u001b[0m\u001b[0;34m.\u001b[0m\u001b[0mindex\u001b[0m \u001b[0;34m=\u001b[0m \u001b[0mnew_index\u001b[0m\u001b[0;34m\u001b[0m\u001b[0;34m\u001b[0m\u001b[0m\n",
      "\u001b[0;32m~/anaconda3/lib/python3.7/site-packages/pandas/core/frame.py\u001b[0m in \u001b[0;36minsert\u001b[0;34m(self, loc, column, value, allow_duplicates)\u001b[0m\n\u001b[1;32m   3622\u001b[0m         \u001b[0mself\u001b[0m\u001b[0;34m.\u001b[0m\u001b[0m_ensure_valid_index\u001b[0m\u001b[0;34m(\u001b[0m\u001b[0mvalue\u001b[0m\u001b[0;34m)\u001b[0m\u001b[0;34m\u001b[0m\u001b[0;34m\u001b[0m\u001b[0m\n\u001b[1;32m   3623\u001b[0m         \u001b[0mvalue\u001b[0m \u001b[0;34m=\u001b[0m \u001b[0mself\u001b[0m\u001b[0;34m.\u001b[0m\u001b[0m_sanitize_column\u001b[0m\u001b[0;34m(\u001b[0m\u001b[0mcolumn\u001b[0m\u001b[0;34m,\u001b[0m \u001b[0mvalue\u001b[0m\u001b[0;34m,\u001b[0m \u001b[0mbroadcast\u001b[0m\u001b[0;34m=\u001b[0m\u001b[0;32mFalse\u001b[0m\u001b[0;34m)\u001b[0m\u001b[0;34m\u001b[0m\u001b[0;34m\u001b[0m\u001b[0m\n\u001b[0;32m-> 3624\u001b[0;31m         \u001b[0mself\u001b[0m\u001b[0;34m.\u001b[0m\u001b[0m_mgr\u001b[0m\u001b[0;34m.\u001b[0m\u001b[0minsert\u001b[0m\u001b[0;34m(\u001b[0m\u001b[0mloc\u001b[0m\u001b[0;34m,\u001b[0m \u001b[0mcolumn\u001b[0m\u001b[0;34m,\u001b[0m \u001b[0mvalue\u001b[0m\u001b[0;34m,\u001b[0m \u001b[0mallow_duplicates\u001b[0m\u001b[0;34m=\u001b[0m\u001b[0mallow_duplicates\u001b[0m\u001b[0;34m)\u001b[0m\u001b[0;34m\u001b[0m\u001b[0;34m\u001b[0m\u001b[0m\n\u001b[0m\u001b[1;32m   3625\u001b[0m \u001b[0;34m\u001b[0m\u001b[0m\n\u001b[1;32m   3626\u001b[0m     \u001b[0;32mdef\u001b[0m \u001b[0massign\u001b[0m\u001b[0;34m(\u001b[0m\u001b[0mself\u001b[0m\u001b[0;34m,\u001b[0m \u001b[0;34m**\u001b[0m\u001b[0mkwargs\u001b[0m\u001b[0;34m)\u001b[0m \u001b[0;34m->\u001b[0m \u001b[0;34m\"DataFrame\"\u001b[0m\u001b[0;34m:\u001b[0m\u001b[0;34m\u001b[0m\u001b[0;34m\u001b[0m\u001b[0m\n",
      "\u001b[0;32m~/anaconda3/lib/python3.7/site-packages/pandas/core/internals/managers.py\u001b[0m in \u001b[0;36minsert\u001b[0;34m(self, loc, item, value, allow_duplicates)\u001b[0m\n\u001b[1;32m   1181\u001b[0m \u001b[0;34m\u001b[0m\u001b[0m\n\u001b[1;32m   1182\u001b[0m         \u001b[0;31m# insert to the axis; this could possibly raise a TypeError\u001b[0m\u001b[0;34m\u001b[0m\u001b[0;34m\u001b[0m\u001b[0;34m\u001b[0m\u001b[0m\n\u001b[0;32m-> 1183\u001b[0;31m         \u001b[0mnew_axis\u001b[0m \u001b[0;34m=\u001b[0m \u001b[0mself\u001b[0m\u001b[0;34m.\u001b[0m\u001b[0mitems\u001b[0m\u001b[0;34m.\u001b[0m\u001b[0minsert\u001b[0m\u001b[0;34m(\u001b[0m\u001b[0mloc\u001b[0m\u001b[0;34m,\u001b[0m \u001b[0mitem\u001b[0m\u001b[0;34m)\u001b[0m\u001b[0;34m\u001b[0m\u001b[0;34m\u001b[0m\u001b[0m\n\u001b[0m\u001b[1;32m   1184\u001b[0m \u001b[0;34m\u001b[0m\u001b[0m\n\u001b[1;32m   1185\u001b[0m         \u001b[0;32mif\u001b[0m \u001b[0mvalue\u001b[0m\u001b[0;34m.\u001b[0m\u001b[0mndim\u001b[0m \u001b[0;34m==\u001b[0m \u001b[0mself\u001b[0m\u001b[0;34m.\u001b[0m\u001b[0mndim\u001b[0m \u001b[0;34m-\u001b[0m \u001b[0;36m1\u001b[0m \u001b[0;32mand\u001b[0m \u001b[0;32mnot\u001b[0m \u001b[0mis_extension_array_dtype\u001b[0m\u001b[0;34m(\u001b[0m\u001b[0mvalue\u001b[0m\u001b[0;34m.\u001b[0m\u001b[0mdtype\u001b[0m\u001b[0;34m)\u001b[0m\u001b[0;34m:\u001b[0m\u001b[0;34m\u001b[0m\u001b[0;34m\u001b[0m\u001b[0m\n",
      "\u001b[0;32m~/anaconda3/lib/python3.7/site-packages/pandas/core/indexes/multi.py\u001b[0m in \u001b[0;36minsert\u001b[0;34m(self, loc, item)\u001b[0m\n\u001b[1;32m   3564\u001b[0m                 \u001b[0;31m# other codes\u001b[0m\u001b[0;34m\u001b[0m\u001b[0;34m\u001b[0m\u001b[0;34m\u001b[0m\u001b[0m\n\u001b[1;32m   3565\u001b[0m                 \u001b[0mlev_loc\u001b[0m \u001b[0;34m=\u001b[0m \u001b[0mlen\u001b[0m\u001b[0;34m(\u001b[0m\u001b[0mlevel\u001b[0m\u001b[0;34m)\u001b[0m\u001b[0;34m\u001b[0m\u001b[0;34m\u001b[0m\u001b[0m\n\u001b[0;32m-> 3566\u001b[0;31m                 \u001b[0mlevel\u001b[0m \u001b[0;34m=\u001b[0m \u001b[0mlevel\u001b[0m\u001b[0;34m.\u001b[0m\u001b[0minsert\u001b[0m\u001b[0;34m(\u001b[0m\u001b[0mlev_loc\u001b[0m\u001b[0;34m,\u001b[0m \u001b[0mk\u001b[0m\u001b[0;34m)\u001b[0m\u001b[0;34m\u001b[0m\u001b[0;34m\u001b[0m\u001b[0m\n\u001b[0m\u001b[1;32m   3567\u001b[0m             \u001b[0;32melse\u001b[0m\u001b[0;34m:\u001b[0m\u001b[0;34m\u001b[0m\u001b[0;34m\u001b[0m\u001b[0m\n\u001b[1;32m   3568\u001b[0m                 \u001b[0mlev_loc\u001b[0m \u001b[0;34m=\u001b[0m \u001b[0mlevel\u001b[0m\u001b[0;34m.\u001b[0m\u001b[0mget_loc\u001b[0m\u001b[0;34m(\u001b[0m\u001b[0mk\u001b[0m\u001b[0;34m)\u001b[0m\u001b[0;34m\u001b[0m\u001b[0;34m\u001b[0m\u001b[0m\n",
      "\u001b[0;32m~/anaconda3/lib/python3.7/site-packages/pandas/core/indexes/category.py\u001b[0m in \u001b[0;36minsert\u001b[0;34m(self, loc, item)\u001b[0m\n\u001b[1;32m    738\u001b[0m         \u001b[0;32mif\u001b[0m \u001b[0;34m(\u001b[0m\u001b[0mcode\u001b[0m \u001b[0;34m==\u001b[0m \u001b[0;34m-\u001b[0m\u001b[0;36m1\u001b[0m\u001b[0;34m)\u001b[0m \u001b[0;32mand\u001b[0m \u001b[0;32mnot\u001b[0m \u001b[0;34m(\u001b[0m\u001b[0mis_scalar\u001b[0m\u001b[0;34m(\u001b[0m\u001b[0mitem\u001b[0m\u001b[0;34m)\u001b[0m \u001b[0;32mand\u001b[0m \u001b[0misna\u001b[0m\u001b[0;34m(\u001b[0m\u001b[0mitem\u001b[0m\u001b[0;34m)\u001b[0m\u001b[0;34m)\u001b[0m\u001b[0;34m:\u001b[0m\u001b[0;34m\u001b[0m\u001b[0;34m\u001b[0m\u001b[0m\n\u001b[1;32m    739\u001b[0m             raise TypeError(\n\u001b[0;32m--> 740\u001b[0;31m                 \u001b[0;34m\"cannot insert an item into a CategoricalIndex \"\u001b[0m\u001b[0;34m\u001b[0m\u001b[0;34m\u001b[0m\u001b[0m\n\u001b[0m\u001b[1;32m    741\u001b[0m                 \u001b[0;34m\"that is not already an existing category\"\u001b[0m\u001b[0;34m\u001b[0m\u001b[0;34m\u001b[0m\u001b[0m\n\u001b[1;32m    742\u001b[0m             )\n",
      "\u001b[0;31mTypeError\u001b[0m: cannot insert an item into a CategoricalIndex that is not already an existing category"
     ]
    }
   ],
   "source": [
    "df[\"Pricing, Delivery_Terms_Approved\"] = df[\"Pricing, Delivery_Terms_Approved\"].astype(bool)\n",
    "grouped = df.groupby(\"Pricing, Delivery_Terms_Approved\").agg({\"Stage\":\"value_counts\"})\n",
    "\n",
    "grouped = grouped.rename(columns= {\"Stage\":\"count\"}).unstack().reset_index()\n",
    "new_columns = [\"Pricing\",\"Closed Lost\", \"Closed Won\", \"Negotiation\", \"Proposal\", \"Qualification\"]\n",
    "\n",
    "#grouped.columns = new_columns\n",
    "grouped.index"
   ]
  },
  {
   "cell_type": "code",
   "execution_count": null,
   "metadata": {
    "collapsed": false,
    "jupyter": {
     "outputs_hidden": false
    },
    "pycharm": {
     "name": "#%%\n"
    },
    "scrolled": true
   },
   "outputs": [],
   "source": [
    "for column in grouped:\n",
    "    if column is \"Pricing\": continue\n",
    "    grouped[column].plot(kind=\"pie\",labels=[\"Pricing False\",\"Pricing True\"],legend=True,colors=[\"pink\",\"lightgreen\"])\n",
    "    plt.show()"
   ]
  },
  {
   "cell_type": "code",
   "execution_count": null,
   "metadata": {},
   "outputs": [],
   "source": []
  },
  {
   "cell_type": "markdown",
   "metadata": {},
   "source": [
    "### ¿Todas las mismas opportunity ID tienen un mismo oportunity Name? : Podemos decir que si"
   ]
  },
  {
   "cell_type": "code",
   "execution_count": null,
   "metadata": {},
   "outputs": [],
   "source": [
    "df.groupby(\"Opportunity_ID\").agg({\"Stage\":\"count\"})[\"Stage\"].nlargest(5)"
   ]
  },
  {
   "cell_type": "code",
   "execution_count": null,
   "metadata": {
    "scrolled": true
   },
   "outputs": [],
   "source": [
    "df.loc[df[\"Opportunity_ID\"] == 2008,\"Opportunity_Name\"].value_counts()"
   ]
  },
  {
   "cell_type": "code",
   "execution_count": null,
   "metadata": {},
   "outputs": [],
   "source": []
  },
  {
   "cell_type": "markdown",
   "metadata": {},
   "source": [
    "### ¿Como evolucionan las Oportunidades en el tiempo? ¿Qué columnas cambian en cada actualizacion?"
   ]
  },
  {
   "cell_type": "code",
   "execution_count": null,
   "metadata": {},
   "outputs": [],
   "source": [
    "# Cambio las columnas boleanas a numéricas\n",
    "df= df.astype({x:\"int\" for x in bool_columns})\n",
    "df.head()"
   ]
  },
  {
   "cell_type": "code",
   "execution_count": null,
   "metadata": {},
   "outputs": [],
   "source": [
    "# Definimos una funcion que lo que hace es tomar una serie y \n",
    "# devolver la cantidad de valores no repetidos que toma.\n",
    "\n",
    "def count_values(serie):\n",
    "    return serie.drop_duplicates().size"
   ]
  },
  {
   "cell_type": "code",
   "execution_count": null,
   "metadata": {},
   "outputs": [],
   "source": []
  },
  {
   "cell_type": "code",
   "execution_count": null,
   "metadata": {},
   "outputs": [],
   "source": [
    "# Definimos una serie con transform donde por cada oportunidad cuenta los registros que hay\n",
    "\n",
    "regsByOp = df.groupby(\"Opportunity_ID\")[\"Stage\"].transform(\"count\")\n",
    "regsByOp"
   ]
  },
  {
   "cell_type": "code",
   "execution_count": null,
   "metadata": {},
   "outputs": [],
   "source": [
    "ColumnActivityByOp = df[regsByOp > 1].groupby(\"Opportunity_ID\").agg(count_values)\n",
    "ColumnActivityByOp"
   ]
  },
  {
   "cell_type": "code",
   "execution_count": null,
   "metadata": {},
   "outputs": [],
   "source": [
    "# Las columnas cuyo valor ha cambiado un valor maximo de veces, en una misma Op_ID\n",
    "\n",
    "columnValuesByOp = ColumnActivityByOp.apply(\"max\")\n",
    "columnValuesByOp = columnValuesByOp[columnValuesByOp > 1]\n",
    "columnValuesByOp = columnValuesByOp.sort_values(ascending=False)\n",
    "columnValuesByOp"
   ]
  },
  {
   "cell_type": "code",
   "execution_count": null,
   "metadata": {},
   "outputs": [],
   "source": [
    "# Las Op_Id que registran un maximo numero de cambios en alguna columna\n",
    "\n",
    "maxColumnChanges = ColumnActivityByOp.agg(\"max\",axis= 1)\n",
    "maxColumnChanges"
   ]
  },
  {
   "cell_type": "code",
   "execution_count": null,
   "metadata": {},
   "outputs": [],
   "source": [
    "OpID_cambiantes = maxColumnChanges[maxColumnChanges>1]\n",
    "OpID_cambiantes"
   ]
  },
  {
   "cell_type": "code",
   "execution_count": null,
   "metadata": {},
   "outputs": [],
   "source": [
    "# Ejemplo: La Opportunity_ID = 12796 parece en la lista 'maxColumnChanges' entonces \n",
    "#          debe aparecer por lo menos 2 veces en el df original y la diferencia debe estar\n",
    "#          en alguna o varias columnas previamente enlistadas.\n",
    "\n",
    "df.loc[df[\"Opportunity_ID\"] == 12796] "
   ]
  },
  {
   "cell_type": "markdown",
   "metadata": {},
   "source": [
    "#### Visualizacion en ScatterPlot\n",
    "\n",
    "Se busca un scatterplot en el que cada punto represente un usuario (eje x), una columna (eje y), el numero de valores actualizados (color) y el stage (forma)."
   ]
  },
  {
   "cell_type": "code",
   "execution_count": null,
   "metadata": {},
   "outputs": [],
   "source": [
    "to_plot = ColumnActivityByOp.unstack().to_frame().reset_index()\n",
    "to_plot = pd.merge(to_plot,df.loc[:,[\"Opportunity_ID\",\"Stage\"]],on = \"Opportunity_ID\", how = \"inner\")\n",
    "to_plot = to_plot.rename(columns={\"level_0\":\"column\",0:\"reps\"})\n",
    "to_plot = to_plot.loc[to_plot[\"column\"].isin(columnValuesByOp.index)]\n",
    "to_plot.drop_duplicates(inplace=True)\n",
    "to_plot"
   ]
  },
  {
   "cell_type": "code",
   "execution_count": null,
   "metadata": {},
   "outputs": [],
   "source": [
    "to_plot = to_plot.loc[to_plot[\"reps\"]>1]\n",
    "to_plot[\"size\"] = to_plot.groupby([\"column\",\"reps\"])[\"Stage\"].transform(\"count\")\n",
    "to_plot"
   ]
  },
  {
   "cell_type": "code",
   "execution_count": null,
   "metadata": {},
   "outputs": [],
   "source": []
  },
  {
   "cell_type": "code",
   "execution_count": null,
   "metadata": {},
   "outputs": [],
   "source": []
  },
  {
   "cell_type": "code",
   "execution_count": null,
   "metadata": {},
   "outputs": [],
   "source": [
    "plt.rcParams['figure.figsize'] = 10,10\n",
    "\n",
    "\n",
    "sns.scatterplot(data=to_plot, x=\"reps\",y =\"column\",hue=\"Stage\", size=\"size\",alpha = 0.5)\n",
    "plt.legend(bbox_to_anchor=(1.05, 1), loc=2, borderaxespad=0.)\n"
   ]
  },
  {
   "cell_type": "code",
   "execution_count": null,
   "metadata": {},
   "outputs": [],
   "source": [
    "df.groupby(\"Opportunity_ID\").agg({\"Product_Family\":count_values}).nlargest(1,\"Product_Family\")"
   ]
  },
  {
   "cell_type": "code",
   "execution_count": null,
   "metadata": {},
   "outputs": [],
   "source": [
    "selected = ColumnActivityByOp.filter(OpID_cambiantes,axis=0).filter(items= columnValuesByOp.index).reset_index()\n",
    "selected = pd.merge(selected,df.reset_index().loc[:,[\"Opportunity_ID\",\"Stage\"]],on = \"Opportunity_ID\", how = \"left\")\n",
    "selected"
   ]
  },
  {
   "cell_type": "code",
   "execution_count": null,
   "metadata": {
    "scrolled": true
   },
   "outputs": [],
   "source": [
    "for column in selected:\n",
    "    is_won = selected[\"Stage\"] == \"Closed Won\"\n",
    "    reselected = selected.loc[is_won,column]\n",
    "    reselected.plot.hist(color=\"green\")\n",
    "    plt.show()\n",
    "    reselected = selected.loc[ is_won == False,column]\n",
    "    reselected.plot.hist(color=\"red\")\n",
    "    plt.show()"
   ]
  },
  {
   "cell_type": "markdown",
   "metadata": {},
   "source": [
    "### Rainplot de repeticiones de las columnas con altos valores de rep."
   ]
  },
  {
   "cell_type": "code",
   "execution_count": null,
   "metadata": {},
   "outputs": [],
   "source": [
    "to_plot = ColumnActivityByOp\n",
    "\n",
    "\n",
    "to_plot = pd.merge(to_plot,df.loc[:,[\"Opportunity_ID\",\"Stage\"]],on = \"Opportunity_ID\", how = \"left\")\n",
    "\n",
    "to_plot = to_plot.drop_duplicates()\n",
    "to_plot = to_plot[to_plot[\"Stage_y\"].isin([\"Closed Lost\",\"Closed Won\"])]\n",
    "to_plot"
   ]
  },
  {
   "cell_type": "code",
   "execution_count": null,
   "metadata": {},
   "outputs": [],
   "source": [
    "for columna in columnValuesByOp.index:\n",
    "    #sns.kdeplot(data=to_plot,x= columna ,hue=\"Stage_y\")\n",
    "    #sns.displot(to_plot, x=columna, kde=True ,hue=\"Stage_y\",legend = [\"Closed Lost\",\"Closed Won\"])\n",
    "    sns.kdeplot(data=to_plot, x=columna,hue=\"Stage_y\")\n",
    "\n",
    "    plt.show()"
   ]
  },
  {
   "cell_type": "code",
   "execution_count": null,
   "metadata": {},
   "outputs": [],
   "source": []
  },
  {
   "cell_type": "markdown",
   "metadata": {},
   "source": [
    "## Word Cloud"
   ]
  },
  {
   "cell_type": "code",
   "execution_count": null,
   "metadata": {},
   "outputs": [],
   "source": [
    "library(wordcloud)\n"
   ]
  },
  {
   "cell_type": "code",
   "execution_count": null,
   "metadata": {},
   "outputs": [],
   "source": [
    "df"
   ]
  },
  {
   "cell_type": "code",
   "execution_count": null,
   "metadata": {},
   "outputs": [],
   "source": [
    "grouped = df.groupby([\"Stage\"]).agg({\"Territory\":\"value_counts\"})\n",
    "grouped.columns=[\"frequency\"]\n",
    "grouped.reset_index(inplace=True)\n",
    "grouped = grouped.loc[grouped[\"Stage\"].isin([\"Closed Lost\",\"Closed Won\"])]\n",
    "grouped\n"
   ]
  },
  {
   "cell_type": "code",
   "execution_count": null,
   "metadata": {},
   "outputs": [],
   "source": [
    "grouped[\"Territory\"] = grouped[\"Territory\"].replace(to_replace='None', value=np.nan).dropna()\n",
    "grouped[\"Territory\"].replace(\"NW America\",\"NWAmerica\",inplace=True)\n",
    "grouped[\"Territory\"].replace(\"NE America\", \"NEAmerica\",inplace=True)\n",
    "grouped[\"Territory\"].replace(\"SW America\", \"SWAmerica\",inplace=True)\n",
    "grouped[\"Territory\"].replace(\"SE America\", \"SEAmerica\",inplace=True)\n",
    "\n",
    "\n",
    "toplot = grouped[grouped[\"frequency\"]>200]\n",
    "toplot"
   ]
  },
  {
   "cell_type": "code",
   "execution_count": null,
   "metadata": {},
   "outputs": [],
   "source": [
    "toplot.groupby(\"Territory\").agg({\"frequency\":\"mean\"})"
   ]
  },
  {
   "cell_type": "code",
   "execution_count": null,
   "metadata": {},
   "outputs": [],
   "source": [
    "import wordcloud\n",
    "from wordcloud import WordCloud , STOPWORDS"
   ]
  },
  {
   "cell_type": "code",
   "execution_count": null,
   "metadata": {},
   "outputs": [],
   "source": [
    "from wordcloud import (WordCloud, get_single_color_func)\n",
    "import matplotlib.pyplot as plt\n",
    "\n",
    "\n",
    "class SimpleGroupedColorFunc(object):\n",
    "    \"\"\"Create a color function object which assigns EXACT colors\n",
    "       to certain words based on the color to words mapping\n",
    "\n",
    "       Parameters\n",
    "       ----------\n",
    "       color_to_words : dict(str -> list(str))\n",
    "         A dictionary that maps a color to the list of words.\n",
    "\n",
    "       default_color : str\n",
    "         Color that will be assigned to a word that's not a member\n",
    "         of any value from color_to_words.\n",
    "    \"\"\"\n",
    "\n",
    "    def __init__(self, color_to_words, default_color):\n",
    "        self.word_to_color = {word: color\n",
    "                              for (color, words) in color_to_words.items()\n",
    "                              for word in words}\n",
    "\n",
    "        self.default_color = default_color\n",
    "\n",
    "    def __call__(self, word, **kwargs):\n",
    "        return self.word_to_color.get(word, self.default_color)\n",
    "\n",
    "\n",
    "class GroupedColorFunc(object):\n",
    "    \"\"\"Create a color function object which assigns DIFFERENT SHADES of\n",
    "       specified colors to certain words based on the color to words mapping.\n",
    "\n",
    "       Uses wordcloud.get_single_color_func\n",
    "\n",
    "       Parameters\n",
    "       ----------\n",
    "       color_to_words : dict(str -> list(str))\n",
    "         A dictionary that maps a color to the list of words.\n",
    "\n",
    "       default_color : str\n",
    "         Color that will be assigned to a word that's not a member\n",
    "         of any value from color_to_words.\n",
    "    \"\"\"\n",
    "\n",
    "    def __init__(self, color_to_words, default_color):\n",
    "        self.color_func_to_words = [\n",
    "            (get_single_color_func(color), set(words))\n",
    "            for (color, words) in color_to_words.items()]\n",
    "\n",
    "        self.default_color_func = get_single_color_func(default_color)\n",
    "\n",
    "    def get_color_func(self, word):\n",
    "        \"\"\"Returns a single_color_func associated with the word\"\"\"\n",
    "        try:\n",
    "            color_func = next(\n",
    "                color_func for (color_func, words) in self.color_func_to_words\n",
    "                if word in words)\n",
    "        except StopIteration:\n",
    "            color_func = self.default_color_func\n",
    "\n",
    "        return color_func\n",
    "\n",
    "    def __call__(self, word, **kwargs):\n",
    "        return self.get_color_func(word)(word, **kwargs)\n",
    "\n",
    "\n",
    "text = \"\"\"The Zen of Python, by Tim Peters\n",
    "Beautiful is better than ugly.\n",
    "Explicit is better than implicit.\n",
    "Simple is better than complex.\n",
    "Complex is better than complicated.\n",
    "Flat is better than nested.\n",
    "Sparse is better than dense.\n",
    "Readability counts.\n",
    "Special cases aren't special enough to break the rules.\n",
    "Although practicality beats purity.\n",
    "Errors should never pass silently.\n",
    "Unless explicitly silenced.\n",
    "In the face of ambiguity, refuse the temptation to guess.\n",
    "There should be one-- and preferably only one --obvious way to do it.\n",
    "Although that way may not be obvious at first unless you're Dutch.\n",
    "Now is better than never.\n",
    "Although never is often better than *right* now.\n",
    "If the implementation is hard to explain, it's a bad idea.\n",
    "If the implementation is easy to explain, it may be a good idea.\n",
    "Namespaces are one honking great idea -- let's do more of those!\"\"\"\n",
    "\n",
    "# Since the text is small collocations are turned off and text is lower-cased\n",
    "wc = WordCloud(collocations=False).generate(text.lower())\n",
    "\n",
    "color_to_words = {}\n",
    "\n",
    "# Words that are not in any of the color_to_words values\n",
    "# will be colored with a grey single color function\n",
    "default_color = 'grey'\n",
    "\n",
    "# Create a color function with single tone\n",
    "# grouped_color_func = SimpleGroupedColorFunc(color_to_words, default_color)\n",
    "\n",
    "# Create a color function with multiple tones\n",
    "grouped_color_func = GroupedColorFunc(color_to_words, default_color)\n",
    "\n",
    "# Apply our color function\n",
    "wc.recolor(color_func=grouped_color_func)\n",
    "\n",
    "# Plot\n",
    "plt.figure()\n",
    "plt.imshow(wc, interpolation=\"bilinear\")\n",
    "plt.axis(\"off\")\n",
    "plt.show()\n"
   ]
  },
  {
   "cell_type": "code",
   "execution_count": null,
   "metadata": {},
   "outputs": [],
   "source": [
    "\n",
    "closes_won = df.loc[:,'Territory']\n",
    "\n",
    "new = closes_won.replace(to_replace='None', value=np.nan).dropna()\n",
    "new.replace(\"NW America\",\"NWAmerica\",inplace=True)\n",
    "new.replace(\"NE America\", \"NEAmerica\",inplace=True)\n",
    "new.replace(\"SW America\", \"SWAmerica\",inplace=True)\n",
    "new.replace(\"SE America\", \"SEAmerica\",inplace=True)\n",
    "\n",
    "text = ' '.join(new)\n",
    "\n",
    "default_color = 'grey'\n",
    "\n",
    "# Create a color function with single tone\n",
    "# grouped_color_func = SimpleGroupedColorFunc(color_to_words, default_color)\n",
    "\n",
    "# Create a color function with multiple tones\n",
    "grouped_color_func = GroupedColorFunc(color_to_words, default_color)\n",
    "\n",
    "wordcloud2 = WordCloud(width=3000, height=900, margin=0,collocations=False).generate(text)\n",
    "\n",
    "wordcloud2.recolor(color_func=grouped_color_func)\n",
    "\n",
    "plt.imshow(wordcloud2, interpolation='bilinear')\n",
    "plt.axis(\"off\")\n",
    "plt.margins(x=0, y=0)\n",
    "plt.title('Territorios mas influyentes')\n",
    "plt.show()"
   ]
  },
  {
   "cell_type": "code",
   "execution_count": null,
   "metadata": {},
   "outputs": [],
   "source": [
    "color_to_words = { \"green\":[],\n",
    "                  \"red\": []}"
   ]
  },
  {
   "cell_type": "code",
   "execution_count": null,
   "metadata": {},
   "outputs": [],
   "source": [
    "for index,row in toplot.iterrows():\n",
    "    if row[\"Stage\"] == \"Closed Won\":\n",
    "        color_to_words[\"green\"].append(row[\"Territory\"])\n",
    "        \n",
    "    if row[\"Stage\"] == \"Closed Lost\":\n",
    "        color_to_words[\"red\"].append(row[\"Territory\"])\n",
    "\n",
    "color_to_words\n",
    "grouped_color_func = GroupedColorFunc(color_to_words, default_color)\n",
    "\n",
    "wordcloud2 = WordCloud(width=3000, height=900, margin=0,collocations=False).generate(text)\n",
    "\n",
    "wordcloud2.recolor(color_func=grouped_color_func)\n",
    "\n",
    "plt.imshow(wordcloud2, interpolation='bilinear')\n",
    "plt.axis(\"off\")\n",
    "plt.margins(x=0, y=0)\n",
    "plt.title('Territorios mas influyentes')\n",
    "plt.show()"
   ]
  },
  {
   "cell_type": "markdown",
   "metadata": {},
   "source": [
    "### Se buscara relaciones entre el ASP converted y el Stage"
   ]
  },
  {
   "cell_type": "code",
   "execution_count": null,
   "metadata": {},
   "outputs": [],
   "source": [
    "selected = df.loc[df[\"ASP_(converted)\"] < 1]\n",
    "\n",
    "sns.histplot(selected,x=\"ASP_(converted)\",hue=\"Stage\",bins= 30)\n"
   ]
  },
  {
   "cell_type": "code",
   "execution_count": null,
   "metadata": {},
   "outputs": [],
   "source": [
    "target = \"Closed Won\"\n",
    "\n",
    "target_df = df.loc[df[\"Stage\"] == target,[\"ASP_(converted)\",\"Stage\"]].rename(columns = {\"ASP_(converted)\":\"ASP\"})\n",
    "no_target_df = df.loc[df[\"Stage\"] != target,[\"ASP_(converted)\",\"Stage\"]].rename(columns = {\"ASP_(converted)\":\"ASP\"})\n",
    "\n",
    "selected = target_df.loc[df[\"ASP\"] < 2]\n",
    "sns.displot(selected[\"ASP\"],color=\"lightgreen\")\n",
    "\n",
    "selected = no_target_df.loc[df[\"ASP\"] < 2]\n",
    "sns.displot(selected[\"ASP\"],color=\"pink\")\n",
    "plt.show()"
   ]
  },
  {
   "cell_type": "code",
   "execution_count": null,
   "metadata": {},
   "outputs": [],
   "source": [
    "target = \"Closed Won\"\n",
    "\n",
    "target_df = df.loc[df[\"Stage\"] == target,[\"ASP_(converted)\",\"Stage\"]].rename(columns = {\"ASP_(converted)\":\"ASP\"})\n",
    "no_target_df = df.loc[df[\"Stage\"] != target,[\"ASP_(converted)\",\"Stage\"]].rename(columns = {\"ASP_(converted)\":\"ASP\"})\n",
    "\n",
    "selected = target_df.loc[df[\"ASP\"] < 1]\n",
    "sns.kdeplot(selected[\"ASP\"],color=\"lightgreen\")\n",
    "\n",
    "selected = no_target_df.loc[df[\"ASP\"] < 1]\n",
    "sns.kdeplot(selected[\"ASP\"],color=\"pink\")\n",
    "plt.show()"
   ]
  },
  {
   "cell_type": "code",
   "execution_count": null,
   "metadata": {},
   "outputs": [],
   "source": []
  },
  {
   "cell_type": "markdown",
   "metadata": {},
   "source": [
    "### Se buscara relaciones entre el ASP converted y el Stage"
   ]
  },
  {
   "cell_type": "code",
   "execution_count": null,
   "metadata": {},
   "outputs": [],
   "source": [
    "selected = df.loc[df[\"ASP_(converted)\"] < 1]\n",
    "\n",
    "sns.histplot(selected,x=\"ASP_(converted)\",hue=\"Stage\",bins= 30)\n"
   ]
  },
  {
   "cell_type": "code",
   "execution_count": null,
   "metadata": {},
   "outputs": [],
   "source": [
    "target = \"Closed Won\"\n",
    "\n",
    "target_df = df.loc[df[\"Stage\"] == target,[\"ASP_(converted)\",\"Stage\"]].rename(columns = {\"ASP_(converted)\":\"ASP\"})\n",
    "no_target_df = df.loc[df[\"Stage\"] != target,[\"ASP_(converted)\",\"Stage\"]].rename(columns = {\"ASP_(converted)\":\"ASP\"})\n",
    "\n",
    "selected = target_df.loc[df[\"ASP\"] < 2]\n",
    "sns.displot(selected[\"ASP\"],color=\"lightgreen\")\n",
    "\n",
    "selected = no_target_df.loc[df[\"ASP\"] < 2]\n",
    "sns.displot(selected[\"ASP\"],color=\"pink\")\n",
    "plt.show()"
   ]
  },
  {
   "cell_type": "code",
   "execution_count": null,
   "metadata": {},
   "outputs": [],
   "source": [
    "target = \"Closed Won\"\n",
    "\n",
    "target_df = df.loc[df[\"Stage\"] == target,[\"ASP_(converted)\",\"Stage\"]].rename(columns = {\"ASP_(converted)\":\"ASP\"})\n",
    "no_target_df = df.loc[df[\"Stage\"] != target,[\"ASP_(converted)\",\"Stage\"]].rename(columns = {\"ASP_(converted)\":\"ASP\"})\n",
    "\n",
    "selected = target_df.loc[df[\"ASP\"] < 1]\n",
    "sns.kdeplot(selected[\"ASP\"],color=\"lightgreen\")\n",
    "\n",
    "selected = no_target_df.loc[df[\"ASP\"] < 1]\n",
    "sns.kdeplot(selected[\"ASP\"],color=\"pink\")\n",
    "plt.show()"
   ]
  },
  {
   "cell_type": "code",
   "execution_count": null,
   "metadata": {},
   "outputs": [],
   "source": []
  },
  {
   "cell_type": "markdown",
   "metadata": {},
   "source": [
    "## Buscando otros features"
   ]
  },
  {
   "cell_type": "code",
   "execution_count": null,
   "metadata": {},
   "outputs": [],
   "source": [
    "df.info()"
   ]
  },
  {
   "cell_type": "code",
   "execution_count": null,
   "metadata": {},
   "outputs": [],
   "source": [
    "# Elegimos la columna \"Opportunity_Type\" para observar los valores\n",
    "df[\"Opportunity_Type\"].value_counts()"
   ]
  },
  {
   "cell_type": "code",
   "execution_count": null,
   "metadata": {},
   "outputs": [],
   "source": []
  },
  {
   "cell_type": "code",
   "execution_count": null,
   "metadata": {},
   "outputs": [],
   "source": [
    "# Tomamos los 4 primeros que son los más relevantes\n",
    "types = df[\"Opportunity_Type\"].value_counts().nlargest(4).index\n",
    "\n",
    "to_plot = df.loc[df[\"Opportunity_Type\"].isin(types),[\"Opportunity_Type\",\"Stage\"]]\n",
    "to_plot[\"Opportunity_Type\"] = to_plot[\"Opportunity_Type\"].astype(object)\n",
    "\n",
    "\n",
    "sns.catplot(x=\"Opportunity_Type\", hue=\"Stage\", kind=\"count\", data=to_plot)"
   ]
  },
  {
   "cell_type": "code",
   "execution_count": null,
   "metadata": {},
   "outputs": [],
   "source": []
  },
  {
   "cell_type": "code",
   "execution_count": null,
   "metadata": {},
   "outputs": [],
   "source": []
  },
  {
   "cell_type": "code",
   "execution_count": null,
   "metadata": {},
   "outputs": [],
   "source": [
    "# Elegimos la columna \"Bureaucratic_Code\" para observar los valores\n",
    "df[\"Bureaucratic_Code\"].value_counts()"
   ]
  },
  {
   "cell_type": "code",
   "execution_count": null,
   "metadata": {},
   "outputs": [],
   "source": [
    "# Tomamos los 4 primeros que son los más relevantes\n",
    "\n",
    "types = df[\"Opportunity_Type\"].value_counts().nlargest(4).index"
   ]
  },
  {
   "cell_type": "code",
   "execution_count": null,
   "metadata": {},
   "outputs": [],
   "source": [
    "to_plot = df.loc[:,[\"Bureaucratic_Code\",\"Stage\"]]\n",
    "to_plot[\"Bureaucratic_Code\"] = to_plot[\"Bureaucratic_Code\"].astype(object)\n",
    "\n",
    "sns.catplot(x=\"Bureaucratic_Code\", hue=\"Stage\", kind=\"count\", data=to_plot)"
   ]
  },
  {
   "cell_type": "code",
   "execution_count": null,
   "metadata": {},
   "outputs": [],
   "source": [
    "flights = flights.pivot(\"month\", \"year\", \"passengers\")\n",
    "ax = sns.heatmap(flights)"
   ]
  },
  {
   "cell_type": "code",
   "execution_count": null,
   "metadata": {},
   "outputs": [],
   "source": [
    "df.Prod_Category_A.value_counts()"
   ]
  },
  {
   "cell_type": "code",
   "execution_count": null,
   "metadata": {},
   "outputs": [],
   "source": [
    "df.Product_Category_B.value_counts()"
   ]
  }
 ],
 "metadata": {
  "kernelspec": {
   "display_name": "Python 3",
   "language": "python",
   "name": "python3"
  },
  "language_info": {
   "codemirror_mode": {
    "name": "ipython",
    "version": 3
   },
   "file_extension": ".py",
   "mimetype": "text/x-python",
   "name": "python",
   "nbconvert_exporter": "python",
   "pygments_lexer": "ipython3",
   "version": "3.7.9"
  }
 },
 "nbformat": 4,
 "nbformat_minor": 4
}
