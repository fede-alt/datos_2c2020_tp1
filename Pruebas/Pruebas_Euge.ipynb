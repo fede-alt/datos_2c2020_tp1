{
 "cells": [
  {
   "cell_type": "markdown",
   "source": [
    "# Pruebas\n",
    "## *by Euge*"
   ],
   "metadata": {
    "collapsed": false,
    "pycharm": {
     "name": "#%% md\n"
    }
   }
  },
  {
   "cell_type": "code",
   "execution_count": 227,
   "metadata": {
    "collapsed": true,
    "pycharm": {
     "name": "#%%\n"
    }
   },
   "outputs": [],
   "source": [
    "import pandas as pd\n",
    "import numpy as np\n",
    "# import matplotlib.pyplot as plt"
   ]
  },
  {
   "cell_type": "markdown",
   "source": [
    "Levantamos el *dataset*"
   ],
   "metadata": {
    "collapsed": false,
    "pycharm": {
     "name": "#%% md\n"
    }
   }
  },
  {
   "cell_type": "code",
   "execution_count": 228,
   "outputs": [],
   "source": [
    "df = pd.read_csv('train.csv')"
   ],
   "metadata": {
    "collapsed": false,
    "pycharm": {
     "name": "#%%\n"
    }
   }
  },
  {
   "cell_type": "code",
   "execution_count": 229,
   "outputs": [
    {
     "data": {
      "text/plain": "      ID    Region   Territory  Pricing, Delivery_Terms_Quote_Appr  \\\n0  27761      EMEA        None                                   1   \n1  27760      EMEA        None                                   0   \n2  27446  Americas  NW America                                   0   \n3  16808  Americas  NW America                                   1   \n4  16805  Americas  NW America                                   1   \n\n   Pricing, Delivery_Terms_Approved  Bureaucratic_Code_0_Approval  \\\n0                                 1                             1   \n1                                 0                             0   \n2                                 0                             0   \n3                                 0                             1   \n4                                 0                             1   \n\n   Bureaucratic_Code_0_Approved  Submitted_for_Approval    Bureaucratic_Code  \\\n0                             1                       0  Bureaucratic_Code_4   \n1                             0                       0  Bureaucratic_Code_4   \n2                             0                       0  Bureaucratic_Code_4   \n3                             0                       0  Bureaucratic_Code_5   \n4                             0                       0  Bureaucratic_Code_5   \n\n  Account_Created_Date  ... Delivery_Quarter Delivery_Year  \\\n0            6/16/2015  ...               Q2          2016   \n1            6/16/2015  ...               Q1          2016   \n2            4/21/2015  ...               Q1          2016   \n3            7/27/2013  ...               Q1          2018   \n4            7/27/2013  ...               Q1          2018   \n\n  Actual_Delivery_Date TRF  Total_Amount_Currency Total_Amount  \\\n0                  NaT  10                    EUR    5272800.0   \n1                  NaT   0                    EUR      48230.0   \n2                  NaT   0                    USD      83865.6   \n3                  NaT  14                    USD    7421881.5   \n4                  NaT  25                    USD   13357192.5   \n\n  Total_Taxable_Amount_Currency Total_Taxable_Amount        Stage  \\\n0                           EUR            5272800.0  Closed Lost   \n1                           EUR              48230.0   Closed Won   \n2                           USD              83865.6   Closed Won   \n3                           USD            7421881.5  Closed Lost   \n4                           USD           13357192.5  Closed Lost   \n\n        Prod_Category_A  \n0  Prod_Category_A_None  \n1  Prod_Category_A_None  \n2  Prod_Category_A_None  \n3  Prod_Category_A_None  \n4  Prod_Category_A_None  \n\n[5 rows x 52 columns]",
      "text/html": "<div>\n<style scoped>\n    .dataframe tbody tr th:only-of-type {\n        vertical-align: middle;\n    }\n\n    .dataframe tbody tr th {\n        vertical-align: top;\n    }\n\n    .dataframe thead th {\n        text-align: right;\n    }\n</style>\n<table border=\"1\" class=\"dataframe\">\n  <thead>\n    <tr style=\"text-align: right;\">\n      <th></th>\n      <th>ID</th>\n      <th>Region</th>\n      <th>Territory</th>\n      <th>Pricing, Delivery_Terms_Quote_Appr</th>\n      <th>Pricing, Delivery_Terms_Approved</th>\n      <th>Bureaucratic_Code_0_Approval</th>\n      <th>Bureaucratic_Code_0_Approved</th>\n      <th>Submitted_for_Approval</th>\n      <th>Bureaucratic_Code</th>\n      <th>Account_Created_Date</th>\n      <th>...</th>\n      <th>Delivery_Quarter</th>\n      <th>Delivery_Year</th>\n      <th>Actual_Delivery_Date</th>\n      <th>TRF</th>\n      <th>Total_Amount_Currency</th>\n      <th>Total_Amount</th>\n      <th>Total_Taxable_Amount_Currency</th>\n      <th>Total_Taxable_Amount</th>\n      <th>Stage</th>\n      <th>Prod_Category_A</th>\n    </tr>\n  </thead>\n  <tbody>\n    <tr>\n      <th>0</th>\n      <td>27761</td>\n      <td>EMEA</td>\n      <td>None</td>\n      <td>1</td>\n      <td>1</td>\n      <td>1</td>\n      <td>1</td>\n      <td>0</td>\n      <td>Bureaucratic_Code_4</td>\n      <td>6/16/2015</td>\n      <td>...</td>\n      <td>Q2</td>\n      <td>2016</td>\n      <td>NaT</td>\n      <td>10</td>\n      <td>EUR</td>\n      <td>5272800.0</td>\n      <td>EUR</td>\n      <td>5272800.0</td>\n      <td>Closed Lost</td>\n      <td>Prod_Category_A_None</td>\n    </tr>\n    <tr>\n      <th>1</th>\n      <td>27760</td>\n      <td>EMEA</td>\n      <td>None</td>\n      <td>0</td>\n      <td>0</td>\n      <td>0</td>\n      <td>0</td>\n      <td>0</td>\n      <td>Bureaucratic_Code_4</td>\n      <td>6/16/2015</td>\n      <td>...</td>\n      <td>Q1</td>\n      <td>2016</td>\n      <td>NaT</td>\n      <td>0</td>\n      <td>EUR</td>\n      <td>48230.0</td>\n      <td>EUR</td>\n      <td>48230.0</td>\n      <td>Closed Won</td>\n      <td>Prod_Category_A_None</td>\n    </tr>\n    <tr>\n      <th>2</th>\n      <td>27446</td>\n      <td>Americas</td>\n      <td>NW America</td>\n      <td>0</td>\n      <td>0</td>\n      <td>0</td>\n      <td>0</td>\n      <td>0</td>\n      <td>Bureaucratic_Code_4</td>\n      <td>4/21/2015</td>\n      <td>...</td>\n      <td>Q1</td>\n      <td>2016</td>\n      <td>NaT</td>\n      <td>0</td>\n      <td>USD</td>\n      <td>83865.6</td>\n      <td>USD</td>\n      <td>83865.6</td>\n      <td>Closed Won</td>\n      <td>Prod_Category_A_None</td>\n    </tr>\n    <tr>\n      <th>3</th>\n      <td>16808</td>\n      <td>Americas</td>\n      <td>NW America</td>\n      <td>1</td>\n      <td>0</td>\n      <td>1</td>\n      <td>0</td>\n      <td>0</td>\n      <td>Bureaucratic_Code_5</td>\n      <td>7/27/2013</td>\n      <td>...</td>\n      <td>Q1</td>\n      <td>2018</td>\n      <td>NaT</td>\n      <td>14</td>\n      <td>USD</td>\n      <td>7421881.5</td>\n      <td>USD</td>\n      <td>7421881.5</td>\n      <td>Closed Lost</td>\n      <td>Prod_Category_A_None</td>\n    </tr>\n    <tr>\n      <th>4</th>\n      <td>16805</td>\n      <td>Americas</td>\n      <td>NW America</td>\n      <td>1</td>\n      <td>0</td>\n      <td>1</td>\n      <td>0</td>\n      <td>0</td>\n      <td>Bureaucratic_Code_5</td>\n      <td>7/27/2013</td>\n      <td>...</td>\n      <td>Q1</td>\n      <td>2018</td>\n      <td>NaT</td>\n      <td>25</td>\n      <td>USD</td>\n      <td>13357192.5</td>\n      <td>USD</td>\n      <td>13357192.5</td>\n      <td>Closed Lost</td>\n      <td>Prod_Category_A_None</td>\n    </tr>\n  </tbody>\n</table>\n<p>5 rows × 52 columns</p>\n</div>"
     },
     "execution_count": 229,
     "metadata": {},
     "output_type": "execute_result"
    }
   ],
   "source": [
    "df.head()"
   ],
   "metadata": {
    "collapsed": false,
    "pycharm": {
     "name": "#%%\n"
    }
   }
  },
  {
   "cell_type": "markdown",
   "source": [
    "Vemos el tipo de cada columna"
   ],
   "metadata": {
    "collapsed": false,
    "pycharm": {
     "name": "#%% md\n"
    }
   }
  },
  {
   "cell_type": "code",
   "execution_count": 230,
   "outputs": [
    {
     "name": "stdout",
     "output_type": "stream",
     "text": [
      "<class 'pandas.core.frame.DataFrame'>\n",
      "RangeIndex: 16947 entries, 0 to 16946\n",
      "Data columns (total 52 columns):\n",
      " #   Column                              Non-Null Count  Dtype  \n",
      "---  ------                              --------------  -----  \n",
      " 0   ID                                  16947 non-null  int64  \n",
      " 1   Region                              16947 non-null  object \n",
      " 2   Territory                           16947 non-null  object \n",
      " 3   Pricing, Delivery_Terms_Quote_Appr  16947 non-null  int64  \n",
      " 4   Pricing, Delivery_Terms_Approved    16947 non-null  int64  \n",
      " 5   Bureaucratic_Code_0_Approval        16947 non-null  int64  \n",
      " 6   Bureaucratic_Code_0_Approved        16947 non-null  int64  \n",
      " 7   Submitted_for_Approval              16947 non-null  int64  \n",
      " 8   Bureaucratic_Code                   16947 non-null  object \n",
      " 9   Account_Created_Date                16947 non-null  object \n",
      " 10  Source                              16947 non-null  object \n",
      " 11  Billing_Country                     16947 non-null  object \n",
      " 12  Account_Name                        16947 non-null  object \n",
      " 13  Opportunity_Name                    16947 non-null  object \n",
      " 14  Opportunity_ID                      16947 non-null  int64  \n",
      " 15  Sales_Contract_No                   16947 non-null  object \n",
      " 16  Account_Owner                       16947 non-null  object \n",
      " 17  Opportunity_Owner                   16947 non-null  object \n",
      " 18  Account_Type                        16947 non-null  object \n",
      " 19  Opportunity_Type                    16947 non-null  object \n",
      " 20  Quote_Type                          16947 non-null  object \n",
      " 21  Delivery_Terms                      16947 non-null  object \n",
      " 22  Opportunity_Created_Date            16947 non-null  object \n",
      " 23  Brand                               16947 non-null  object \n",
      " 24  Product_Type                        16947 non-null  object \n",
      " 25  Size                                16947 non-null  object \n",
      " 26  Product_Category_B                  16947 non-null  object \n",
      " 27  Price                               16947 non-null  object \n",
      " 28  Currency                            16947 non-null  object \n",
      " 29  Last_Activity                       16947 non-null  object \n",
      " 30  Quote_Expiry_Date                   16947 non-null  object \n",
      " 31  Last_Modified_Date                  16947 non-null  object \n",
      " 32  Last_Modified_By                    16947 non-null  object \n",
      " 33  Product_Family                      16947 non-null  object \n",
      " 34  Product_Name                        16947 non-null  object \n",
      " 35  ASP_Currency                        16947 non-null  object \n",
      " 36  ASP                                 13738 non-null  float64\n",
      " 37  ASP_(converted)_Currency            16947 non-null  object \n",
      " 38  ASP_(converted)                     13738 non-null  float64\n",
      " 39  Planned_Delivery_Start_Date         16947 non-null  object \n",
      " 40  Planned_Delivery_End_Date           16947 non-null  object \n",
      " 41  Month                               16947 non-null  object \n",
      " 42  Delivery_Quarter                    16947 non-null  object \n",
      " 43  Delivery_Year                       16947 non-null  int64  \n",
      " 44  Actual_Delivery_Date                16947 non-null  object \n",
      " 45  TRF                                 16947 non-null  int64  \n",
      " 46  Total_Amount_Currency               16947 non-null  object \n",
      " 47  Total_Amount                        16888 non-null  float64\n",
      " 48  Total_Taxable_Amount_Currency       16947 non-null  object \n",
      " 49  Total_Taxable_Amount                16947 non-null  float64\n",
      " 50  Stage                               16947 non-null  object \n",
      " 51  Prod_Category_A                     16947 non-null  object \n",
      "dtypes: float64(4), int64(9), object(39)\n",
      "memory usage: 4.2+ MB\n"
     ]
    }
   ],
   "source": [
    "df.info()"
   ],
   "metadata": {
    "collapsed": false,
    "pycharm": {
     "name": "#%%\n"
    }
   }
  },
  {
   "cell_type": "markdown",
   "source": [
    "Veamos si los ID son únicos, así los podemos usar como clave"
   ],
   "metadata": {
    "collapsed": false,
    "pycharm": {
     "name": "#%% md\n"
    }
   }
  },
  {
   "cell_type": "code",
   "execution_count": 231,
   "outputs": [
    {
     "data": {
      "text/plain": "6141     1\n27384    1\n21263    1\n19212    1\n25353    1\nName: ID, dtype: int64"
     },
     "execution_count": 231,
     "metadata": {},
     "output_type": "execute_result"
    }
   ],
   "source": [
    "df['ID'].value_counts().head()"
   ],
   "metadata": {
    "collapsed": false,
    "pycharm": {
     "name": "#%%\n"
    }
   }
  },
  {
   "cell_type": "markdown",
   "source": [
    "Son únicos porque el mayor es 1. Así que van como clave:"
   ],
   "metadata": {
    "collapsed": false,
    "pycharm": {
     "name": "#%% md\n"
    }
   }
  },
  {
   "cell_type": "code",
   "execution_count": 232,
   "outputs": [
    {
     "data": {
      "text/plain": "         Region   Territory  Pricing, Delivery_Terms_Quote_Appr  \\\nID                                                                \n27761      EMEA        None                                   1   \n27760      EMEA        None                                   0   \n27446  Americas  NW America                                   0   \n16808  Americas  NW America                                   1   \n16805  Americas  NW America                                   1   \n\n       Pricing, Delivery_Terms_Approved  Bureaucratic_Code_0_Approval  \\\nID                                                                      \n27761                                 1                             1   \n27760                                 0                             0   \n27446                                 0                             0   \n16808                                 0                             1   \n16805                                 0                             1   \n\n       Bureaucratic_Code_0_Approved  Submitted_for_Approval  \\\nID                                                            \n27761                             1                       0   \n27760                             0                       0   \n27446                             0                       0   \n16808                             0                       0   \n16805                             0                       0   \n\n         Bureaucratic_Code Account_Created_Date    Source   ...  \\\nID                                                          ...   \n27761  Bureaucratic_Code_4            6/16/2015       None  ...   \n27760  Bureaucratic_Code_4            6/16/2015       None  ...   \n27446  Bureaucratic_Code_4            4/21/2015   Source_7  ...   \n16808  Bureaucratic_Code_5            7/27/2013  Source_11  ...   \n16805  Bureaucratic_Code_5            7/27/2013  Source_11  ...   \n\n      Delivery_Quarter Delivery_Year Actual_Delivery_Date  TRF  \\\nID                                                               \n27761               Q2          2016                  NaT   10   \n27760               Q1          2016                  NaT    0   \n27446               Q1          2016                  NaT    0   \n16808               Q1          2018                  NaT   14   \n16805               Q1          2018                  NaT   25   \n\n      Total_Amount_Currency Total_Amount Total_Taxable_Amount_Currency  \\\nID                                                                       \n27761                   EUR    5272800.0                           EUR   \n27760                   EUR      48230.0                           EUR   \n27446                   USD      83865.6                           USD   \n16808                   USD    7421881.5                           USD   \n16805                   USD   13357192.5                           USD   \n\n      Total_Taxable_Amount        Stage       Prod_Category_A  \nID                                                             \n27761            5272800.0  Closed Lost  Prod_Category_A_None  \n27760              48230.0   Closed Won  Prod_Category_A_None  \n27446              83865.6   Closed Won  Prod_Category_A_None  \n16808            7421881.5  Closed Lost  Prod_Category_A_None  \n16805           13357192.5  Closed Lost  Prod_Category_A_None  \n\n[5 rows x 51 columns]",
      "text/html": "<div>\n<style scoped>\n    .dataframe tbody tr th:only-of-type {\n        vertical-align: middle;\n    }\n\n    .dataframe tbody tr th {\n        vertical-align: top;\n    }\n\n    .dataframe thead th {\n        text-align: right;\n    }\n</style>\n<table border=\"1\" class=\"dataframe\">\n  <thead>\n    <tr style=\"text-align: right;\">\n      <th></th>\n      <th>Region</th>\n      <th>Territory</th>\n      <th>Pricing, Delivery_Terms_Quote_Appr</th>\n      <th>Pricing, Delivery_Terms_Approved</th>\n      <th>Bureaucratic_Code_0_Approval</th>\n      <th>Bureaucratic_Code_0_Approved</th>\n      <th>Submitted_for_Approval</th>\n      <th>Bureaucratic_Code</th>\n      <th>Account_Created_Date</th>\n      <th>Source</th>\n      <th>...</th>\n      <th>Delivery_Quarter</th>\n      <th>Delivery_Year</th>\n      <th>Actual_Delivery_Date</th>\n      <th>TRF</th>\n      <th>Total_Amount_Currency</th>\n      <th>Total_Amount</th>\n      <th>Total_Taxable_Amount_Currency</th>\n      <th>Total_Taxable_Amount</th>\n      <th>Stage</th>\n      <th>Prod_Category_A</th>\n    </tr>\n    <tr>\n      <th>ID</th>\n      <th></th>\n      <th></th>\n      <th></th>\n      <th></th>\n      <th></th>\n      <th></th>\n      <th></th>\n      <th></th>\n      <th></th>\n      <th></th>\n      <th></th>\n      <th></th>\n      <th></th>\n      <th></th>\n      <th></th>\n      <th></th>\n      <th></th>\n      <th></th>\n      <th></th>\n      <th></th>\n      <th></th>\n    </tr>\n  </thead>\n  <tbody>\n    <tr>\n      <th>27761</th>\n      <td>EMEA</td>\n      <td>None</td>\n      <td>1</td>\n      <td>1</td>\n      <td>1</td>\n      <td>1</td>\n      <td>0</td>\n      <td>Bureaucratic_Code_4</td>\n      <td>6/16/2015</td>\n      <td>None</td>\n      <td>...</td>\n      <td>Q2</td>\n      <td>2016</td>\n      <td>NaT</td>\n      <td>10</td>\n      <td>EUR</td>\n      <td>5272800.0</td>\n      <td>EUR</td>\n      <td>5272800.0</td>\n      <td>Closed Lost</td>\n      <td>Prod_Category_A_None</td>\n    </tr>\n    <tr>\n      <th>27760</th>\n      <td>EMEA</td>\n      <td>None</td>\n      <td>0</td>\n      <td>0</td>\n      <td>0</td>\n      <td>0</td>\n      <td>0</td>\n      <td>Bureaucratic_Code_4</td>\n      <td>6/16/2015</td>\n      <td>None</td>\n      <td>...</td>\n      <td>Q1</td>\n      <td>2016</td>\n      <td>NaT</td>\n      <td>0</td>\n      <td>EUR</td>\n      <td>48230.0</td>\n      <td>EUR</td>\n      <td>48230.0</td>\n      <td>Closed Won</td>\n      <td>Prod_Category_A_None</td>\n    </tr>\n    <tr>\n      <th>27446</th>\n      <td>Americas</td>\n      <td>NW America</td>\n      <td>0</td>\n      <td>0</td>\n      <td>0</td>\n      <td>0</td>\n      <td>0</td>\n      <td>Bureaucratic_Code_4</td>\n      <td>4/21/2015</td>\n      <td>Source_7</td>\n      <td>...</td>\n      <td>Q1</td>\n      <td>2016</td>\n      <td>NaT</td>\n      <td>0</td>\n      <td>USD</td>\n      <td>83865.6</td>\n      <td>USD</td>\n      <td>83865.6</td>\n      <td>Closed Won</td>\n      <td>Prod_Category_A_None</td>\n    </tr>\n    <tr>\n      <th>16808</th>\n      <td>Americas</td>\n      <td>NW America</td>\n      <td>1</td>\n      <td>0</td>\n      <td>1</td>\n      <td>0</td>\n      <td>0</td>\n      <td>Bureaucratic_Code_5</td>\n      <td>7/27/2013</td>\n      <td>Source_11</td>\n      <td>...</td>\n      <td>Q1</td>\n      <td>2018</td>\n      <td>NaT</td>\n      <td>14</td>\n      <td>USD</td>\n      <td>7421881.5</td>\n      <td>USD</td>\n      <td>7421881.5</td>\n      <td>Closed Lost</td>\n      <td>Prod_Category_A_None</td>\n    </tr>\n    <tr>\n      <th>16805</th>\n      <td>Americas</td>\n      <td>NW America</td>\n      <td>1</td>\n      <td>0</td>\n      <td>1</td>\n      <td>0</td>\n      <td>0</td>\n      <td>Bureaucratic_Code_5</td>\n      <td>7/27/2013</td>\n      <td>Source_11</td>\n      <td>...</td>\n      <td>Q1</td>\n      <td>2018</td>\n      <td>NaT</td>\n      <td>25</td>\n      <td>USD</td>\n      <td>13357192.5</td>\n      <td>USD</td>\n      <td>13357192.5</td>\n      <td>Closed Lost</td>\n      <td>Prod_Category_A_None</td>\n    </tr>\n  </tbody>\n</table>\n<p>5 rows × 51 columns</p>\n</div>"
     },
     "execution_count": 232,
     "metadata": {},
     "output_type": "execute_result"
    }
   ],
   "source": [
    "df = df.set_index('ID')\n",
    "df.head()"
   ],
   "metadata": {
    "collapsed": false,
    "pycharm": {
     "name": "#%%\n"
    }
   }
  },
  {
   "cell_type": "markdown",
   "source": [
    "---\n",
    "## Limpieza del *dataset*\n",
    "\n",
    "Por enunciado:\n",
    "\n",
    "* Hay columnas levantadas como `object` que deberían ser `date`.\n",
    "* Otras como `int64` que deberían ser `bool`.\n",
    "* Y otras como `object` que deberían ser `categorical`."
   ],
   "metadata": {
    "collapsed": false,
    "pycharm": {
     "name": "#%% md\n"
    }
   }
  },
  {
   "cell_type": "code",
   "execution_count": 233,
   "outputs": [],
   "source": [
    "# Las date van directo como lista como parámetro para parse_dates\n",
    "date_columns = [\n",
    "                'Account_Created_Date',\n",
    "                'Opportunity_Created_Date',\n",
    "                'Quote_Expiry_Date',\n",
    "                'Last_Modified_Date',\n",
    "                'Planned_Delivery_Start_Date',\n",
    "                'Planned_Delivery_End_Date',\n",
    "]"
   ],
   "metadata": {
    "collapsed": false,
    "pycharm": {
     "name": "#%%\n"
    }
   }
  },
  {
   "cell_type": "code",
   "execution_count": 234,
   "outputs": [],
   "source": [
    "# El resto va como dict. Las vamos sumando de a uno al dict 'column_types'\n",
    "bool_columns = [\n",
    "                'Pricing, Delivery_Terms_Quote_Appr',\n",
    "                'Pricing, Delivery_Terms_Approved',\n",
    "                'Bureaucratic_Code_0_Approval',\n",
    "                'Bureaucratic_Code_0_Approved',\n",
    "                'Submitted_for_Approval'\n",
    "]\n",
    "column_types = {col:'bool' for col in bool_columns}\n",
    "\n",
    "categorical_columns = [\n",
    "    'Region',\n",
    "    'Territory',\n",
    "    'Bureaucratic_Code',\n",
    "    'Source ',\n",
    "    'Billing_Country',\n",
    "    'Account_Name',\n",
    "    'Opportunity_Name',\n",
    "    'Account_Owner',\n",
    "    'Opportunity_Owner',\n",
    "    'Account_Type',\n",
    "    'Opportunity_Type',\n",
    "    'Quote_Type',\n",
    "    'Delivery_Terms',\n",
    "    'Brand',\n",
    "    'Product_Type',\n",
    "    'Size',\n",
    "    'Product_Category_B',\n",
    "    'Currency',\n",
    "    'Last_Modified_By',\n",
    "    'Product_Family',\n",
    "    'Product_Name',\n",
    "    'ASP_Currency',\n",
    "    'ASP_(converted)_Currency',\n",
    "    'Delivery_Quarter',\n",
    "    'Total_Amount_Currency',\n",
    "    'Total_Taxable_Amount_Currency',\n",
    "    'Stage',\n",
    "    'Prod_Category_A'\n",
    "]\n",
    "column_types.update({col:'category' for col in categorical_columns})"
   ],
   "metadata": {
    "collapsed": false,
    "pycharm": {
     "name": "#%%\n"
    }
   }
  },
  {
   "cell_type": "code",
   "execution_count": 235,
   "outputs": [],
   "source": [
    "# Excluidos porque son todos None\n",
    "empty = ['Actual_Delivery_Date', 'Last_Activity']"
   ],
   "metadata": {
    "collapsed": false,
    "pycharm": {
     "name": "#%%\n"
    }
   }
  },
  {
   "cell_type": "markdown",
   "source": [
    "## Carga y limpieza definitiva del csv\n",
    "### Columnas a las que les cambiamos el tipo:\n",
    "* Todas las fechas a `datetime`\n",
    "* Varios `object` a `categorical`\n",
    "\n",
    "### Columnas que no levantamos directo:\n",
    "* `'Actual_Delivery_Date'` como datetime64 (todos nan) -->  `use_cols`\n",
    "* `'Last_Activity'` como datetime64 (todos nan) --> `use_cols`\n",
    "* `'Sales_Contract_No'` como int64 (tiene 'None's) --> `fillna(0).astype()`\n",
    "* `'Price'` como float64 (tiene 'None's) --> `na_values`"
   ],
   "metadata": {
    "collapsed": false,
    "pycharm": {
     "name": "#%% md\n"
    }
   }
  },
  {
   "cell_type": "code",
   "execution_count": 236,
   "outputs": [
    {
     "data": {
      "text/plain": "         Region   Territory  Pricing, Delivery_Terms_Quote_Appr  \\\nID                                                                \n27761      EMEA         NaN                                True   \n27760      EMEA         NaN                               False   \n27446  Americas  NW America                               False   \n16808  Americas  NW America                                True   \n16805  Americas  NW America                                True   \n\n       Pricing, Delivery_Terms_Approved  Bureaucratic_Code_0_Approval  \\\nID                                                                      \n27761                              True                          True   \n27760                             False                         False   \n27446                             False                         False   \n16808                             False                          True   \n16805                             False                          True   \n\n       Bureaucratic_Code_0_Approved  Submitted_for_Approval  \\\nID                                                            \n27761                          True                   False   \n27760                         False                   False   \n27446                         False                   False   \n16808                         False                   False   \n16805                         False                   False   \n\n         Bureaucratic_Code Account_Created_Date    Source   ...      Month  \\\nID                                                          ...              \n27761  Bureaucratic_Code_4           2015-06-16        NaN  ... 2016-05-01   \n27760  Bureaucratic_Code_4           2015-06-16        NaN  ... 2016-01-01   \n27446  Bureaucratic_Code_4           2015-04-21   Source_7  ... 2016-01-01   \n16808  Bureaucratic_Code_5           2013-07-27  Source_11  ... 2018-02-01   \n16805  Bureaucratic_Code_5           2013-07-27  Source_11  ... 2018-02-01   \n\n      Delivery_Quarter Delivery_Year  TRF  Total_Amount_Currency Total_Amount  \\\nID                                                                              \n27761               Q2          2016   10                    EUR    5272800.0   \n27760               Q1          2016    0                    EUR      48230.0   \n27446               Q1          2016    0                    USD      83865.6   \n16808               Q1          2018   14                    USD    7421881.5   \n16805               Q1          2018   25                    USD   13357192.5   \n\n      Total_Taxable_Amount_Currency Total_Taxable_Amount        Stage  \\\nID                                                                      \n27761                           EUR            5272800.0  Closed Lost   \n27760                           EUR              48230.0   Closed Won   \n27446                           USD              83865.6   Closed Won   \n16808                           USD            7421881.5  Closed Lost   \n16805                           USD           13357192.5  Closed Lost   \n\n            Prod_Category_A  \nID                           \n27761  Prod_Category_A_None  \n27760  Prod_Category_A_None  \n27446  Prod_Category_A_None  \n16808  Prod_Category_A_None  \n16805  Prod_Category_A_None  \n\n[5 rows x 49 columns]",
      "text/html": "<div>\n<style scoped>\n    .dataframe tbody tr th:only-of-type {\n        vertical-align: middle;\n    }\n\n    .dataframe tbody tr th {\n        vertical-align: top;\n    }\n\n    .dataframe thead th {\n        text-align: right;\n    }\n</style>\n<table border=\"1\" class=\"dataframe\">\n  <thead>\n    <tr style=\"text-align: right;\">\n      <th></th>\n      <th>Region</th>\n      <th>Territory</th>\n      <th>Pricing, Delivery_Terms_Quote_Appr</th>\n      <th>Pricing, Delivery_Terms_Approved</th>\n      <th>Bureaucratic_Code_0_Approval</th>\n      <th>Bureaucratic_Code_0_Approved</th>\n      <th>Submitted_for_Approval</th>\n      <th>Bureaucratic_Code</th>\n      <th>Account_Created_Date</th>\n      <th>Source</th>\n      <th>...</th>\n      <th>Month</th>\n      <th>Delivery_Quarter</th>\n      <th>Delivery_Year</th>\n      <th>TRF</th>\n      <th>Total_Amount_Currency</th>\n      <th>Total_Amount</th>\n      <th>Total_Taxable_Amount_Currency</th>\n      <th>Total_Taxable_Amount</th>\n      <th>Stage</th>\n      <th>Prod_Category_A</th>\n    </tr>\n    <tr>\n      <th>ID</th>\n      <th></th>\n      <th></th>\n      <th></th>\n      <th></th>\n      <th></th>\n      <th></th>\n      <th></th>\n      <th></th>\n      <th></th>\n      <th></th>\n      <th></th>\n      <th></th>\n      <th></th>\n      <th></th>\n      <th></th>\n      <th></th>\n      <th></th>\n      <th></th>\n      <th></th>\n      <th></th>\n      <th></th>\n    </tr>\n  </thead>\n  <tbody>\n    <tr>\n      <th>27761</th>\n      <td>EMEA</td>\n      <td>NaN</td>\n      <td>True</td>\n      <td>True</td>\n      <td>True</td>\n      <td>True</td>\n      <td>False</td>\n      <td>Bureaucratic_Code_4</td>\n      <td>2015-06-16</td>\n      <td>NaN</td>\n      <td>...</td>\n      <td>2016-05-01</td>\n      <td>Q2</td>\n      <td>2016</td>\n      <td>10</td>\n      <td>EUR</td>\n      <td>5272800.0</td>\n      <td>EUR</td>\n      <td>5272800.0</td>\n      <td>Closed Lost</td>\n      <td>Prod_Category_A_None</td>\n    </tr>\n    <tr>\n      <th>27760</th>\n      <td>EMEA</td>\n      <td>NaN</td>\n      <td>False</td>\n      <td>False</td>\n      <td>False</td>\n      <td>False</td>\n      <td>False</td>\n      <td>Bureaucratic_Code_4</td>\n      <td>2015-06-16</td>\n      <td>NaN</td>\n      <td>...</td>\n      <td>2016-01-01</td>\n      <td>Q1</td>\n      <td>2016</td>\n      <td>0</td>\n      <td>EUR</td>\n      <td>48230.0</td>\n      <td>EUR</td>\n      <td>48230.0</td>\n      <td>Closed Won</td>\n      <td>Prod_Category_A_None</td>\n    </tr>\n    <tr>\n      <th>27446</th>\n      <td>Americas</td>\n      <td>NW America</td>\n      <td>False</td>\n      <td>False</td>\n      <td>False</td>\n      <td>False</td>\n      <td>False</td>\n      <td>Bureaucratic_Code_4</td>\n      <td>2015-04-21</td>\n      <td>Source_7</td>\n      <td>...</td>\n      <td>2016-01-01</td>\n      <td>Q1</td>\n      <td>2016</td>\n      <td>0</td>\n      <td>USD</td>\n      <td>83865.6</td>\n      <td>USD</td>\n      <td>83865.6</td>\n      <td>Closed Won</td>\n      <td>Prod_Category_A_None</td>\n    </tr>\n    <tr>\n      <th>16808</th>\n      <td>Americas</td>\n      <td>NW America</td>\n      <td>True</td>\n      <td>False</td>\n      <td>True</td>\n      <td>False</td>\n      <td>False</td>\n      <td>Bureaucratic_Code_5</td>\n      <td>2013-07-27</td>\n      <td>Source_11</td>\n      <td>...</td>\n      <td>2018-02-01</td>\n      <td>Q1</td>\n      <td>2018</td>\n      <td>14</td>\n      <td>USD</td>\n      <td>7421881.5</td>\n      <td>USD</td>\n      <td>7421881.5</td>\n      <td>Closed Lost</td>\n      <td>Prod_Category_A_None</td>\n    </tr>\n    <tr>\n      <th>16805</th>\n      <td>Americas</td>\n      <td>NW America</td>\n      <td>True</td>\n      <td>False</td>\n      <td>True</td>\n      <td>False</td>\n      <td>False</td>\n      <td>Bureaucratic_Code_5</td>\n      <td>2013-07-27</td>\n      <td>Source_11</td>\n      <td>...</td>\n      <td>2018-02-01</td>\n      <td>Q1</td>\n      <td>2018</td>\n      <td>25</td>\n      <td>USD</td>\n      <td>13357192.5</td>\n      <td>USD</td>\n      <td>13357192.5</td>\n      <td>Closed Lost</td>\n      <td>Prod_Category_A_None</td>\n    </tr>\n  </tbody>\n</table>\n<p>5 rows × 49 columns</p>\n</div>"
     },
     "execution_count": 236,
     "metadata": {},
     "output_type": "execute_result"
    }
   ],
   "source": [
    "df = pd.read_csv('train.csv', parse_dates=date_columns, dtype=column_types,\n",
    "                 index_col='ID', na_values=['Other', 'NaT', 'None'],\n",
    "                 usecols=lambda x: x not in empty)\n",
    "\n",
    "df['Sales_Contract_No'] = df['Sales_Contract_No'].fillna(0).astype(np.int64)\n",
    "df['Month'] = pd.to_datetime(df['Month'], format='%Y - %m')\n",
    "df.head()"
   ],
   "metadata": {
    "collapsed": false,
    "pycharm": {
     "name": "#%%\n"
    }
   }
  },
  {
   "cell_type": "markdown",
   "source": [
    "##### Vemos cómo quedan las columnas:"
   ],
   "metadata": {
    "collapsed": false,
    "pycharm": {
     "name": "#%% md\n"
    }
   }
  },
  {
   "cell_type": "code",
   "execution_count": 237,
   "outputs": [
    {
     "name": "stdout",
     "output_type": "stream",
     "text": [
      "<class 'pandas.core.frame.DataFrame'>\n",
      "Int64Index: 16947 entries, 27761 to 28318\n",
      "Data columns (total 49 columns):\n",
      " #   Column                              Non-Null Count  Dtype         \n",
      "---  ------                              --------------  -----         \n",
      " 0   Region                              16947 non-null  category      \n",
      " 1   Territory                           11948 non-null  category      \n",
      " 2   Pricing, Delivery_Terms_Quote_Appr  16947 non-null  bool          \n",
      " 3   Pricing, Delivery_Terms_Approved    16947 non-null  bool          \n",
      " 4   Bureaucratic_Code_0_Approval        16947 non-null  bool          \n",
      " 5   Bureaucratic_Code_0_Approved        16947 non-null  bool          \n",
      " 6   Submitted_for_Approval              16947 non-null  bool          \n",
      " 7   Bureaucratic_Code                   16947 non-null  category      \n",
      " 8   Account_Created_Date                16947 non-null  datetime64[ns]\n",
      " 9   Source                              7450 non-null   category      \n",
      " 10  Billing_Country                     16920 non-null  category      \n",
      " 11  Account_Name                        16947 non-null  category      \n",
      " 12  Opportunity_Name                    16947 non-null  category      \n",
      " 13  Opportunity_ID                      16947 non-null  int64         \n",
      " 14  Sales_Contract_No                   16947 non-null  int64         \n",
      " 15  Account_Owner                       16947 non-null  category      \n",
      " 16  Opportunity_Owner                   16947 non-null  category      \n",
      " 17  Account_Type                        16835 non-null  category      \n",
      " 18  Opportunity_Type                    16947 non-null  category      \n",
      " 19  Quote_Type                          16947 non-null  category      \n",
      " 20  Delivery_Terms                      16947 non-null  category      \n",
      " 21  Opportunity_Created_Date            16947 non-null  datetime64[ns]\n",
      " 22  Brand                               429 non-null    category      \n",
      " 23  Product_Type                        497 non-null    category      \n",
      " 24  Size                                586 non-null    category      \n",
      " 25  Product_Category_B                  496 non-null    category      \n",
      " 26  Price                               356 non-null    float64       \n",
      " 27  Currency                            895 non-null    category      \n",
      " 28  Quote_Expiry_Date                   12322 non-null  datetime64[ns]\n",
      " 29  Last_Modified_Date                  16947 non-null  datetime64[ns]\n",
      " 30  Last_Modified_By                    16947 non-null  category      \n",
      " 31  Product_Family                      16947 non-null  category      \n",
      " 32  Product_Name                        16947 non-null  category      \n",
      " 33  ASP_Currency                        16947 non-null  category      \n",
      " 34  ASP                                 13738 non-null  float64       \n",
      " 35  ASP_(converted)_Currency            16947 non-null  category      \n",
      " 36  ASP_(converted)                     13738 non-null  float64       \n",
      " 37  Planned_Delivery_Start_Date         16947 non-null  datetime64[ns]\n",
      " 38  Planned_Delivery_End_Date           16872 non-null  datetime64[ns]\n",
      " 39  Month                               16947 non-null  datetime64[ns]\n",
      " 40  Delivery_Quarter                    16947 non-null  category      \n",
      " 41  Delivery_Year                       16947 non-null  int64         \n",
      " 42  TRF                                 16947 non-null  int64         \n",
      " 43  Total_Amount_Currency               16947 non-null  category      \n",
      " 44  Total_Amount                        16888 non-null  float64       \n",
      " 45  Total_Taxable_Amount_Currency       16947 non-null  category      \n",
      " 46  Total_Taxable_Amount                16947 non-null  float64       \n",
      " 47  Stage                               16947 non-null  category      \n",
      " 48  Prod_Category_A                     16947 non-null  category      \n",
      "dtypes: bool(5), category(28), datetime64[ns](7), float64(5), int64(4)\n",
      "memory usage: 3.1 MB\n"
     ]
    }
   ],
   "source": [
    "df.info()"
   ],
   "metadata": {
    "collapsed": false,
    "pycharm": {
     "name": "#%%\n"
    }
   }
  },
  {
   "cell_type": "markdown",
   "source": [
    "---\n",
    "\n",
    "## Análisis Exploratorio"
   ],
   "metadata": {
    "collapsed": false,
    "pycharm": {
     "name": "#%% md\n"
    }
   }
  },
  {
   "cell_type": "markdown",
   "source": [
    "Top 10 Regiones"
   ],
   "metadata": {
    "collapsed": false,
    "pycharm": {
     "name": "#%% md\n"
    }
   }
  },
  {
   "cell_type": "code",
   "execution_count": 238,
   "outputs": [
    {
     "data": {
      "text/plain": "Japan          4892\nEMEA           4664\nAmericas       3945\nAPAC           3262\nMiddle East     184\nName: Region, dtype: int64"
     },
     "execution_count": 238,
     "metadata": {},
     "output_type": "execute_result"
    }
   ],
   "source": [
    "df[\"Region\"].value_counts()\n",
    "\n"
   ],
   "metadata": {
    "collapsed": false,
    "pycharm": {
     "name": "#%%\n"
    }
   }
  },
  {
   "cell_type": "code",
   "execution_count": 239,
   "outputs": [
    {
     "data": {
      "text/plain": "                             Total_Amount      \n                                     mean count\nRegion      Territory                          \nEMEA        Romania          3.241899e+07     2\n            SE America       2.375190e+07    10\n            Kazakhstan       2.332424e+07     7\n            SW America       2.119470e+07     1\n            Jordan           1.485012e+07     1\n            UAE (Dubai)      1.438814e+07    12\nJapan       Japan            1.411381e+07   679\nEMEA        Armenia          9.697182e+06     2\nAPAC        Solomon Islands  8.467150e+06     1\nMiddle East KSA              7.799741e+06    11",
      "text/html": "<div>\n<style scoped>\n    .dataframe tbody tr th:only-of-type {\n        vertical-align: middle;\n    }\n\n    .dataframe tbody tr th {\n        vertical-align: top;\n    }\n\n    .dataframe thead tr th {\n        text-align: left;\n    }\n\n    .dataframe thead tr:last-of-type th {\n        text-align: right;\n    }\n</style>\n<table border=\"1\" class=\"dataframe\">\n  <thead>\n    <tr>\n      <th></th>\n      <th></th>\n      <th colspan=\"2\" halign=\"left\">Total_Amount</th>\n    </tr>\n    <tr>\n      <th></th>\n      <th></th>\n      <th>mean</th>\n      <th>count</th>\n    </tr>\n    <tr>\n      <th>Region</th>\n      <th>Territory</th>\n      <th></th>\n      <th></th>\n    </tr>\n  </thead>\n  <tbody>\n    <tr>\n      <th rowspan=\"6\" valign=\"top\">EMEA</th>\n      <th>Romania</th>\n      <td>3.241899e+07</td>\n      <td>2</td>\n    </tr>\n    <tr>\n      <th>SE America</th>\n      <td>2.375190e+07</td>\n      <td>10</td>\n    </tr>\n    <tr>\n      <th>Kazakhstan</th>\n      <td>2.332424e+07</td>\n      <td>7</td>\n    </tr>\n    <tr>\n      <th>SW America</th>\n      <td>2.119470e+07</td>\n      <td>1</td>\n    </tr>\n    <tr>\n      <th>Jordan</th>\n      <td>1.485012e+07</td>\n      <td>1</td>\n    </tr>\n    <tr>\n      <th>UAE (Dubai)</th>\n      <td>1.438814e+07</td>\n      <td>12</td>\n    </tr>\n    <tr>\n      <th>Japan</th>\n      <th>Japan</th>\n      <td>1.411381e+07</td>\n      <td>679</td>\n    </tr>\n    <tr>\n      <th>EMEA</th>\n      <th>Armenia</th>\n      <td>9.697182e+06</td>\n      <td>2</td>\n    </tr>\n    <tr>\n      <th>APAC</th>\n      <th>Solomon Islands</th>\n      <td>8.467150e+06</td>\n      <td>1</td>\n    </tr>\n    <tr>\n      <th>Middle East</th>\n      <th>KSA</th>\n      <td>7.799741e+06</td>\n      <td>11</td>\n    </tr>\n  </tbody>\n</table>\n</div>"
     },
     "execution_count": 239,
     "metadata": {},
     "output_type": "execute_result"
    }
   ],
   "source": [
    "df.groupby([\"Region\", \"Territory\"])\\\n",
    "    .agg({\"Total_Amount\":[\"mean\", \"count\"]})\\\n",
    "    .nlargest(10, (\"Total_Amount\", \"mean\"))"
   ],
   "metadata": {
    "collapsed": false,
    "pycharm": {
     "name": "#%%\n"
    }
   }
  },
  {
   "cell_type": "code",
   "execution_count": 240,
   "outputs": [
    {
     "data": {
      "text/plain": "                      Total_Amount      \n                              mean count\nRegion   Territory                      \nEMEA     Germany      7.221807e+05  1682\nAmericas NW America   1.397838e+06  1546\nAPAC     Australia    2.016480e+06  1207\n         India        9.759070e+05   809\nAmericas NE America   2.160400e+06   758\nJapan    Japan        1.411381e+07   679\nEMEA     Netherlands  5.818700e+05   533\nAmericas SE America   3.776133e+06   482\nEMEA     France       9.504846e+05   448\nAPAC     Singapore    1.453218e+05   441",
      "text/html": "<div>\n<style scoped>\n    .dataframe tbody tr th:only-of-type {\n        vertical-align: middle;\n    }\n\n    .dataframe tbody tr th {\n        vertical-align: top;\n    }\n\n    .dataframe thead tr th {\n        text-align: left;\n    }\n\n    .dataframe thead tr:last-of-type th {\n        text-align: right;\n    }\n</style>\n<table border=\"1\" class=\"dataframe\">\n  <thead>\n    <tr>\n      <th></th>\n      <th></th>\n      <th colspan=\"2\" halign=\"left\">Total_Amount</th>\n    </tr>\n    <tr>\n      <th></th>\n      <th></th>\n      <th>mean</th>\n      <th>count</th>\n    </tr>\n    <tr>\n      <th>Region</th>\n      <th>Territory</th>\n      <th></th>\n      <th></th>\n    </tr>\n  </thead>\n  <tbody>\n    <tr>\n      <th>EMEA</th>\n      <th>Germany</th>\n      <td>7.221807e+05</td>\n      <td>1682</td>\n    </tr>\n    <tr>\n      <th>Americas</th>\n      <th>NW America</th>\n      <td>1.397838e+06</td>\n      <td>1546</td>\n    </tr>\n    <tr>\n      <th rowspan=\"2\" valign=\"top\">APAC</th>\n      <th>Australia</th>\n      <td>2.016480e+06</td>\n      <td>1207</td>\n    </tr>\n    <tr>\n      <th>India</th>\n      <td>9.759070e+05</td>\n      <td>809</td>\n    </tr>\n    <tr>\n      <th>Americas</th>\n      <th>NE America</th>\n      <td>2.160400e+06</td>\n      <td>758</td>\n    </tr>\n    <tr>\n      <th>Japan</th>\n      <th>Japan</th>\n      <td>1.411381e+07</td>\n      <td>679</td>\n    </tr>\n    <tr>\n      <th>EMEA</th>\n      <th>Netherlands</th>\n      <td>5.818700e+05</td>\n      <td>533</td>\n    </tr>\n    <tr>\n      <th>Americas</th>\n      <th>SE America</th>\n      <td>3.776133e+06</td>\n      <td>482</td>\n    </tr>\n    <tr>\n      <th>EMEA</th>\n      <th>France</th>\n      <td>9.504846e+05</td>\n      <td>448</td>\n    </tr>\n    <tr>\n      <th>APAC</th>\n      <th>Singapore</th>\n      <td>1.453218e+05</td>\n      <td>441</td>\n    </tr>\n  </tbody>\n</table>\n</div>"
     },
     "execution_count": 240,
     "metadata": {},
     "output_type": "execute_result"
    }
   ],
   "source": [
    "df.groupby([\"Region\", \"Territory\"])\\\n",
    "    .agg({\"Total_Amount\":[\"mean\", \"count\"]})\\\n",
    "    .nlargest(10, (\"Total_Amount\", \"count\"))"
   ],
   "metadata": {
    "collapsed": false,
    "pycharm": {
     "name": "#%%\n"
    }
   }
  },
  {
   "cell_type": "markdown",
   "source": [
    "Top 10 Territorios"
   ],
   "metadata": {
    "collapsed": false,
    "pycharm": {
     "name": "#%% md\n"
    }
   }
  },
  {
   "cell_type": "code",
   "execution_count": 241,
   "outputs": [
    {
     "data": {
      "text/plain": "Germany        1682\nNW America     1568\nAustralia      1208\nIndia           809\nNE America      760\nJapan           681\nNetherlands     533\nSE America      493\nFrance          449\nSingapore       441\nName: Territory, dtype: int64"
     },
     "execution_count": 241,
     "metadata": {},
     "output_type": "execute_result"
    }
   ],
   "source": [
    "df[\"Territory\"].value_counts().head(10)\n",
    "\n",
    "# todo: probar usar normalize=True"
   ],
   "metadata": {
    "collapsed": false,
    "pycharm": {
     "name": "#%%\n"
    }
   }
  },
  {
   "cell_type": "code",
   "execution_count": 242,
   "outputs": [],
   "source": [
    "# todo: Cómo agrego Account_Name como índice de nivel 0?"
   ],
   "metadata": {
    "collapsed": false,
    "pycharm": {
     "name": "#%%\n"
    }
   }
  },
  {
   "cell_type": "markdown",
   "source": [
    "Top 10 Territorios pero con groupby"
   ],
   "metadata": {
    "collapsed": false,
    "pycharm": {
     "name": "#%% md\n"
    }
   }
  },
  {
   "cell_type": "code",
   "execution_count": 243,
   "outputs": [
    {
     "data": {
      "text/plain": "             Total_Amount      \n                     mean count\nTerritory                      \nGermany      7.221807e+05  1682\nNW America   1.397838e+06  1546\nAustralia    2.016480e+06  1207\nIndia        9.759070e+05   809\nNE America   2.160400e+06   758\nJapan        1.411381e+07   679\nNetherlands  5.818700e+05   533\nSE America   4.182145e+06   492\nFrance       9.504846e+05   448\nSingapore    1.453218e+05   441",
      "text/html": "<div>\n<style scoped>\n    .dataframe tbody tr th:only-of-type {\n        vertical-align: middle;\n    }\n\n    .dataframe tbody tr th {\n        vertical-align: top;\n    }\n\n    .dataframe thead tr th {\n        text-align: left;\n    }\n\n    .dataframe thead tr:last-of-type th {\n        text-align: right;\n    }\n</style>\n<table border=\"1\" class=\"dataframe\">\n  <thead>\n    <tr>\n      <th></th>\n      <th colspan=\"2\" halign=\"left\">Total_Amount</th>\n    </tr>\n    <tr>\n      <th></th>\n      <th>mean</th>\n      <th>count</th>\n    </tr>\n    <tr>\n      <th>Territory</th>\n      <th></th>\n      <th></th>\n    </tr>\n  </thead>\n  <tbody>\n    <tr>\n      <th>Germany</th>\n      <td>7.221807e+05</td>\n      <td>1682</td>\n    </tr>\n    <tr>\n      <th>NW America</th>\n      <td>1.397838e+06</td>\n      <td>1546</td>\n    </tr>\n    <tr>\n      <th>Australia</th>\n      <td>2.016480e+06</td>\n      <td>1207</td>\n    </tr>\n    <tr>\n      <th>India</th>\n      <td>9.759070e+05</td>\n      <td>809</td>\n    </tr>\n    <tr>\n      <th>NE America</th>\n      <td>2.160400e+06</td>\n      <td>758</td>\n    </tr>\n    <tr>\n      <th>Japan</th>\n      <td>1.411381e+07</td>\n      <td>679</td>\n    </tr>\n    <tr>\n      <th>Netherlands</th>\n      <td>5.818700e+05</td>\n      <td>533</td>\n    </tr>\n    <tr>\n      <th>SE America</th>\n      <td>4.182145e+06</td>\n      <td>492</td>\n    </tr>\n    <tr>\n      <th>France</th>\n      <td>9.504846e+05</td>\n      <td>448</td>\n    </tr>\n    <tr>\n      <th>Singapore</th>\n      <td>1.453218e+05</td>\n      <td>441</td>\n    </tr>\n  </tbody>\n</table>\n</div>"
     },
     "execution_count": 243,
     "metadata": {},
     "output_type": "execute_result"
    }
   ],
   "source": [
    "# hmmm\n",
    "\n",
    "df.groupby([\"Territory\"])\\\n",
    "    .agg({\"Total_Amount\":[\"mean\", \"count\"]})\\\n",
    "    .nlargest(10, (\"Total_Amount\", \"count\"))"
   ],
   "metadata": {
    "collapsed": false,
    "pycharm": {
     "name": "#%%\n"
    }
   }
  },
  {
   "cell_type": "code",
   "execution_count": 244,
   "outputs": [
    {
     "data": {
      "text/plain": "<matplotlib.axes._subplots.AxesSubplot at 0x21cad550>"
     },
     "execution_count": 244,
     "metadata": {},
     "output_type": "execute_result"
    },
    {
     "data": {
      "text/plain": "<Figure size 720x432 with 1 Axes>",
      "image/png": "[encoded data removed]"
     },
     "metadata": {
      "needs_background": "light"
     },
     "output_type": "display_data"
    }
   ],
   "source": [
    "\n",
    "df.groupby(\"Region\").mean().loc[:, \"Total_Amount\"]\\\n",
    "    .plot(kind=\"bar\", title=\"Average Total Amount by Region\", linewidth=2,\n",
    "          figsize=(10, 6), color=\"lightpink\")"
   ],
   "metadata": {
    "collapsed": false,
    "pycharm": {
     "name": "#%%\n"
    }
   }
  },
  {
   "cell_type": "code",
   "execution_count": 245,
   "outputs": [
    {
     "data": {
      "text/plain": "             Total_Amount        Price\n                     mean count    max\nRegion                                \nJapan        3.602609e+06  4884  0.390\nEMEA         9.280189e+05  4658  0.375\nAmericas     1.904546e+06  3916  0.560\nAPAC         1.230142e+06  3246  0.550\nMiddle East  1.629465e+06   184  0.380",
      "text/html": "<div>\n<style scoped>\n    .dataframe tbody tr th:only-of-type {\n        vertical-align: middle;\n    }\n\n    .dataframe tbody tr th {\n        vertical-align: top;\n    }\n\n    .dataframe thead tr th {\n        text-align: left;\n    }\n\n    .dataframe thead tr:last-of-type th {\n        text-align: right;\n    }\n</style>\n<table border=\"1\" class=\"dataframe\">\n  <thead>\n    <tr>\n      <th></th>\n      <th colspan=\"2\" halign=\"left\">Total_Amount</th>\n      <th>Price</th>\n    </tr>\n    <tr>\n      <th></th>\n      <th>mean</th>\n      <th>count</th>\n      <th>max</th>\n    </tr>\n    <tr>\n      <th>Region</th>\n      <th></th>\n      <th></th>\n      <th></th>\n    </tr>\n  </thead>\n  <tbody>\n    <tr>\n      <th>Japan</th>\n      <td>3.602609e+06</td>\n      <td>4884</td>\n      <td>0.390</td>\n    </tr>\n    <tr>\n      <th>EMEA</th>\n      <td>9.280189e+05</td>\n      <td>4658</td>\n      <td>0.375</td>\n    </tr>\n    <tr>\n      <th>Americas</th>\n      <td>1.904546e+06</td>\n      <td>3916</td>\n      <td>0.560</td>\n    </tr>\n    <tr>\n      <th>APAC</th>\n      <td>1.230142e+06</td>\n      <td>3246</td>\n      <td>0.550</td>\n    </tr>\n    <tr>\n      <th>Middle East</th>\n      <td>1.629465e+06</td>\n      <td>184</td>\n      <td>0.380</td>\n    </tr>\n  </tbody>\n</table>\n</div>"
     },
     "execution_count": 245,
     "metadata": {},
     "output_type": "execute_result"
    }
   ],
   "source": [
    "df.groupby([\"Region\"]).\\\n",
    "    agg({\"Total_Amount\":[\"mean\", \"count\"], \"Price\":\"max\"}).nlargest(5, ('Total_Amount', 'count'))"
   ],
   "metadata": {
    "collapsed": false,
    "pycharm": {
     "name": "#%%\n"
    }
   }
  }
 ],
 "metadata": {
  "kernelspec": {
   "display_name": "Python 3",
   "language": "python",
   "name": "python3"
  },
  "language_info": {
   "codemirror_mode": {
    "name": "ipython",
    "version": 3
   },
   "file_extension": ".py",
   "mimetype": "text/x-python",
   "name": "python",
   "nbconvert_exporter": "python",
   "pygments_lexer": "ipython3",
   "version": "3.8.3"
  }
 },
 "nbformat": 4,
 "nbformat_minor": 1
}