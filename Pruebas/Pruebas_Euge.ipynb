{
 "cells": [
  {
   "cell_type": "markdown",
   "source": [
    "# Pruebas\n",
    "## *by Euge*\n",
    "### ahrex"
   ],
   "metadata": {
    "collapsed": false,
    "pycharm": {
     "name": "#%% md\n"
    }
   }
  },
  {
   "cell_type": "code",
   "execution_count": 60,
   "metadata": {
    "collapsed": true,
    "pycharm": {
     "name": "#%%\n"
    }
   },
   "outputs": [],
   "source": [
    "import pandas as pd"
   ]
  },
  {
   "cell_type": "markdown",
   "source": [
    "Levantamos el dataset"
   ],
   "metadata": {
    "collapsed": false,
    "pycharm": {
     "name": "#%% md\n"
    }
   }
  },
  {
   "cell_type": "code",
   "execution_count": 61,
   "outputs": [],
   "source": [
    "df = pd.read_csv(\"train.csv\")"
   ],
   "metadata": {
    "collapsed": false,
    "pycharm": {
     "name": "#%%\n"
    }
   }
  },
  {
   "cell_type": "code",
   "execution_count": 62,
   "outputs": [
    {
     "data": {
      "text/plain": "          ID    Region   Territory  Pricing, Delivery_Terms_Quote_Appr  \\\n0      27761      EMEA        None                                   1   \n1      27760      EMEA        None                                   0   \n2      27446  Americas  NW America                                   0   \n3      16808  Americas  NW America                                   1   \n4      16805  Americas  NW America                                   1   \n...      ...       ...         ...                                 ...   \n16942   8781      EMEA     Austria                                   1   \n16943   8786      EMEA     Austria                                   1   \n16944   8792      EMEA     Austria                                   1   \n16945  28561  Americas  NE America                                   1   \n16946  28318  Americas  NE America                                   1   \n\n       Pricing, Delivery_Terms_Approved  Bureaucratic_Code_0_Approval  \\\n0                                     1                             1   \n1                                     0                             0   \n2                                     0                             0   \n3                                     0                             1   \n4                                     0                             1   \n...                                 ...                           ...   \n16942                                 1                             1   \n16943                                 1                             1   \n16944                                 1                             1   \n16945                                 1                             1   \n16946                                 1                             1   \n\n       Bureaucratic_Code_0_Approved  Submitted_for_Approval  \\\n0                                 1                       0   \n1                                 0                       0   \n2                                 0                       0   \n3                                 0                       0   \n4                                 0                       0   \n...                             ...                     ...   \n16942                             1                       0   \n16943                             1                       0   \n16944                             1                       0   \n16945                             1                       0   \n16946                             1                       0   \n\n         Bureaucratic_Code Account_Created_Date  ... Delivery_Quarter  \\\n0      Bureaucratic_Code_4            6/16/2015  ...               Q2   \n1      Bureaucratic_Code_4            6/16/2015  ...               Q1   \n2      Bureaucratic_Code_4            4/21/2015  ...               Q1   \n3      Bureaucratic_Code_5            7/27/2013  ...               Q1   \n4      Bureaucratic_Code_5            7/27/2013  ...               Q1   \n...                    ...                  ...  ...              ...   \n16942  Bureaucratic_Code_4            1/15/2016  ...               Q1   \n16943  Bureaucratic_Code_4            1/15/2016  ...               Q2   \n16944  Bureaucratic_Code_4            1/15/2016  ...               Q1   \n16945  Bureaucratic_Code_4           10/20/2015  ...               Q2   \n16946  Bureaucratic_Code_4             9/3/2015  ...               Q3   \n\n      Delivery_Year Actual_Delivery_Date TRF  Total_Amount_Currency  \\\n0              2016                  NaT  10                    EUR   \n1              2016                  NaT   0                    EUR   \n2              2016                  NaT   0                    USD   \n3              2018                  NaT  14                    USD   \n4              2018                  NaT  25                    USD   \n...             ...                  ...  ..                    ...   \n16942          2016                  NaT   0                    EUR   \n16943          2016                  NaT   0                    EUR   \n16944          2016                  NaT   0                    EUR   \n16945          2016                  NaT   4                    USD   \n16946          2016                  NaT  40                    USD   \n\n      Total_Amount Total_Taxable_Amount_Currency Total_Taxable_Amount  \\\n0       5272800.00                           EUR            5272800.0   \n1         48230.00                           EUR              48230.0   \n2         83865.60                           USD              83865.6   \n3       7421881.50                           USD            7421881.5   \n4      13357192.50                           USD           13357192.5   \n...            ...                           ...                  ...   \n16942    103350.00                           EUR             299715.0   \n16943     93015.00                           EUR             299715.0   \n16944    103350.00                           EUR             299715.0   \n16945   2346796.88                           USD                  0.0   \n16946  25603200.00                           USD                  0.0   \n\n             Stage       Prod_Category_A  \n0      Closed Lost  Prod_Category_A_None  \n1       Closed Won  Prod_Category_A_None  \n2       Closed Won  Prod_Category_A_None  \n3      Closed Lost  Prod_Category_A_None  \n4      Closed Lost  Prod_Category_A_None  \n...            ...                   ...  \n16942   Closed Won  Prod_Category_A_None  \n16943   Closed Won  Prod_Category_A_None  \n16944   Closed Won  Prod_Category_A_None  \n16945  Closed Lost  Prod_Category_A_None  \n16946  Closed Lost  Prod_Category_A_None  \n\n[16947 rows x 52 columns]",
      "text/html": "<div>\n<style scoped>\n    .dataframe tbody tr th:only-of-type {\n        vertical-align: middle;\n    }\n\n    .dataframe tbody tr th {\n        vertical-align: top;\n    }\n\n    .dataframe thead th {\n        text-align: right;\n    }\n</style>\n<table border=\"1\" class=\"dataframe\">\n  <thead>\n    <tr style=\"text-align: right;\">\n      <th></th>\n      <th>ID</th>\n      <th>Region</th>\n      <th>Territory</th>\n      <th>Pricing, Delivery_Terms_Quote_Appr</th>\n      <th>Pricing, Delivery_Terms_Approved</th>\n      <th>Bureaucratic_Code_0_Approval</th>\n      <th>Bureaucratic_Code_0_Approved</th>\n      <th>Submitted_for_Approval</th>\n      <th>Bureaucratic_Code</th>\n      <th>Account_Created_Date</th>\n      <th>...</th>\n      <th>Delivery_Quarter</th>\n      <th>Delivery_Year</th>\n      <th>Actual_Delivery_Date</th>\n      <th>TRF</th>\n      <th>Total_Amount_Currency</th>\n      <th>Total_Amount</th>\n      <th>Total_Taxable_Amount_Currency</th>\n      <th>Total_Taxable_Amount</th>\n      <th>Stage</th>\n      <th>Prod_Category_A</th>\n    </tr>\n  </thead>\n  <tbody>\n    <tr>\n      <th>0</th>\n      <td>27761</td>\n      <td>EMEA</td>\n      <td>None</td>\n      <td>1</td>\n      <td>1</td>\n      <td>1</td>\n      <td>1</td>\n      <td>0</td>\n      <td>Bureaucratic_Code_4</td>\n      <td>6/16/2015</td>\n      <td>...</td>\n      <td>Q2</td>\n      <td>2016</td>\n      <td>NaT</td>\n      <td>10</td>\n      <td>EUR</td>\n      <td>5272800.00</td>\n      <td>EUR</td>\n      <td>5272800.0</td>\n      <td>Closed Lost</td>\n      <td>Prod_Category_A_None</td>\n    </tr>\n    <tr>\n      <th>1</th>\n      <td>27760</td>\n      <td>EMEA</td>\n      <td>None</td>\n      <td>0</td>\n      <td>0</td>\n      <td>0</td>\n      <td>0</td>\n      <td>0</td>\n      <td>Bureaucratic_Code_4</td>\n      <td>6/16/2015</td>\n      <td>...</td>\n      <td>Q1</td>\n      <td>2016</td>\n      <td>NaT</td>\n      <td>0</td>\n      <td>EUR</td>\n      <td>48230.00</td>\n      <td>EUR</td>\n      <td>48230.0</td>\n      <td>Closed Won</td>\n      <td>Prod_Category_A_None</td>\n    </tr>\n    <tr>\n      <th>2</th>\n      <td>27446</td>\n      <td>Americas</td>\n      <td>NW America</td>\n      <td>0</td>\n      <td>0</td>\n      <td>0</td>\n      <td>0</td>\n      <td>0</td>\n      <td>Bureaucratic_Code_4</td>\n      <td>4/21/2015</td>\n      <td>...</td>\n      <td>Q1</td>\n      <td>2016</td>\n      <td>NaT</td>\n      <td>0</td>\n      <td>USD</td>\n      <td>83865.60</td>\n      <td>USD</td>\n      <td>83865.6</td>\n      <td>Closed Won</td>\n      <td>Prod_Category_A_None</td>\n    </tr>\n    <tr>\n      <th>3</th>\n      <td>16808</td>\n      <td>Americas</td>\n      <td>NW America</td>\n      <td>1</td>\n      <td>0</td>\n      <td>1</td>\n      <td>0</td>\n      <td>0</td>\n      <td>Bureaucratic_Code_5</td>\n      <td>7/27/2013</td>\n      <td>...</td>\n      <td>Q1</td>\n      <td>2018</td>\n      <td>NaT</td>\n      <td>14</td>\n      <td>USD</td>\n      <td>7421881.50</td>\n      <td>USD</td>\n      <td>7421881.5</td>\n      <td>Closed Lost</td>\n      <td>Prod_Category_A_None</td>\n    </tr>\n    <tr>\n      <th>4</th>\n      <td>16805</td>\n      <td>Americas</td>\n      <td>NW America</td>\n      <td>1</td>\n      <td>0</td>\n      <td>1</td>\n      <td>0</td>\n      <td>0</td>\n      <td>Bureaucratic_Code_5</td>\n      <td>7/27/2013</td>\n      <td>...</td>\n      <td>Q1</td>\n      <td>2018</td>\n      <td>NaT</td>\n      <td>25</td>\n      <td>USD</td>\n      <td>13357192.50</td>\n      <td>USD</td>\n      <td>13357192.5</td>\n      <td>Closed Lost</td>\n      <td>Prod_Category_A_None</td>\n    </tr>\n    <tr>\n      <th>...</th>\n      <td>...</td>\n      <td>...</td>\n      <td>...</td>\n      <td>...</td>\n      <td>...</td>\n      <td>...</td>\n      <td>...</td>\n      <td>...</td>\n      <td>...</td>\n      <td>...</td>\n      <td>...</td>\n      <td>...</td>\n      <td>...</td>\n      <td>...</td>\n      <td>...</td>\n      <td>...</td>\n      <td>...</td>\n      <td>...</td>\n      <td>...</td>\n      <td>...</td>\n      <td>...</td>\n    </tr>\n    <tr>\n      <th>16942</th>\n      <td>8781</td>\n      <td>EMEA</td>\n      <td>Austria</td>\n      <td>1</td>\n      <td>1</td>\n      <td>1</td>\n      <td>1</td>\n      <td>0</td>\n      <td>Bureaucratic_Code_4</td>\n      <td>1/15/2016</td>\n      <td>...</td>\n      <td>Q1</td>\n      <td>2016</td>\n      <td>NaT</td>\n      <td>0</td>\n      <td>EUR</td>\n      <td>103350.00</td>\n      <td>EUR</td>\n      <td>299715.0</td>\n      <td>Closed Won</td>\n      <td>Prod_Category_A_None</td>\n    </tr>\n    <tr>\n      <th>16943</th>\n      <td>8786</td>\n      <td>EMEA</td>\n      <td>Austria</td>\n      <td>1</td>\n      <td>1</td>\n      <td>1</td>\n      <td>1</td>\n      <td>0</td>\n      <td>Bureaucratic_Code_4</td>\n      <td>1/15/2016</td>\n      <td>...</td>\n      <td>Q2</td>\n      <td>2016</td>\n      <td>NaT</td>\n      <td>0</td>\n      <td>EUR</td>\n      <td>93015.00</td>\n      <td>EUR</td>\n      <td>299715.0</td>\n      <td>Closed Won</td>\n      <td>Prod_Category_A_None</td>\n    </tr>\n    <tr>\n      <th>16944</th>\n      <td>8792</td>\n      <td>EMEA</td>\n      <td>Austria</td>\n      <td>1</td>\n      <td>1</td>\n      <td>1</td>\n      <td>1</td>\n      <td>0</td>\n      <td>Bureaucratic_Code_4</td>\n      <td>1/15/2016</td>\n      <td>...</td>\n      <td>Q1</td>\n      <td>2016</td>\n      <td>NaT</td>\n      <td>0</td>\n      <td>EUR</td>\n      <td>103350.00</td>\n      <td>EUR</td>\n      <td>299715.0</td>\n      <td>Closed Won</td>\n      <td>Prod_Category_A_None</td>\n    </tr>\n    <tr>\n      <th>16945</th>\n      <td>28561</td>\n      <td>Americas</td>\n      <td>NE America</td>\n      <td>1</td>\n      <td>1</td>\n      <td>1</td>\n      <td>1</td>\n      <td>0</td>\n      <td>Bureaucratic_Code_4</td>\n      <td>10/20/2015</td>\n      <td>...</td>\n      <td>Q2</td>\n      <td>2016</td>\n      <td>NaT</td>\n      <td>4</td>\n      <td>USD</td>\n      <td>2346796.88</td>\n      <td>USD</td>\n      <td>0.0</td>\n      <td>Closed Lost</td>\n      <td>Prod_Category_A_None</td>\n    </tr>\n    <tr>\n      <th>16946</th>\n      <td>28318</td>\n      <td>Americas</td>\n      <td>NE America</td>\n      <td>1</td>\n      <td>1</td>\n      <td>1</td>\n      <td>1</td>\n      <td>0</td>\n      <td>Bureaucratic_Code_4</td>\n      <td>9/3/2015</td>\n      <td>...</td>\n      <td>Q3</td>\n      <td>2016</td>\n      <td>NaT</td>\n      <td>40</td>\n      <td>USD</td>\n      <td>25603200.00</td>\n      <td>USD</td>\n      <td>0.0</td>\n      <td>Closed Lost</td>\n      <td>Prod_Category_A_None</td>\n    </tr>\n  </tbody>\n</table>\n<p>16947 rows × 52 columns</p>\n</div>"
     },
     "execution_count": 62,
     "metadata": {},
     "output_type": "execute_result"
    }
   ],
   "source": [
    "df"
   ],
   "metadata": {
    "collapsed": false,
    "pycharm": {
     "name": "#%%\n"
    }
   }
  },
  {
   "cell_type": "markdown",
   "source": [
    "Veamos si los ID son únicos, así los podemos usar como clave"
   ],
   "metadata": {
    "collapsed": false,
    "pycharm": {
     "name": "#%% md\n"
    }
   }
  },
  {
   "cell_type": "code",
   "execution_count": 63,
   "outputs": [
    {
     "data": {
      "text/plain": "6141     1\n27384    1\n21263    1\n19212    1\n25353    1\n        ..\n13676    1\n28007    1\n25958    1\n19811    1\n8196     1\nName: ID, Length: 16947, dtype: int64"
     },
     "execution_count": 63,
     "metadata": {},
     "output_type": "execute_result"
    }
   ],
   "source": [
    "df[\"ID\"].value_counts()"
   ],
   "metadata": {
    "collapsed": false,
    "pycharm": {
     "name": "#%%\n"
    }
   }
  },
  {
   "cell_type": "markdown",
   "source": [
    "Son únicos porque el mayor es 1. Así que van como clave:"
   ],
   "metadata": {
    "collapsed": false,
    "pycharm": {
     "name": "#%% md\n"
    }
   }
  },
  {
   "cell_type": "code",
   "execution_count": 64,
   "outputs": [
    {
     "data": {
      "text/plain": "         Region   Territory  Pricing, Delivery_Terms_Quote_Appr  \\\nID                                                                \n27761      EMEA        None                                   1   \n27760      EMEA        None                                   0   \n27446  Americas  NW America                                   0   \n16808  Americas  NW America                                   1   \n16805  Americas  NW America                                   1   \n...         ...         ...                                 ...   \n8781       EMEA     Austria                                   1   \n8786       EMEA     Austria                                   1   \n8792       EMEA     Austria                                   1   \n28561  Americas  NE America                                   1   \n28318  Americas  NE America                                   1   \n\n       Pricing, Delivery_Terms_Approved  Bureaucratic_Code_0_Approval  \\\nID                                                                      \n27761                                 1                             1   \n27760                                 0                             0   \n27446                                 0                             0   \n16808                                 0                             1   \n16805                                 0                             1   \n...                                 ...                           ...   \n8781                                  1                             1   \n8786                                  1                             1   \n8792                                  1                             1   \n28561                                 1                             1   \n28318                                 1                             1   \n\n       Bureaucratic_Code_0_Approved  Submitted_for_Approval  \\\nID                                                            \n27761                             1                       0   \n27760                             0                       0   \n27446                             0                       0   \n16808                             0                       0   \n16805                             0                       0   \n...                             ...                     ...   \n8781                              1                       0   \n8786                              1                       0   \n8792                              1                       0   \n28561                             1                       0   \n28318                             1                       0   \n\n         Bureaucratic_Code Account_Created_Date    Source   ...  \\\nID                                                          ...   \n27761  Bureaucratic_Code_4            6/16/2015       None  ...   \n27760  Bureaucratic_Code_4            6/16/2015       None  ...   \n27446  Bureaucratic_Code_4            4/21/2015   Source_7  ...   \n16808  Bureaucratic_Code_5            7/27/2013  Source_11  ...   \n16805  Bureaucratic_Code_5            7/27/2013  Source_11  ...   \n...                    ...                  ...        ...  ...   \n8781   Bureaucratic_Code_4            1/15/2016   Source_7  ...   \n8786   Bureaucratic_Code_4            1/15/2016   Source_7  ...   \n8792   Bureaucratic_Code_4            1/15/2016   Source_7  ...   \n28561  Bureaucratic_Code_4           10/20/2015       None  ...   \n28318  Bureaucratic_Code_4             9/3/2015       None  ...   \n\n      Delivery_Quarter Delivery_Year Actual_Delivery_Date  TRF  \\\nID                                                               \n27761               Q2          2016                  NaT   10   \n27760               Q1          2016                  NaT    0   \n27446               Q1          2016                  NaT    0   \n16808               Q1          2018                  NaT   14   \n16805               Q1          2018                  NaT   25   \n...                ...           ...                  ...  ...   \n8781                Q1          2016                  NaT    0   \n8786                Q2          2016                  NaT    0   \n8792                Q1          2016                  NaT    0   \n28561               Q2          2016                  NaT    4   \n28318               Q3          2016                  NaT   40   \n\n      Total_Amount_Currency Total_Amount Total_Taxable_Amount_Currency  \\\nID                                                                       \n27761                   EUR   5272800.00                           EUR   \n27760                   EUR     48230.00                           EUR   \n27446                   USD     83865.60                           USD   \n16808                   USD   7421881.50                           USD   \n16805                   USD  13357192.50                           USD   \n...                     ...          ...                           ...   \n8781                    EUR    103350.00                           EUR   \n8786                    EUR     93015.00                           EUR   \n8792                    EUR    103350.00                           EUR   \n28561                   USD   2346796.88                           USD   \n28318                   USD  25603200.00                           USD   \n\n      Total_Taxable_Amount        Stage       Prod_Category_A  \nID                                                             \n27761            5272800.0  Closed Lost  Prod_Category_A_None  \n27760              48230.0   Closed Won  Prod_Category_A_None  \n27446              83865.6   Closed Won  Prod_Category_A_None  \n16808            7421881.5  Closed Lost  Prod_Category_A_None  \n16805           13357192.5  Closed Lost  Prod_Category_A_None  \n...                    ...          ...                   ...  \n8781              299715.0   Closed Won  Prod_Category_A_None  \n8786              299715.0   Closed Won  Prod_Category_A_None  \n8792              299715.0   Closed Won  Prod_Category_A_None  \n28561                  0.0  Closed Lost  Prod_Category_A_None  \n28318                  0.0  Closed Lost  Prod_Category_A_None  \n\n[16947 rows x 51 columns]",
      "text/html": "<div>\n<style scoped>\n    .dataframe tbody tr th:only-of-type {\n        vertical-align: middle;\n    }\n\n    .dataframe tbody tr th {\n        vertical-align: top;\n    }\n\n    .dataframe thead th {\n        text-align: right;\n    }\n</style>\n<table border=\"1\" class=\"dataframe\">\n  <thead>\n    <tr style=\"text-align: right;\">\n      <th></th>\n      <th>Region</th>\n      <th>Territory</th>\n      <th>Pricing, Delivery_Terms_Quote_Appr</th>\n      <th>Pricing, Delivery_Terms_Approved</th>\n      <th>Bureaucratic_Code_0_Approval</th>\n      <th>Bureaucratic_Code_0_Approved</th>\n      <th>Submitted_for_Approval</th>\n      <th>Bureaucratic_Code</th>\n      <th>Account_Created_Date</th>\n      <th>Source</th>\n      <th>...</th>\n      <th>Delivery_Quarter</th>\n      <th>Delivery_Year</th>\n      <th>Actual_Delivery_Date</th>\n      <th>TRF</th>\n      <th>Total_Amount_Currency</th>\n      <th>Total_Amount</th>\n      <th>Total_Taxable_Amount_Currency</th>\n      <th>Total_Taxable_Amount</th>\n      <th>Stage</th>\n      <th>Prod_Category_A</th>\n    </tr>\n    <tr>\n      <th>ID</th>\n      <th></th>\n      <th></th>\n      <th></th>\n      <th></th>\n      <th></th>\n      <th></th>\n      <th></th>\n      <th></th>\n      <th></th>\n      <th></th>\n      <th></th>\n      <th></th>\n      <th></th>\n      <th></th>\n      <th></th>\n      <th></th>\n      <th></th>\n      <th></th>\n      <th></th>\n      <th></th>\n      <th></th>\n    </tr>\n  </thead>\n  <tbody>\n    <tr>\n      <th>27761</th>\n      <td>EMEA</td>\n      <td>None</td>\n      <td>1</td>\n      <td>1</td>\n      <td>1</td>\n      <td>1</td>\n      <td>0</td>\n      <td>Bureaucratic_Code_4</td>\n      <td>6/16/2015</td>\n      <td>None</td>\n      <td>...</td>\n      <td>Q2</td>\n      <td>2016</td>\n      <td>NaT</td>\n      <td>10</td>\n      <td>EUR</td>\n      <td>5272800.00</td>\n      <td>EUR</td>\n      <td>5272800.0</td>\n      <td>Closed Lost</td>\n      <td>Prod_Category_A_None</td>\n    </tr>\n    <tr>\n      <th>27760</th>\n      <td>EMEA</td>\n      <td>None</td>\n      <td>0</td>\n      <td>0</td>\n      <td>0</td>\n      <td>0</td>\n      <td>0</td>\n      <td>Bureaucratic_Code_4</td>\n      <td>6/16/2015</td>\n      <td>None</td>\n      <td>...</td>\n      <td>Q1</td>\n      <td>2016</td>\n      <td>NaT</td>\n      <td>0</td>\n      <td>EUR</td>\n      <td>48230.00</td>\n      <td>EUR</td>\n      <td>48230.0</td>\n      <td>Closed Won</td>\n      <td>Prod_Category_A_None</td>\n    </tr>\n    <tr>\n      <th>27446</th>\n      <td>Americas</td>\n      <td>NW America</td>\n      <td>0</td>\n      <td>0</td>\n      <td>0</td>\n      <td>0</td>\n      <td>0</td>\n      <td>Bureaucratic_Code_4</td>\n      <td>4/21/2015</td>\n      <td>Source_7</td>\n      <td>...</td>\n      <td>Q1</td>\n      <td>2016</td>\n      <td>NaT</td>\n      <td>0</td>\n      <td>USD</td>\n      <td>83865.60</td>\n      <td>USD</td>\n      <td>83865.6</td>\n      <td>Closed Won</td>\n      <td>Prod_Category_A_None</td>\n    </tr>\n    <tr>\n      <th>16808</th>\n      <td>Americas</td>\n      <td>NW America</td>\n      <td>1</td>\n      <td>0</td>\n      <td>1</td>\n      <td>0</td>\n      <td>0</td>\n      <td>Bureaucratic_Code_5</td>\n      <td>7/27/2013</td>\n      <td>Source_11</td>\n      <td>...</td>\n      <td>Q1</td>\n      <td>2018</td>\n      <td>NaT</td>\n      <td>14</td>\n      <td>USD</td>\n      <td>7421881.50</td>\n      <td>USD</td>\n      <td>7421881.5</td>\n      <td>Closed Lost</td>\n      <td>Prod_Category_A_None</td>\n    </tr>\n    <tr>\n      <th>16805</th>\n      <td>Americas</td>\n      <td>NW America</td>\n      <td>1</td>\n      <td>0</td>\n      <td>1</td>\n      <td>0</td>\n      <td>0</td>\n      <td>Bureaucratic_Code_5</td>\n      <td>7/27/2013</td>\n      <td>Source_11</td>\n      <td>...</td>\n      <td>Q1</td>\n      <td>2018</td>\n      <td>NaT</td>\n      <td>25</td>\n      <td>USD</td>\n      <td>13357192.50</td>\n      <td>USD</td>\n      <td>13357192.5</td>\n      <td>Closed Lost</td>\n      <td>Prod_Category_A_None</td>\n    </tr>\n    <tr>\n      <th>...</th>\n      <td>...</td>\n      <td>...</td>\n      <td>...</td>\n      <td>...</td>\n      <td>...</td>\n      <td>...</td>\n      <td>...</td>\n      <td>...</td>\n      <td>...</td>\n      <td>...</td>\n      <td>...</td>\n      <td>...</td>\n      <td>...</td>\n      <td>...</td>\n      <td>...</td>\n      <td>...</td>\n      <td>...</td>\n      <td>...</td>\n      <td>...</td>\n      <td>...</td>\n      <td>...</td>\n    </tr>\n    <tr>\n      <th>8781</th>\n      <td>EMEA</td>\n      <td>Austria</td>\n      <td>1</td>\n      <td>1</td>\n      <td>1</td>\n      <td>1</td>\n      <td>0</td>\n      <td>Bureaucratic_Code_4</td>\n      <td>1/15/2016</td>\n      <td>Source_7</td>\n      <td>...</td>\n      <td>Q1</td>\n      <td>2016</td>\n      <td>NaT</td>\n      <td>0</td>\n      <td>EUR</td>\n      <td>103350.00</td>\n      <td>EUR</td>\n      <td>299715.0</td>\n      <td>Closed Won</td>\n      <td>Prod_Category_A_None</td>\n    </tr>\n    <tr>\n      <th>8786</th>\n      <td>EMEA</td>\n      <td>Austria</td>\n      <td>1</td>\n      <td>1</td>\n      <td>1</td>\n      <td>1</td>\n      <td>0</td>\n      <td>Bureaucratic_Code_4</td>\n      <td>1/15/2016</td>\n      <td>Source_7</td>\n      <td>...</td>\n      <td>Q2</td>\n      <td>2016</td>\n      <td>NaT</td>\n      <td>0</td>\n      <td>EUR</td>\n      <td>93015.00</td>\n      <td>EUR</td>\n      <td>299715.0</td>\n      <td>Closed Won</td>\n      <td>Prod_Category_A_None</td>\n    </tr>\n    <tr>\n      <th>8792</th>\n      <td>EMEA</td>\n      <td>Austria</td>\n      <td>1</td>\n      <td>1</td>\n      <td>1</td>\n      <td>1</td>\n      <td>0</td>\n      <td>Bureaucratic_Code_4</td>\n      <td>1/15/2016</td>\n      <td>Source_7</td>\n      <td>...</td>\n      <td>Q1</td>\n      <td>2016</td>\n      <td>NaT</td>\n      <td>0</td>\n      <td>EUR</td>\n      <td>103350.00</td>\n      <td>EUR</td>\n      <td>299715.0</td>\n      <td>Closed Won</td>\n      <td>Prod_Category_A_None</td>\n    </tr>\n    <tr>\n      <th>28561</th>\n      <td>Americas</td>\n      <td>NE America</td>\n      <td>1</td>\n      <td>1</td>\n      <td>1</td>\n      <td>1</td>\n      <td>0</td>\n      <td>Bureaucratic_Code_4</td>\n      <td>10/20/2015</td>\n      <td>None</td>\n      <td>...</td>\n      <td>Q2</td>\n      <td>2016</td>\n      <td>NaT</td>\n      <td>4</td>\n      <td>USD</td>\n      <td>2346796.88</td>\n      <td>USD</td>\n      <td>0.0</td>\n      <td>Closed Lost</td>\n      <td>Prod_Category_A_None</td>\n    </tr>\n    <tr>\n      <th>28318</th>\n      <td>Americas</td>\n      <td>NE America</td>\n      <td>1</td>\n      <td>1</td>\n      <td>1</td>\n      <td>1</td>\n      <td>0</td>\n      <td>Bureaucratic_Code_4</td>\n      <td>9/3/2015</td>\n      <td>None</td>\n      <td>...</td>\n      <td>Q3</td>\n      <td>2016</td>\n      <td>NaT</td>\n      <td>40</td>\n      <td>USD</td>\n      <td>25603200.00</td>\n      <td>USD</td>\n      <td>0.0</td>\n      <td>Closed Lost</td>\n      <td>Prod_Category_A_None</td>\n    </tr>\n  </tbody>\n</table>\n<p>16947 rows × 51 columns</p>\n</div>"
     },
     "execution_count": 64,
     "metadata": {},
     "output_type": "execute_result"
    }
   ],
   "source": [
    "df = df.set_index(\"ID\")\n",
    "df"
   ],
   "metadata": {
    "collapsed": false,
    "pycharm": {
     "name": "#%%\n"
    }
   }
  },
  {
   "cell_type": "code",
   "execution_count": 65,
   "outputs": [
    {
     "name": "stdout",
     "output_type": "stream",
     "text": [
      "<class 'pandas.core.frame.DataFrame'>\n",
      "Int64Index: 16947 entries, 27761 to 28318\n",
      "Data columns (total 51 columns):\n",
      " #   Column                              Non-Null Count  Dtype  \n",
      "---  ------                              --------------  -----  \n",
      " 0   Region                              16947 non-null  object \n",
      " 1   Territory                           16947 non-null  object \n",
      " 2   Pricing, Delivery_Terms_Quote_Appr  16947 non-null  int64  \n",
      " 3   Pricing, Delivery_Terms_Approved    16947 non-null  int64  \n",
      " 4   Bureaucratic_Code_0_Approval        16947 non-null  int64  \n",
      " 5   Bureaucratic_Code_0_Approved        16947 non-null  int64  \n",
      " 6   Submitted_for_Approval              16947 non-null  int64  \n",
      " 7   Bureaucratic_Code                   16947 non-null  object \n",
      " 8   Account_Created_Date                16947 non-null  object \n",
      " 9   Source                              16947 non-null  object \n",
      " 10  Billing_Country                     16947 non-null  object \n",
      " 11  Account_Name                        16947 non-null  object \n",
      " 12  Opportunity_Name                    16947 non-null  object \n",
      " 13  Opportunity_ID                      16947 non-null  int64  \n",
      " 14  Sales_Contract_No                   16947 non-null  object \n",
      " 15  Account_Owner                       16947 non-null  object \n",
      " 16  Opportunity_Owner                   16947 non-null  object \n",
      " 17  Account_Type                        16947 non-null  object \n",
      " 18  Opportunity_Type                    16947 non-null  object \n",
      " 19  Quote_Type                          16947 non-null  object \n",
      " 20  Delivery_Terms                      16947 non-null  object \n",
      " 21  Opportunity_Created_Date            16947 non-null  object \n",
      " 22  Brand                               16947 non-null  object \n",
      " 23  Product_Type                        16947 non-null  object \n",
      " 24  Size                                16947 non-null  object \n",
      " 25  Product_Category_B                  16947 non-null  object \n",
      " 26  Price                               16947 non-null  object \n",
      " 27  Currency                            16947 non-null  object \n",
      " 28  Last_Activity                       16947 non-null  object \n",
      " 29  Quote_Expiry_Date                   16947 non-null  object \n",
      " 30  Last_Modified_Date                  16947 non-null  object \n",
      " 31  Last_Modified_By                    16947 non-null  object \n",
      " 32  Product_Family                      16947 non-null  object \n",
      " 33  Product_Name                        16947 non-null  object \n",
      " 34  ASP_Currency                        16947 non-null  object \n",
      " 35  ASP                                 13738 non-null  float64\n",
      " 36  ASP_(converted)_Currency            16947 non-null  object \n",
      " 37  ASP_(converted)                     13738 non-null  float64\n",
      " 38  Planned_Delivery_Start_Date         16947 non-null  object \n",
      " 39  Planned_Delivery_End_Date           16947 non-null  object \n",
      " 40  Month                               16947 non-null  object \n",
      " 41  Delivery_Quarter                    16947 non-null  object \n",
      " 42  Delivery_Year                       16947 non-null  int64  \n",
      " 43  Actual_Delivery_Date                16947 non-null  object \n",
      " 44  TRF                                 16947 non-null  int64  \n",
      " 45  Total_Amount_Currency               16947 non-null  object \n",
      " 46  Total_Amount                        16888 non-null  float64\n",
      " 47  Total_Taxable_Amount_Currency       16947 non-null  object \n",
      " 48  Total_Taxable_Amount                16947 non-null  float64\n",
      " 49  Stage                               16947 non-null  object \n",
      " 50  Prod_Category_A                     16947 non-null  object \n",
      "dtypes: float64(4), int64(8), object(39)\n",
      "memory usage: 4.2+ MB\n"
     ]
    }
   ],
   "source": [
    "df.info()"
   ],
   "metadata": {
    "collapsed": false,
    "pycharm": {
     "name": "#%%\n"
    }
   }
  },
  {
   "cell_type": "markdown",
   "source": [
    "Hay muchas columnas como object que deberían ser date.\n",
    "Y muchas como int64 que deberían ser bool.\n",
    "(calculo... Argerich hace cosas raras con 1s y 0s.)\n",
    "Y muchas como object que deberían ser categorical."
   ],
   "metadata": {
    "collapsed": false,
    "pycharm": {
     "name": "#%% md\n"
    }
   }
  },
  {
   "cell_type": "code",
   "execution_count": 118,
   "outputs": [],
   "source": [
    "# Las date van directo como lista como parámetro para parse_dates\n",
    "date_columns = ['Account_Created_Date',\n",
    "                'Opportunity_Created_Date',\n",
    "                'Quote_Expiry_Date',\n",
    "                'Last_Modified_Date',\n",
    "                'Planned_Delivery_Start_Date',\n",
    "                'Planned_Delivery_End_Date',\n",
    "                'Actual_Delivery_Date',\n",
    "                'Last_Activity']\n",
    "\n",
    "# El resto va como dict. Las voy sumando de a uno al dict 'types'.\n",
    "bool_columns = ['Pricing, Delivery_Terms_Quote_Appr',\n",
    "                'Pricing, Delivery_Terms_Approved',\n",
    "                'Bureaucratic_Code_0_Approval',\n",
    "                'Bureaucratic_Code_0_Approved',\n",
    "                'Submitted_for_Approval']\n",
    "types = {col:\"bool\" for col in bool_columns}\n",
    "\n",
    "# int_columns = [\"Sales_Contract_No\"]\n",
    "# types.update({col:\"int64\" for col in int_columns})\n",
    "\n",
    "categorical_columns = [\n",
    "    \"Region\",\n",
    "    \"Territory\",\n",
    "    \"Bureaucratic_Code\",\n",
    "    \"Source \",\n",
    "    \"Billing_Country\",\n",
    "    \"Account_Name\",\n",
    "    \"Opportunity_Name\",\n",
    "    \"Account_Owner\",\n",
    "    \"Opportunity_Owner\",\n",
    "    \"Account_Type\",\n",
    "    \"Opportunity_Type\",\n",
    "    \"Quote_Type\",\n",
    "    \"Delivery_Terms\",\n",
    "    \"Brand\",\n",
    "    \"Product_Type\",\n",
    "    \"Size\",\n",
    "    \"Product_Category_B\",\n",
    "    \"Currency\",\n",
    "    \"Last_Modified_By\",\n",
    "    \"Product_Family\",\n",
    "    \"Product_Name\",\n",
    "    \"ASP_Currency\",\n",
    "    \"ASP_(converted)_Currency\",\n",
    "    \"Delivery_Quarter\",\n",
    "    \"Total_Amount_Currency\",\n",
    "    \"Total_Taxable_Amount_Currency\",\n",
    "    \"Stage\",\n",
    "    \"Prod_Category_A\"\n",
    "]\n",
    "types.update({col:\"category\" for col in categorical_columns})"
   ],
   "metadata": {
    "collapsed": false,
    "pycharm": {
     "name": "#%%\n"
    }
   }
  },
  {
   "cell_type": "code",
   "execution_count": 121,
   "outputs": [
    {
     "data": {
      "text/plain": "         Region   Territory  Pricing, Delivery_Terms_Quote_Appr  \\\nID                                                                \n27761      EMEA        None                                True   \n27760      EMEA        None                               False   \n27446  Americas  NW America                               False   \n16808  Americas  NW America                                True   \n16805  Americas  NW America                                True   \n...         ...         ...                                 ...   \n8781       EMEA     Austria                                True   \n8786       EMEA     Austria                                True   \n8792       EMEA     Austria                                True   \n28561  Americas  NE America                                True   \n28318  Americas  NE America                                True   \n\n       Pricing, Delivery_Terms_Approved  Bureaucratic_Code_0_Approval  \\\nID                                                                      \n27761                              True                          True   \n27760                             False                         False   \n27446                             False                         False   \n16808                             False                          True   \n16805                             False                          True   \n...                                 ...                           ...   \n8781                               True                          True   \n8786                               True                          True   \n8792                               True                          True   \n28561                              True                          True   \n28318                              True                          True   \n\n       Bureaucratic_Code_0_Approved  Submitted_for_Approval  \\\nID                                                            \n27761                          True                   False   \n27760                         False                   False   \n27446                         False                   False   \n16808                         False                   False   \n16805                         False                   False   \n...                             ...                     ...   \n8781                           True                   False   \n8786                           True                   False   \n8792                           True                   False   \n28561                          True                   False   \n28318                          True                   False   \n\n         Bureaucratic_Code Account_Created_Date    Source   ...  \\\nID                                                          ...   \n27761  Bureaucratic_Code_4           2015-06-16       None  ...   \n27760  Bureaucratic_Code_4           2015-06-16       None  ...   \n27446  Bureaucratic_Code_4           2015-04-21   Source_7  ...   \n16808  Bureaucratic_Code_5           2013-07-27  Source_11  ...   \n16805  Bureaucratic_Code_5           2013-07-27  Source_11  ...   \n...                    ...                  ...        ...  ...   \n8781   Bureaucratic_Code_4           2016-01-15   Source_7  ...   \n8786   Bureaucratic_Code_4           2016-01-15   Source_7  ...   \n8792   Bureaucratic_Code_4           2016-01-15   Source_7  ...   \n28561  Bureaucratic_Code_4           2015-10-20       None  ...   \n28318  Bureaucratic_Code_4           2015-09-03       None  ...   \n\n      Delivery_Quarter Delivery_Year Actual_Delivery_Date  TRF  \\\nID                                                               \n27761               Q2          2016                  NaT   10   \n27760               Q1          2016                  NaT    0   \n27446               Q1          2016                  NaT    0   \n16808               Q1          2018                  NaT   14   \n16805               Q1          2018                  NaT   25   \n...                ...           ...                  ...  ...   \n8781                Q1          2016                  NaT    0   \n8786                Q2          2016                  NaT    0   \n8792                Q1          2016                  NaT    0   \n28561               Q2          2016                  NaT    4   \n28318               Q3          2016                  NaT   40   \n\n       Total_Amount_Currency Total_Amount Total_Taxable_Amount_Currency  \\\nID                                                                        \n27761                    EUR   5272800.00                           EUR   \n27760                    EUR     48230.00                           EUR   \n27446                    USD     83865.60                           USD   \n16808                    USD   7421881.50                           USD   \n16805                    USD  13357192.50                           USD   \n...                      ...          ...                           ...   \n8781                     EUR    103350.00                           EUR   \n8786                     EUR     93015.00                           EUR   \n8792                     EUR    103350.00                           EUR   \n28561                    USD   2346796.88                           USD   \n28318                    USD  25603200.00                           USD   \n\n      Total_Taxable_Amount        Stage       Prod_Category_A  \nID                                                             \n27761            5272800.0  Closed Lost  Prod_Category_A_None  \n27760              48230.0   Closed Won  Prod_Category_A_None  \n27446              83865.6   Closed Won  Prod_Category_A_None  \n16808            7421881.5  Closed Lost  Prod_Category_A_None  \n16805           13357192.5  Closed Lost  Prod_Category_A_None  \n...                    ...          ...                   ...  \n8781              299715.0   Closed Won  Prod_Category_A_None  \n8786              299715.0   Closed Won  Prod_Category_A_None  \n8792              299715.0   Closed Won  Prod_Category_A_None  \n28561                  0.0  Closed Lost  Prod_Category_A_None  \n28318                  0.0  Closed Lost  Prod_Category_A_None  \n\n[16947 rows x 51 columns]",
      "text/html": "<div>\n<style scoped>\n    .dataframe tbody tr th:only-of-type {\n        vertical-align: middle;\n    }\n\n    .dataframe tbody tr th {\n        vertical-align: top;\n    }\n\n    .dataframe thead th {\n        text-align: right;\n    }\n</style>\n<table border=\"1\" class=\"dataframe\">\n  <thead>\n    <tr style=\"text-align: right;\">\n      <th></th>\n      <th>Region</th>\n      <th>Territory</th>\n      <th>Pricing, Delivery_Terms_Quote_Appr</th>\n      <th>Pricing, Delivery_Terms_Approved</th>\n      <th>Bureaucratic_Code_0_Approval</th>\n      <th>Bureaucratic_Code_0_Approved</th>\n      <th>Submitted_for_Approval</th>\n      <th>Bureaucratic_Code</th>\n      <th>Account_Created_Date</th>\n      <th>Source</th>\n      <th>...</th>\n      <th>Delivery_Quarter</th>\n      <th>Delivery_Year</th>\n      <th>Actual_Delivery_Date</th>\n      <th>TRF</th>\n      <th>Total_Amount_Currency</th>\n      <th>Total_Amount</th>\n      <th>Total_Taxable_Amount_Currency</th>\n      <th>Total_Taxable_Amount</th>\n      <th>Stage</th>\n      <th>Prod_Category_A</th>\n    </tr>\n    <tr>\n      <th>ID</th>\n      <th></th>\n      <th></th>\n      <th></th>\n      <th></th>\n      <th></th>\n      <th></th>\n      <th></th>\n      <th></th>\n      <th></th>\n      <th></th>\n      <th></th>\n      <th></th>\n      <th></th>\n      <th></th>\n      <th></th>\n      <th></th>\n      <th></th>\n      <th></th>\n      <th></th>\n      <th></th>\n      <th></th>\n    </tr>\n  </thead>\n  <tbody>\n    <tr>\n      <th>27761</th>\n      <td>EMEA</td>\n      <td>None</td>\n      <td>True</td>\n      <td>True</td>\n      <td>True</td>\n      <td>True</td>\n      <td>False</td>\n      <td>Bureaucratic_Code_4</td>\n      <td>2015-06-16</td>\n      <td>None</td>\n      <td>...</td>\n      <td>Q2</td>\n      <td>2016</td>\n      <td>NaT</td>\n      <td>10</td>\n      <td>EUR</td>\n      <td>5272800.00</td>\n      <td>EUR</td>\n      <td>5272800.0</td>\n      <td>Closed Lost</td>\n      <td>Prod_Category_A_None</td>\n    </tr>\n    <tr>\n      <th>27760</th>\n      <td>EMEA</td>\n      <td>None</td>\n      <td>False</td>\n      <td>False</td>\n      <td>False</td>\n      <td>False</td>\n      <td>False</td>\n      <td>Bureaucratic_Code_4</td>\n      <td>2015-06-16</td>\n      <td>None</td>\n      <td>...</td>\n      <td>Q1</td>\n      <td>2016</td>\n      <td>NaT</td>\n      <td>0</td>\n      <td>EUR</td>\n      <td>48230.00</td>\n      <td>EUR</td>\n      <td>48230.0</td>\n      <td>Closed Won</td>\n      <td>Prod_Category_A_None</td>\n    </tr>\n    <tr>\n      <th>27446</th>\n      <td>Americas</td>\n      <td>NW America</td>\n      <td>False</td>\n      <td>False</td>\n      <td>False</td>\n      <td>False</td>\n      <td>False</td>\n      <td>Bureaucratic_Code_4</td>\n      <td>2015-04-21</td>\n      <td>Source_7</td>\n      <td>...</td>\n      <td>Q1</td>\n      <td>2016</td>\n      <td>NaT</td>\n      <td>0</td>\n      <td>USD</td>\n      <td>83865.60</td>\n      <td>USD</td>\n      <td>83865.6</td>\n      <td>Closed Won</td>\n      <td>Prod_Category_A_None</td>\n    </tr>\n    <tr>\n      <th>16808</th>\n      <td>Americas</td>\n      <td>NW America</td>\n      <td>True</td>\n      <td>False</td>\n      <td>True</td>\n      <td>False</td>\n      <td>False</td>\n      <td>Bureaucratic_Code_5</td>\n      <td>2013-07-27</td>\n      <td>Source_11</td>\n      <td>...</td>\n      <td>Q1</td>\n      <td>2018</td>\n      <td>NaT</td>\n      <td>14</td>\n      <td>USD</td>\n      <td>7421881.50</td>\n      <td>USD</td>\n      <td>7421881.5</td>\n      <td>Closed Lost</td>\n      <td>Prod_Category_A_None</td>\n    </tr>\n    <tr>\n      <th>16805</th>\n      <td>Americas</td>\n      <td>NW America</td>\n      <td>True</td>\n      <td>False</td>\n      <td>True</td>\n      <td>False</td>\n      <td>False</td>\n      <td>Bureaucratic_Code_5</td>\n      <td>2013-07-27</td>\n      <td>Source_11</td>\n      <td>...</td>\n      <td>Q1</td>\n      <td>2018</td>\n      <td>NaT</td>\n      <td>25</td>\n      <td>USD</td>\n      <td>13357192.50</td>\n      <td>USD</td>\n      <td>13357192.5</td>\n      <td>Closed Lost</td>\n      <td>Prod_Category_A_None</td>\n    </tr>\n    <tr>\n      <th>...</th>\n      <td>...</td>\n      <td>...</td>\n      <td>...</td>\n      <td>...</td>\n      <td>...</td>\n      <td>...</td>\n      <td>...</td>\n      <td>...</td>\n      <td>...</td>\n      <td>...</td>\n      <td>...</td>\n      <td>...</td>\n      <td>...</td>\n      <td>...</td>\n      <td>...</td>\n      <td>...</td>\n      <td>...</td>\n      <td>...</td>\n      <td>...</td>\n      <td>...</td>\n      <td>...</td>\n    </tr>\n    <tr>\n      <th>8781</th>\n      <td>EMEA</td>\n      <td>Austria</td>\n      <td>True</td>\n      <td>True</td>\n      <td>True</td>\n      <td>True</td>\n      <td>False</td>\n      <td>Bureaucratic_Code_4</td>\n      <td>2016-01-15</td>\n      <td>Source_7</td>\n      <td>...</td>\n      <td>Q1</td>\n      <td>2016</td>\n      <td>NaT</td>\n      <td>0</td>\n      <td>EUR</td>\n      <td>103350.00</td>\n      <td>EUR</td>\n      <td>299715.0</td>\n      <td>Closed Won</td>\n      <td>Prod_Category_A_None</td>\n    </tr>\n    <tr>\n      <th>8786</th>\n      <td>EMEA</td>\n      <td>Austria</td>\n      <td>True</td>\n      <td>True</td>\n      <td>True</td>\n      <td>True</td>\n      <td>False</td>\n      <td>Bureaucratic_Code_4</td>\n      <td>2016-01-15</td>\n      <td>Source_7</td>\n      <td>...</td>\n      <td>Q2</td>\n      <td>2016</td>\n      <td>NaT</td>\n      <td>0</td>\n      <td>EUR</td>\n      <td>93015.00</td>\n      <td>EUR</td>\n      <td>299715.0</td>\n      <td>Closed Won</td>\n      <td>Prod_Category_A_None</td>\n    </tr>\n    <tr>\n      <th>8792</th>\n      <td>EMEA</td>\n      <td>Austria</td>\n      <td>True</td>\n      <td>True</td>\n      <td>True</td>\n      <td>True</td>\n      <td>False</td>\n      <td>Bureaucratic_Code_4</td>\n      <td>2016-01-15</td>\n      <td>Source_7</td>\n      <td>...</td>\n      <td>Q1</td>\n      <td>2016</td>\n      <td>NaT</td>\n      <td>0</td>\n      <td>EUR</td>\n      <td>103350.00</td>\n      <td>EUR</td>\n      <td>299715.0</td>\n      <td>Closed Won</td>\n      <td>Prod_Category_A_None</td>\n    </tr>\n    <tr>\n      <th>28561</th>\n      <td>Americas</td>\n      <td>NE America</td>\n      <td>True</td>\n      <td>True</td>\n      <td>True</td>\n      <td>True</td>\n      <td>False</td>\n      <td>Bureaucratic_Code_4</td>\n      <td>2015-10-20</td>\n      <td>None</td>\n      <td>...</td>\n      <td>Q2</td>\n      <td>2016</td>\n      <td>NaT</td>\n      <td>4</td>\n      <td>USD</td>\n      <td>2346796.88</td>\n      <td>USD</td>\n      <td>0.0</td>\n      <td>Closed Lost</td>\n      <td>Prod_Category_A_None</td>\n    </tr>\n    <tr>\n      <th>28318</th>\n      <td>Americas</td>\n      <td>NE America</td>\n      <td>True</td>\n      <td>True</td>\n      <td>True</td>\n      <td>True</td>\n      <td>False</td>\n      <td>Bureaucratic_Code_4</td>\n      <td>2015-09-03</td>\n      <td>None</td>\n      <td>...</td>\n      <td>Q3</td>\n      <td>2016</td>\n      <td>NaT</td>\n      <td>40</td>\n      <td>USD</td>\n      <td>25603200.00</td>\n      <td>USD</td>\n      <td>0.0</td>\n      <td>Closed Lost</td>\n      <td>Prod_Category_A_None</td>\n    </tr>\n  </tbody>\n</table>\n<p>16947 rows × 51 columns</p>\n</div>"
     },
     "execution_count": 121,
     "metadata": {},
     "output_type": "execute_result"
    }
   ],
   "source": [
    "df = pd.read_csv(\"train.csv\", parse_dates=date_columns, index_col=\"ID\",\n",
    "                 dtype=types)\n",
    "df[\"Sales_Contract_No\"] = pd.to_numeric(\"Sales_Contract_No\", errors=\"coerce\")\n",
    "df"
   ],
   "metadata": {
    "collapsed": false,
    "pycharm": {
     "name": "#%%\n"
    }
   }
  },
  {
   "cell_type": "code",
   "execution_count": 122,
   "outputs": [
    {
     "name": "stdout",
     "output_type": "stream",
     "text": [
      "<class 'pandas.core.frame.DataFrame'>\n",
      "Int64Index: 16947 entries, 27761 to 28318\n",
      "Data columns (total 51 columns):\n",
      " #   Column                              Non-Null Count  Dtype         \n",
      "---  ------                              --------------  -----         \n",
      " 0   Region                              16947 non-null  category      \n",
      " 1   Territory                           16947 non-null  category      \n",
      " 2   Pricing, Delivery_Terms_Quote_Appr  16947 non-null  bool          \n",
      " 3   Pricing, Delivery_Terms_Approved    16947 non-null  bool          \n",
      " 4   Bureaucratic_Code_0_Approval        16947 non-null  bool          \n",
      " 5   Bureaucratic_Code_0_Approved        16947 non-null  bool          \n",
      " 6   Submitted_for_Approval              16947 non-null  bool          \n",
      " 7   Bureaucratic_Code                   16947 non-null  category      \n",
      " 8   Account_Created_Date                16947 non-null  datetime64[ns]\n",
      " 9   Source                              16947 non-null  category      \n",
      " 10  Billing_Country                     16947 non-null  category      \n",
      " 11  Account_Name                        16947 non-null  category      \n",
      " 12  Opportunity_Name                    16947 non-null  category      \n",
      " 13  Opportunity_ID                      16947 non-null  int64         \n",
      " 14  Sales_Contract_No                   0 non-null      float64       \n",
      " 15  Account_Owner                       16947 non-null  category      \n",
      " 16  Opportunity_Owner                   16947 non-null  category      \n",
      " 17  Account_Type                        16947 non-null  category      \n",
      " 18  Opportunity_Type                    16947 non-null  category      \n",
      " 19  Quote_Type                          16947 non-null  category      \n",
      " 20  Delivery_Terms                      16947 non-null  category      \n",
      " 21  Opportunity_Created_Date            16947 non-null  datetime64[ns]\n",
      " 22  Brand                               16947 non-null  category      \n",
      " 23  Product_Type                        16947 non-null  category      \n",
      " 24  Size                                16947 non-null  category      \n",
      " 25  Product_Category_B                  16947 non-null  category      \n",
      " 26  Price                               16947 non-null  object        \n",
      " 27  Currency                            16947 non-null  category      \n",
      " 28  Last_Activity                       0 non-null      datetime64[ns]\n",
      " 29  Quote_Expiry_Date                   12322 non-null  datetime64[ns]\n",
      " 30  Last_Modified_Date                  16947 non-null  datetime64[ns]\n",
      " 31  Last_Modified_By                    16947 non-null  category      \n",
      " 32  Product_Family                      16947 non-null  category      \n",
      " 33  Product_Name                        16947 non-null  category      \n",
      " 34  ASP_Currency                        16947 non-null  category      \n",
      " 35  ASP                                 13738 non-null  float64       \n",
      " 36  ASP_(converted)_Currency            16947 non-null  category      \n",
      " 37  ASP_(converted)                     13738 non-null  float64       \n",
      " 38  Planned_Delivery_Start_Date         16947 non-null  datetime64[ns]\n",
      " 39  Planned_Delivery_End_Date           16872 non-null  datetime64[ns]\n",
      " 40  Month                               16947 non-null  object        \n",
      " 41  Delivery_Quarter                    16947 non-null  category      \n",
      " 42  Delivery_Year                       16947 non-null  int64         \n",
      " 43  Actual_Delivery_Date                0 non-null      datetime64[ns]\n",
      " 44  TRF                                 16947 non-null  int64         \n",
      " 45  Total_Amount_Currency               16947 non-null  category      \n",
      " 46  Total_Amount                        16888 non-null  float64       \n",
      " 47  Total_Taxable_Amount_Currency       16947 non-null  category      \n",
      " 48  Total_Taxable_Amount                16947 non-null  float64       \n",
      " 49  Stage                               16947 non-null  category      \n",
      " 50  Prod_Category_A                     16947 non-null  category      \n",
      "dtypes: bool(5), category(28), datetime64[ns](8), float64(5), int64(3), object(2)\n",
      "memory usage: 3.2+ MB\n"
     ]
    }
   ],
   "source": [
    "df.info()"
   ],
   "metadata": {
    "collapsed": false,
    "pycharm": {
     "name": "#%%\n"
    }
   }
  },
  {
   "cell_type": "code",
   "execution_count": null,
   "outputs": [],
   "source": [],
   "metadata": {
    "collapsed": false,
    "pycharm": {
     "name": "#%%\n"
    }
   }
  }
 ],
 "metadata": {
  "kernelspec": {
   "display_name": "Python 3",
   "language": "python",
   "name": "python3"
  },
  "language_info": {
   "codemirror_mode": {
    "name": "ipython",
    "version": 3
   },
   "file_extension": ".py",
   "mimetype": "text/x-python",
   "name": "python",
   "nbconvert_exporter": "python",
   "pygments_lexer": "ipython3",
   "version": "3.8.3"
  }
 },
 "nbformat": 4,
 "nbformat_minor": 1
}